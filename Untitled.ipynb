{
 "cells": [
  {
   "cell_type": "code",
   "execution_count": null,
   "id": "ed969286-c04e-499d-9339-6ab95f489e13",
   "metadata": {},
   "outputs": [],
   "source": [
    "a=[1,2,3,4,5]"
   ]
  },
  {
   "cell_type": "code",
   "execution_count": null,
   "id": "319730e4-6f79-4d05-9a82-a4033a9d3402",
   "metadata": {},
   "outputs": [],
   "source": [
    "b=[2,1,5,3,4]"
   ]
  },
  {
   "cell_type": "code",
   "execution_count": null,
   "id": "82a69333-05bd-4a22-9106-96bd453b195a",
   "metadata": {},
   "outputs": [],
   "source": [
    "f=[1,1,2,2,3,4,6,7]\n",
    "print(f)"
   ]
  },
  {
   "cell_type": "code",
   "execution_count": null,
   "id": "1864ab72-2514-49aa-b5dd-c30563b4f9b5",
   "metadata": {},
   "outputs": [],
   "source": [
    "len(f)"
   ]
  },
  {
   "cell_type": "code",
   "execution_count": null,
   "id": "62d6c18e-1c79-42ad-8a4b-30fac056c6f9",
   "metadata": {},
   "outputs": [],
   "source": [
    "nums1=[1,2,3,0,0,0]\n",
    "#m=3\n",
    "nums2=[2,5,6]\n",
    "#n=3\n",
    "\n",
    "#nums1=[1,2,2,3,5,6]"
   ]
  },
  {
   "cell_type": "code",
   "execution_count": null,
   "id": "d3d90fe3-b6d5-46f6-9d7b-67a9a405df6b",
   "metadata": {},
   "outputs": [],
   "source": [
    "\"\"\"\n",
    "    1. All no in order\n",
    "    2. num1 it should contain final merge\n",
    "    3. no new array to be created\n",
    "\"\"\""
   ]
  },
  {
   "cell_type": "code",
   "execution_count": 3,
   "id": "1dd9874f-3135-4afe-a5a6-4eb2b3908522",
   "metadata": {},
   "outputs": [],
   "source": [
    "nums1=[1,2,3,0,0,0]\n",
    "m=3\n",
    "nums2=[2,5,6]\n",
    "n=3\n"
   ]
  },
  {
   "cell_type": "code",
   "execution_count": 5,
   "id": "05538912-f329-4af9-90ee-1bc9751a9c19",
   "metadata": {},
   "outputs": [],
   "source": [
    "def merging(nums1,m,nums2,n):\n",
    "    i = m-1\n",
    "    j = n-1\n",
    "    k = m + n - 1\n",
    "    while i >= 0 and j >= 0:\n",
    "        if nums1[i] > nums2[j]:\n",
    "            nums1[k] = nums1[i]\n",
    "            i -= 1\n",
    "        else:\n",
    "            nums1[k] = nums2[j]\n",
    "            j -= 1\n",
    "        k -= 1\n",
    "\n",
    "    #if nums2 has elements which is left copy them\n",
    "    while j >= 0:\n",
    "        nums[k] = nums2[j]\n",
    "        j -= 1\n",
    "        k -= 1"
   ]
  },
  {
   "cell_type": "code",
   "execution_count": 17,
   "id": "0885781c-26d8-47bf-88eb-2ee9e8e161db",
   "metadata": {},
   "outputs": [
    {
     "name": "stdout",
     "output_type": "stream",
     "text": [
      "[1, 2, 2, 3, 5, 6]\n"
     ]
    }
   ],
   "source": [
    "nums1=[1,2,3,0,0,0]\n",
    "m=3\n",
    "nums2=[2,5,6]\n",
    "n=3\n",
    "merging(nums1,m,nums2,n)\n",
    "print(nums1)"
   ]
  },
  {
   "cell_type": "code",
   "execution_count": 19,
   "id": "527260ef-8350-466b-9d23-c8bd629d0c46",
   "metadata": {},
   "outputs": [
    {
     "name": "stdout",
     "output_type": "stream",
     "text": [
      "[1]\n"
     ]
    }
   ],
   "source": [
    "nums1 = [1]\n",
    "m = 1\n",
    "nums2 = []\n",
    "n = 0\n",
    "merging(nums1,m,nums2,n)\n",
    "print(nums1)"
   ]
  }
 ],
 "metadata": {
  "kernelspec": {
   "display_name": "Python [conda env:base] *",
   "language": "python",
   "name": "conda-base-py"
  },
  "language_info": {
   "codemirror_mode": {
    "name": "ipython",
    "version": 3
   },
   "file_extension": ".py",
   "mimetype": "text/x-python",
   "name": "python",
   "nbconvert_exporter": "python",
   "pygments_lexer": "ipython3",
   "version": "3.12.7"
  }
 },
 "nbformat": 4,
 "nbformat_minor": 5
}
