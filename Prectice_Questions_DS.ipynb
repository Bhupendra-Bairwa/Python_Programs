{
 "cells": [
  {
   "cell_type": "markdown",
   "id": "293584ba-146d-4a4c-bdc7-9557e2ea3069",
   "metadata": {},
   "source": [
    "# Prectice Questions"
   ]
  },
  {
   "cell_type": "markdown",
   "id": "4b774e52-b06b-4571-aa0b-c568b7f06bb9",
   "metadata": {
    "jp-MarkdownHeadingCollapsed": true
   },
   "source": [
    "# Question 1"
   ]
  },
  {
   "cell_type": "code",
   "execution_count": null,
   "id": "9481c0a0-7d87-47cc-9657-93b690e50ed9",
   "metadata": {},
   "outputs": [],
   "source": [
    "\"\"\" You are developing a program for a math competition where participants \n",
    "need to solve mathematical expressions and provide the result \n",
    "You want to use Python to automate the evaluation process. \n",
    "Here's how you could approach it: \n",
    "1) Take input from the participant to enter a mathematical expression \n",
    "2) evaluate the expression entered by the participant and obtain the result. \n",
    "3) Display the result to the participant. \n",
    "\"\"\""
   ]
  },
  {
   "cell_type": "code",
   "execution_count": 5,
   "id": "1929e212-0b30-4795-aca2-5ae8cd11caa5",
   "metadata": {},
   "outputs": [
    {
     "name": "stdin",
     "output_type": "stream",
     "text": [
      "Enter the mathematical expression 25*45+96-52*3/2.4\n"
     ]
    },
    {
     "name": "stdout",
     "output_type": "stream",
     "text": [
      "The result of the expression is:  1156.0\n",
      "Thankyou for participating in the maths compatation\n"
     ]
    }
   ],
   "source": [
    "expression = input(\"Enter the mathematical expression\")\n",
    "result = eval(expression)\n",
    "print(\"The result of the expression is: \",result)\n",
    "print(\"Thankyou for participating in the maths compatation\")"
   ]
  },
  {
   "cell_type": "markdown",
   "id": "a87551bc-2aae-4418-88b8-5c84dbb537ce",
   "metadata": {
    "jp-MarkdownHeadingCollapsed": true
   },
   "source": [
    "# Question 2"
   ]
  },
  {
   "cell_type": "code",
   "execution_count": null,
   "id": "abe32455-6094-49de-9909-d273ccac0834",
   "metadata": {},
   "outputs": [],
   "source": [
    "\"\"\" Suppose you're analyzing a dataset containing information. about house prices in a city. \n",
    "Each record includes details. such as the house size (in square feet), number of bedrooms, and price.\n",
    "You want to perform various calculations and manipulations on this dataset using Python. \n",
    "Answer the following questions: \n",
    "1) Ask the user 1 & 2 to enter house size, number of rooms they want and Check the data type user has entered \n",
    "2) Calculate the price of house, if per sq feet is Rs 5000. \n",
    "3) Threshold price is 75 lakh Rs, which user is paying the price above threshold price. \n",
    "\"\"\""
   ]
  },
  {
   "cell_type": "code",
   "execution_count": 8,
   "id": "3b8a9383-8c95-4d18-890a-da4a6f484ff3",
   "metadata": {},
   "outputs": [
    {
     "name": "stdin",
     "output_type": "stream",
     "text": [
      "Enter the size of the house  1500\n",
      "Enter the number of the badrooms  2\n",
      "Enter the budget  5000000\n",
      "Enter the size of the house  3000\n",
      "Enter the number of the badrooms  4\n",
      "Enter the budget  8000000\n"
     ]
    },
    {
     "name": "stdout",
     "output_type": "stream",
     "text": [
      "The price of the house for user 1 is:  7500000.0\n",
      "The price of the house for user 2 is:  15000000.0\n",
      "user 1 is paying above threshold: {True}\n",
      "user 2 is paying above threshold: {True}\n"
     ]
    }
   ],
   "source": [
    "# user 1\n",
    "house_size1 = float(input(\"Enter the size of the house \"))\n",
    "badroom1 = int(input(\"Enter the number of the badrooms \"))\n",
    "price_1 = float(input(\"Enter the budget \"))\n",
    "\n",
    "# user 2\n",
    "house_size_2 = float(input(\"Enter the size of the house \"))\n",
    "badroom_2 = int(input(\"Enter the number of the badrooms \"))\n",
    "price_2 = float(input(\"Enter the budget \"))\n",
    "\n",
    "# calculation of house price per square feet\n",
    "house_price_1 = house_size1 * 5000\n",
    "print(\"The price of the house for user 1 is: \",house_price_1)\n",
    "\n",
    "house_price_2 = house_size_2 * 5000\n",
    "print(\"The price of the house for user 2 is: \",house_price_2)\n",
    "\n",
    "# compare the price with threshold price\n",
    "threshold = 7500000\n",
    "user1_threshold = house_price_1 >= 7500000\n",
    "user2_threshold = house_price_2 >= 7500000\n",
    "\n",
    "print(f\"user 1 is paying above threshold:\",{user1_threshold})\n",
    "print(f\"user 2 is paying above threshold:\",{user2_threshold})"
   ]
  },
  {
   "cell_type": "markdown",
   "id": "749542fa-08ff-47e1-90fa-7fc68622dcc2",
   "metadata": {
    "jp-MarkdownHeadingCollapsed": true
   },
   "source": [
    "# Question 3"
   ]
  },
  {
   "cell_type": "code",
   "execution_count": null,
   "id": "1b0984ee-9cfb-4385-a1b9-73cd9d5cfc36",
   "metadata": {},
   "outputs": [],
   "source": [
    "\"\"\" You are working on a project to analyze stock market data. \n",
    "Create variables to store the stock symbol, current price, and percentage change in price.\n",
    "Then, calculate the new price after a 10% increase using arithmetic operators. \n",
    "Finally, prompt the user to enter their budget using the input() function, \n",
    "convert it to a float using the float() function, and compare it with the new price \n",
    "\"\"\""
   ]
  },
  {
   "cell_type": "code",
   "execution_count": 5,
   "id": "8f2c9b41-9bac-42d7-9dcd-0045b160fe34",
   "metadata": {},
   "outputs": [
    {
     "name": "stdout",
     "output_type": "stream",
     "text": [
      "The new price of the stoke is:  110.00000000000001\n"
     ]
    },
    {
     "name": "stdin",
     "output_type": "stream",
     "text": [
      "Enter your budget 500\n"
     ]
    },
    {
     "name": "stdout",
     "output_type": "stream",
     "text": [
      "user budget is greater than new price:  True\n"
     ]
    }
   ],
   "source": [
    "stoke_symbol = \"xyz\"\n",
    "current_price = 100\n",
    "percent_change = 10\n",
    "new_price = current_price*(1+percent_change/100)\n",
    "print(\"The new price of the stoke is: \",new_price)\n",
    "\n",
    "user_budget = int(input(\"Enter your budget\"))\n",
    "a = user_budget >= new_price\n",
    "print(\"user budget is greater than new price: \",a)"
   ]
  },
  {
   "cell_type": "markdown",
   "id": "648c358b-946a-4071-9314-08912ec112d9",
   "metadata": {
    "jp-MarkdownHeadingCollapsed": true
   },
   "source": [
    "# Question 4"
   ]
  },
  {
   "cell_type": "code",
   "execution_count": null,
   "id": "574a13d1-c12e-44ec-8284-7c007050b703",
   "metadata": {},
   "outputs": [],
   "source": [
    "\"\"\" You are working on a project to analyze weather data.. Create variables to store the \n",
    "current temperature, the minimum temperature record, and the maximum temperature recorded.\n",
    "Determine whether the current temperature is within the range of the minimum and maximum\n",
    "temperatures recorded using logical operators \n",
    "\"\"\""
   ]
  },
  {
   "cell_type": "code",
   "execution_count": 8,
   "id": "fa4ee499-8da5-405e-8334-33e4d35ad490",
   "metadata": {},
   "outputs": [
    {
     "name": "stdin",
     "output_type": "stream",
     "text": [
      "enter the current temprature  18\n",
      "enter the minimum temprature  20\n",
      "enter the maximum temprature  40\n"
     ]
    },
    {
     "name": "stdout",
     "output_type": "stream",
     "text": [
      "the current temprature is between minimum and maximum temprature False\n"
     ]
    }
   ],
   "source": [
    "current_temp = float(input(\"enter the current temprature \"))\n",
    "min_temp = float(input(\"enter the minimum temprature \"))\n",
    "max_temp = float(input(\"enter the maximum temprature \"))\n",
    "\n",
    "check_temp = current_temp > min_temp and current_temp < max_temp\n",
    "\n",
    "print(\"the current temprature is between minimum and maximum temprature\", check_temp)"
   ]
  },
  {
   "cell_type": "markdown",
   "id": "3dcf067f-cfde-4790-8496-958ec12b259a",
   "metadata": {
    "jp-MarkdownHeadingCollapsed": true
   },
   "source": [
    "# Question 5"
   ]
  },
  {
   "cell_type": "code",
   "execution_count": null,
   "id": "dfe2787c-ea4a-48d7-baa4-8cbbf75783ef",
   "metadata": {},
   "outputs": [],
   "source": [
    "\"\"\" You are tasked with creating a program to assist shoppers in calculating their total bill\n",
    "at a grocery store. The store offers discounts based on the total purchase amount.\n",
    "Your task is to implement a Python program that takes the price of each item purchased \n",
    "and calculates the total bill, including any applicable discounts.\n",
    "The store offers the following discount rates based on the total purchase amount: \n",
    "\n",
    "If the total purchase amount is $100 or more, the customer receives a 10% discount.\n",
    "\n",
    "If the total purchase amount is between $50 and $99.99, the customer receives a 5% discount.\n",
    "\n",
    "If the total purchase amount is less than $50, no discount is applied.\n",
    "\n",
    "write a Python program to prompt the user to enter the prices of the items they purchased. \n",
    "Use a for loop to iterate through the prices entered and calculate the subtotal. \n",
    "Apply the appropriate discount based on the total purchase amount using if-else statements. \n",
    "Finally, print out the subtotal, discount amount (if any), and the total bill after applying the discount. \n",
    "\"\"\""
   ]
  },
  {
   "cell_type": "code",
   "execution_count": 3,
   "id": "1db403d6-0a14-4d06-8150-deb6aa8b70c0",
   "metadata": {},
   "outputs": [
    {
     "name": "stdin",
     "output_type": "stream",
     "text": [
      "Enter the number of items purchased  3\n",
      "Enter the price of the item  100\n",
      "Enter the price of the item  350\n",
      "Enter the price of the item  65\n"
     ]
    },
    {
     "name": "stdout",
     "output_type": "stream",
     "text": [
      "subtotal  463.5\n"
     ]
    }
   ],
   "source": [
    "num_items = int(input(\"Enter the number of items purchased \"))\n",
    "total_price = 0\n",
    "\n",
    "for i in range(num_items):\n",
    "    price = float(input(\"Enter the price of the item \"))\n",
    "    total_price += price\n",
    "    i = i+1\n",
    "    \n",
    "if total_price >= 100:\n",
    "    discount = 0.1*total_price\n",
    "elif 50 <= total_price <100:\n",
    "    discount = 0.5*total_price\n",
    "else:\n",
    "    discount = 0\n",
    "    \n",
    "total_bill = total_price - discount\n",
    "print(\"subtotal \",total_bill)"
   ]
  },
  {
   "cell_type": "markdown",
   "id": "b84fb463-13c6-4b06-9f62-cefe178286b2",
   "metadata": {
    "jp-MarkdownHeadingCollapsed": true
   },
   "source": [
    "# Question 6"
   ]
  },
  {
   "cell_type": "code",
   "execution_count": null,
   "id": "92e54ba2-ebbb-4e14-86c5-5d704752e6fe",
   "metadata": {},
   "outputs": [],
   "source": [
    "\"\"\"\n",
    "You are tasked with validating user input for email addresses. write a Python program that\n",
    "prompts the user to enter an email address. Use a while loop to iterate through the input \n",
    "and check if the email address contains an \"@\" symbol and a symbol. If the email address \n",
    "does not meet these criteria, print \"Invalid email address format. \n",
    "Please try again.\" Otherwise, print \"Email address validation passed \n",
    "\"\"\""
   ]
  },
  {
   "cell_type": "code",
   "execution_count": 6,
   "id": "11f688d1-4a00-43b0-88a7-a99b920a452d",
   "metadata": {},
   "outputs": [
    {
     "name": "stdin",
     "output_type": "stream",
     "text": [
      "enter your email id  bhupendalkkjkgmail.com\n"
     ]
    },
    {
     "name": "stdout",
     "output_type": "stream",
     "text": [
      "Your email id is not valid, try again\n"
     ]
    },
    {
     "name": "stdin",
     "output_type": "stream",
     "text": [
      "please enter your mail id bhupendra@gmail.com\n"
     ]
    },
    {
     "name": "stdout",
     "output_type": "stream",
     "text": [
      "Your email id is valid\n"
     ]
    }
   ],
   "source": [
    "email = input(\"enter your email id \")\n",
    "valid_email = False\n",
    "while not valid_email:\n",
    "    if \"@\" in email and \".\" in email:\n",
    "        print(\"Your email id is valid\")\n",
    "        valid_email = True\n",
    "    else:\n",
    "        print(\"Your email id is not valid, try again\")\n",
    "        email = input(\"please enter your mail id\")"
   ]
  },
  {
   "cell_type": "markdown",
   "id": "6a53eb6c-d588-4bd4-a98b-1b48ed8f9d68",
   "metadata": {
    "jp-MarkdownHeadingCollapsed": true
   },
   "source": [
    "# Question 7"
   ]
  },
  {
   "cell_type": "code",
   "execution_count": null,
   "id": "fc3fcde3-1e8f-4695-9285-785801ecb6d5",
   "metadata": {},
   "outputs": [],
   "source": [
    "\"\"\" You are given a dataset of student grades and need to determine the grade distribution. \n",
    "Question: Write Python function grade distribution(grades) that takes a list of integers \n",
    "representing student grades (0-100) Use a loop to count the number of grades in each grade \n",
    "category: 'A' (90-180), 8(00-89), C (70-79), D' (68-69), and (below 50). Use if-elif-else \n",
    "statements within the loop to categorize the grades. Return a dictionary with the counts of \n",
    "each grade category. \n",
    "\"\"\""
   ]
  },
  {
   "cell_type": "code",
   "execution_count": 6,
   "id": "9dc4b9c5-8c43-4c30-8d46-81629216a38c",
   "metadata": {},
   "outputs": [
    {
     "name": "stdout",
     "output_type": "stream",
     "text": [
      "You have got B grade\n",
      "You have got A grade\n",
      "You have got C grade\n",
      "You have got A grade\n",
      "You have got E grade\n",
      "You have got B grade\n",
      "You have got A grade\n",
      "You have got B grade\n",
      "You have got C grade\n",
      "You have got B grade\n",
      "You have got A grade\n",
      "You have got D grade\n",
      "You have got E grade\n"
     ]
    }
   ],
   "source": [
    "def grade_distribution(grades):\n",
    "    \n",
    "    for grade in grades:\n",
    "        if 90 <= grade <=100:\n",
    "            print(\"You have got A grade\")\n",
    "        elif 80 <= grade <=89:\n",
    "            print(\"You have got B grade\")\n",
    "        elif 70 <= grade <=79:\n",
    "            print(\"You have got C grade\")\n",
    "        elif 60 <= grade <=69:\n",
    "            print(\"You have got D grade\")\n",
    "        else:\n",
    "            print(\"You have got E grade\")\n",
    "    return \n",
    "grades = [85,92,78,90,59,88,95,82,79,87,91,67,45]\n",
    "grade_distribution(grades)"
   ]
  },
  {
   "cell_type": "markdown",
   "id": "34a9cf79-1e2a-479d-aa58-862fd84b15ef",
   "metadata": {},
   "source": [
    "# Question 8"
   ]
  },
  {
   "cell_type": "code",
   "execution_count": null,
   "id": "203785a7-b115-42cc-8f92-08ed63a59920",
   "metadata": {},
   "outputs": [],
   "source": [
    "\"\"\" write a user-defined function to process the exam scores and calculate the following statistics: \n",
    "The average exam score. \n",
    "The highest exam score. \n",
    "The lowest exam score. \n",
    "The number of students who passed the exam (assuming a passing score is 60 or above). \n",
    "The number of students who failed the exam. \n",
    "exam scores [85, 92, 78, 90, 88, 95, 82, 79, 87, 91] \n",
    "\"\"\""
   ]
  },
  {
   "cell_type": "code",
   "execution_count": 9,
   "id": "201a41a3-74cd-4a3e-84f8-1981247b4968",
   "metadata": {},
   "outputs": [
    {
     "name": "stdout",
     "output_type": "stream",
     "text": [
      "The Average score is:  86.7\n",
      "The Highest score is:  95\n",
      "The Lowest score is:  78\n",
      "The number of students passed is:  8\n",
      "The number of students failed is:  2\n"
     ]
    }
   ],
   "source": [
    "def calculate_exam_statistics(exam_scores):\n",
    "    num_students = len(exam_scores)\n",
    "    avg_score = sum(exam_scores) / num_students\n",
    "    highest_score = max(exam_scores)\n",
    "    lowest_score = min(exam_scores)\n",
    "\n",
    "    num_passed = 0\n",
    "    for score in exam_scores:\n",
    "        if score >= 80:\n",
    "            num_passed += 1\n",
    "    num_failed = num_students - num_passed\n",
    "\n",
    "    return avg_score, highest_score, lowest_score, num_passed, num_failed\n",
    "\n",
    "exam_scores = [85,92,78,90,88,95,82,79,87,91]\n",
    "avg_score, highest_score, lowest_score, num_passed, num_failed = calculate_exam_statistics(exam_scores)\n",
    "print(\"The Average score is: \",avg_score)\n",
    "print(\"The Highest score is: \",highest_score)\n",
    "print(\"The Lowest score is: \",lowest_score)\n",
    "print(\"The number of students passed is: \",num_passed)\n",
    "print(\"The number of students failed is: \",num_failed)"
   ]
  },
  {
   "cell_type": "markdown",
   "id": "5948debd-56f8-4ed4-89bb-68249e6871de",
   "metadata": {
    "jp-MarkdownHeadingCollapsed": true
   },
   "source": [
    "# Question 9"
   ]
  },
  {
   "cell_type": "code",
   "execution_count": null,
   "id": "8ee6f4b0-9814-4d0d-b90d-90101f3db282",
   "metadata": {},
   "outputs": [],
   "source": [
    "\"\"\" You're creating a number guessing game where the computer generates a randon number between\n",
    "1 and 200, and the player has to guess it. \n",
    "Write Python code to generate a random number between 1 and 100 Use control flow statements \n",
    "and loops to allow the player to guess the number and provide feedback (too high, too low, or correct).\n",
    "Define a user-defined function to encapsulate the gane logic and call this function to play the game. \n",
    "\"\"\""
   ]
  },
  {
   "cell_type": "code",
   "execution_count": 25,
   "id": "c2420258-83a1-497a-bb47-eebaf37e365e",
   "metadata": {},
   "outputs": [
    {
     "name": "stdout",
     "output_type": "stream",
     "text": [
      "56\n",
      "Welcome to the number guessing game\n",
      "I have choosen the number between 1 to 100. Can you guess it.\n"
     ]
    },
    {
     "name": "stdin",
     "output_type": "stream",
     "text": [
      "Enter your guess number  78\n"
     ]
    },
    {
     "name": "stdout",
     "output_type": "stream",
     "text": [
      "Too high, Try again\n"
     ]
    },
    {
     "name": "stdin",
     "output_type": "stream",
     "text": [
      "Enter your guess number  34\n"
     ]
    },
    {
     "name": "stdout",
     "output_type": "stream",
     "text": [
      "Too low, Try again\n"
     ]
    },
    {
     "name": "stdin",
     "output_type": "stream",
     "text": [
      "Enter your guess number  67\n"
     ]
    },
    {
     "name": "stdout",
     "output_type": "stream",
     "text": [
      "Too high, Try again\n"
     ]
    },
    {
     "name": "stdin",
     "output_type": "stream",
     "text": [
      "Enter your guess number  23\n"
     ]
    },
    {
     "name": "stdout",
     "output_type": "stream",
     "text": [
      "Too low, Try again\n"
     ]
    },
    {
     "name": "stdin",
     "output_type": "stream",
     "text": [
      "Enter your guess number  56\n"
     ]
    },
    {
     "name": "stdout",
     "output_type": "stream",
     "text": [
      "Congratualations, You have gussed the correct number.\n",
      "The number of attempts in the guessing the correct number is:  5\n"
     ]
    }
   ],
   "source": [
    "import random\n",
    "\n",
    "def number_guessing_game():\n",
    "    secret_number = random.randint(1,100)\n",
    "    print(secret_number)\n",
    "    \n",
    "    print(\"Welcome to the number guessing game\")\n",
    "    print(\"I have choosen the number between 1 to 100. Can you guess it.\")\n",
    "\n",
    "    attempts = 0\n",
    "    guess = None\n",
    "\n",
    "    while guess != secret_number:\n",
    "        guess = int(input(\"Enter your guess number \"))\n",
    "        attempts = attempts + 1\n",
    "\n",
    "        if guess < secret_number:\n",
    "            print(\"Too low, Try again\")\n",
    "        elif guess > secret_number:\n",
    "            print(\"Too high, Try again\")\n",
    "        else:\n",
    "            print(\"Congratualations, You have gussed the correct number.\")\n",
    "            print(\"The number of attempts in the guessing the correct number is: \",attempts)\n",
    "\n",
    "number_guessing_game()    "
   ]
  },
  {
   "cell_type": "markdown",
   "id": "df122901-9891-4d9f-bbc9-b8ef0e79fcf8",
   "metadata": {
    "jp-MarkdownHeadingCollapsed": true
   },
   "source": [
    "# Question 10"
   ]
  },
  {
   "cell_type": "code",
   "execution_count": null,
   "id": "e7ba4e49-bf92-4768-a4e2-b5e11d83b038",
   "metadata": {},
   "outputs": [],
   "source": [
    "\"\"\" Write a Python function that takes a date string in the format \n",
    "'YYYY-00 and returns a tuple containing the year, month, and day as integers.'\n",
    "Example Input: 2024-05-20 \n",
    "Expected Output: (2024, 8,28) \n",
    "\"\"\""
   ]
  },
  {
   "cell_type": "code",
   "execution_count": 27,
   "id": "d3a80460-97c4-4260-9656-5dc54262c16c",
   "metadata": {},
   "outputs": [
    {
     "name": "stdin",
     "output_type": "stream",
     "text": [
      "Enter the date:  2045-09-30\n"
     ]
    },
    {
     "data": {
      "text/plain": [
       "(2045, 9, 30)"
      ]
     },
     "execution_count": 27,
     "metadata": {},
     "output_type": "execute_result"
    }
   ],
   "source": [
    "def extract_date_parts(date_string):\n",
    "    year = int(date_string[0:4])\n",
    "    month = int(date_string[5:7])\n",
    "    day = int(date_string[8:])\n",
    "    return (year,month,day)\n",
    "\n",
    "date_string = input(\"Enter the date: \")\n",
    "extract_date_parts(date_string)"
   ]
  },
  {
   "cell_type": "markdown",
   "id": "a9f01ab3-00e5-44d3-9b63-4e19b02e58c3",
   "metadata": {
    "jp-MarkdownHeadingCollapsed": true
   },
   "source": [
    "# Question 11"
   ]
  },
  {
   "cell_type": "code",
   "execution_count": null,
   "id": "058d2a81-5908-4c2f-b34a-2ad5cfd1fa61",
   "metadata": {},
   "outputs": [],
   "source": [
    "\"\"\"\n",
    "Write a Python program that accomplishes the following tasks: \n",
    "1) Concatenate the strings \"hello\" and \"world\". \n",
    "2) Find the length of the resulting string from the concatenation. \n",
    "3) Extract the substring \"world\" from the concatenated string. \n",
    "4) Reverse the substring obtained in the previous step. \n",
    "5) Convert the reversed substring to uppercase. \n",
    "6) Replace the letter 'L' with 'x' in the reversed and uppercase substring. \n",
    "\"\"\""
   ]
  },
  {
   "cell_type": "code",
   "execution_count": 30,
   "id": "b6c0d786-db28-4908-8038-ea6282a48a69",
   "metadata": {},
   "outputs": [
    {
     "name": "stdout",
     "output_type": "stream",
     "text": [
      "helloworld\n",
      "10\n",
      "world\n",
      "dlrow\n",
      "DLROW\n",
      "DXROW\n"
     ]
    }
   ],
   "source": [
    "concatenated_string = \"hello\" + \"world\"\n",
    "length = len(concatenated_string)\n",
    "substring = concatenated_string[5:]\n",
    "reverse = substring[::-1]\n",
    "upper = reverse.upper()\n",
    "replace = upper.replace(\"L\",\"X\")\n",
    "\n",
    "print(concatenated_string)\n",
    "print(length)\n",
    "print(substring)\n",
    "print(reverse)\n",
    "print(upper)\n",
    "print(replace)"
   ]
  },
  {
   "cell_type": "markdown",
   "id": "3fe0fda2-53b3-42a7-932c-d96356356cc6",
   "metadata": {
    "jp-MarkdownHeadingCollapsed": true
   },
   "source": [
    "# Question 12"
   ]
  },
  {
   "cell_type": "code",
   "execution_count": null,
   "id": "0c809156-1372-4747-8d1b-74c58f8d8506",
   "metadata": {},
   "outputs": [],
   "source": [
    "\"\"\" a. Create a list named data points containing integers representing data values: [10, 20, 39, 40, sa).\n",
    "b. Add the value 60 to the end of the list.\n",
    "c. Insert the value 5 at the beginning of the list.\n",
    "d. Remove the value 30 from the list.\n",
    "e. Print the modified list.\n",
    "\"\"\""
   ]
  },
  {
   "cell_type": "code",
   "execution_count": 11,
   "id": "6cc9cd00-5492-4e09-8afe-6322c0443339",
   "metadata": {},
   "outputs": [
    {
     "name": "stdout",
     "output_type": "stream",
     "text": [
      "[10, 20, 30, 40, 50, 60]\n",
      "[5, 10, 20, 30, 40, 50, 60]\n",
      "[5, 10, 20, 40, 50, 60]\n",
      "The Modefied list is:  [5, 10, 20, 40, 50, 60]\n"
     ]
    }
   ],
   "source": [
    "data_points = [10,20,30,40,50]\n",
    "data_points.append(60)\n",
    "print(data_points)\n",
    "\n",
    "data_points.insert(0,5)\n",
    "print(data_points)\n",
    "\n",
    "data_points.remove(30)\n",
    "print(data_points)\n",
    "\n",
    "print(\"The Modefied list is: \",data_points)"
   ]
  },
  {
   "cell_type": "markdown",
   "id": "2bc7da42-b2cf-48b6-b7c1-8951fa137d7d",
   "metadata": {
    "jp-MarkdownHeadingCollapsed": true
   },
   "source": [
    "# Question 13"
   ]
  },
  {
   "cell_type": "code",
   "execution_count": null,
   "id": "f700e27d-80c0-42f6-9e6c-1c51dd7c7d38",
   "metadata": {},
   "outputs": [],
   "source": [
    "\"\"\" Student Enrollment Status\n",
    "You are managing student enrollments for a course and want to determine their enrollment status based on their course credits.\n",
    "Create a program that\n",
    "1) Asks the user to input the number of students.\n",
    "2) Asks the user to input the course credits for each student, storing then in a list.\n",
    "3) Determines the enrollment status for each student:\n",
    "\"Full-time\" if course credits are greater than or equal to 12.\n",
    "\"Part-time if course credits are less than 12.\n",
    "4) Prints out the enrollment status for each student.\n",
    "\"\"\""
   ]
  },
  {
   "cell_type": "code",
   "execution_count": 16,
   "id": "4db2fb49-1395-4b42-b7c0-d1fbe721605d",
   "metadata": {},
   "outputs": [
    {
     "name": "stdin",
     "output_type": "stream",
     "text": [
      "Enter the number of students:  5\n",
      "Enter the course credits of student:  14\n"
     ]
    },
    {
     "name": "stdout",
     "output_type": "stream",
     "text": [
      "[14]\n"
     ]
    },
    {
     "name": "stdin",
     "output_type": "stream",
     "text": [
      "Enter the course credits of student:  10\n"
     ]
    },
    {
     "name": "stdout",
     "output_type": "stream",
     "text": [
      "[14, 10]\n"
     ]
    },
    {
     "name": "stdin",
     "output_type": "stream",
     "text": [
      "Enter the course credits of student:  23\n"
     ]
    },
    {
     "name": "stdout",
     "output_type": "stream",
     "text": [
      "[14, 10, 23]\n"
     ]
    },
    {
     "name": "stdin",
     "output_type": "stream",
     "text": [
      "Enter the course credits of student:  5\n"
     ]
    },
    {
     "name": "stdout",
     "output_type": "stream",
     "text": [
      "[14, 10, 23, 5]\n"
     ]
    },
    {
     "name": "stdin",
     "output_type": "stream",
     "text": [
      "Enter the course credits of student:  11\n"
     ]
    },
    {
     "name": "stdout",
     "output_type": "stream",
     "text": [
      "[14, 10, 23, 5, 11]\n",
      "student 1: enrollment status- Full_time\n",
      "student 2: enrollment status- Part_time\n",
      "student 3: enrollment status- Full_time\n",
      "student 4: enrollment status- Part_time\n",
      "student 5: enrollment status- Part_time\n"
     ]
    }
   ],
   "source": [
    "num_students = int(input(\"Enter the number of students: \"))\n",
    "\n",
    "course_credits = []\n",
    "for i in range(num_students):\n",
    "    Credits = int(input(\"Enter the course credits of student: \"))\n",
    "    course_credits.append(Credits)\n",
    "    print(course_credits)\n",
    "\n",
    "enrollment_status = []\n",
    "for credits in course_credits:\n",
    "    if credits >= 12:\n",
    "        enrollment_status.append(\"Full_time\")\n",
    "    else:\n",
    "        enrollment_status.append(\"Part_time\")\n",
    "\n",
    "for i in range(num_students):\n",
    "    print(f\"student {i+1}: enrollment status- {enrollment_status[i]}\")"
   ]
  },
  {
   "cell_type": "markdown",
   "id": "4aa8a213-22c9-4a8b-92ab-f8643ee3e0b1",
   "metadata": {
    "jp-MarkdownHeadingCollapsed": true
   },
   "source": [
    "# Question 14"
   ]
  },
  {
   "cell_type": "code",
   "execution_count": null,
   "id": "dd0e56f4-82c9-40fb-b06d-6dd59009efc0",
   "metadata": {},
   "outputs": [],
   "source": [
    "\"\"\" Age Group Classification\n",
    "You are analyzing demographic data and want to classify people into different age groups. Create a program that:\n",
    "Asks the user to input the number of people.\n",
    "Asks the user to input the ages of each person, storing them in a list. \n",
    "Classifies each person into one of the following age groups: \"Child\" (age 18), \"Adult\" (18age 65), or \"Senior\" (age 65). \n",
    "Prints out the number of people in each age group.\n",
    "\"\"\""
   ]
  },
  {
   "cell_type": "code",
   "execution_count": 21,
   "id": "3f460387-7f13-4780-a7ac-28cb090a6349",
   "metadata": {},
   "outputs": [
    {
     "name": "stdin",
     "output_type": "stream",
     "text": [
      "Enter the number of people:  5\n",
      "Enter the age of people:  47\n"
     ]
    },
    {
     "name": "stdout",
     "output_type": "stream",
     "text": [
      "[47]\n"
     ]
    },
    {
     "name": "stdin",
     "output_type": "stream",
     "text": [
      "Enter the age of people:  12\n"
     ]
    },
    {
     "name": "stdout",
     "output_type": "stream",
     "text": [
      "[47, 12]\n"
     ]
    },
    {
     "name": "stdin",
     "output_type": "stream",
     "text": [
      "Enter the age of people:  544\n"
     ]
    },
    {
     "name": "stdout",
     "output_type": "stream",
     "text": [
      "[47, 12, 544]\n"
     ]
    },
    {
     "name": "stdin",
     "output_type": "stream",
     "text": [
      "Enter the age of people:  23\n"
     ]
    },
    {
     "name": "stdout",
     "output_type": "stream",
     "text": [
      "[47, 12, 544, 23]\n"
     ]
    },
    {
     "name": "stdin",
     "output_type": "stream",
     "text": [
      "Enter the age of people:  78\n"
     ]
    },
    {
     "name": "stdout",
     "output_type": "stream",
     "text": [
      "[47, 12, 544, 23, 78]\n",
      "Number of people in each age group\n",
      "Children:  1\n",
      "Adult:  2\n",
      "Senior:  2\n"
     ]
    }
   ],
   "source": [
    "num_people = int(input(\"Enter the number of people: \"))\n",
    "ages = []\n",
    "\n",
    "for i in range(num_people):\n",
    "    age = int(input(\"Enter the age of people: \"))\n",
    "    ages.append(age)\n",
    "    print(ages)\n",
    "\n",
    "child_count = 0\n",
    "adult_count = 0\n",
    "senior_count = 0\n",
    "\n",
    "for age in ages:\n",
    "    if age < 18:\n",
    "        child_count += 1\n",
    "\n",
    "    elif age >= 18 and age <65:\n",
    "        adult_count += 1\n",
    "    else:\n",
    "        senior_count += 1\n",
    "\n",
    "print(\"Number of people in each age group\")\n",
    "print(\"Children: \",child_count)\n",
    "print(\"Adult: \",adult_count)\n",
    "print(\"Senior: \",senior_count)"
   ]
  },
  {
   "cell_type": "markdown",
   "id": "a5cf4365-360c-415f-a01f-26955bd816e2",
   "metadata": {
    "jp-MarkdownHeadingCollapsed": true
   },
   "source": [
    "# Question 15"
   ]
  },
  {
   "cell_type": "code",
   "execution_count": null,
   "id": "8aab132f-7207-445a-ab5a-ae7f800b98d9",
   "metadata": {},
   "outputs": [],
   "source": [
    "\"\"\" Given two lists.\n",
    "list1 = [[1, 2], [3, 4], [5, 6]] and list2 = [[78], [9, 10]], \n",
    "concatenate then into a single list of lists.\n",
    "\"\"\""
   ]
  },
  {
   "cell_type": "code",
   "execution_count": 2,
   "id": "e608ccfb-e7fa-4037-8754-98fcd25a7aa9",
   "metadata": {},
   "outputs": [
    {
     "name": "stdout",
     "output_type": "stream",
     "text": [
      "The concatenate list is:  [[1, 2], [3, 4], [5, 6], [78], [9, 10]]\n"
     ]
    }
   ],
   "source": [
    "list1 = [[1, 2], [3, 4], [5, 6]]\n",
    "list2 = [[78], [9, 10]]\n",
    "con = list1 + list2\n",
    "print(\"The concatenate list is: \",con)"
   ]
  },
  {
   "cell_type": "markdown",
   "id": "94097592-1661-4de4-8a9c-7dbb8560689d",
   "metadata": {
    "jp-MarkdownHeadingCollapsed": true
   },
   "source": [
    "# Question 16"
   ]
  },
  {
   "cell_type": "code",
   "execution_count": null,
   "id": "6d3a4ebb-74e6-43e3-bd2c-06a63e2a67fd",
   "metadata": {},
   "outputs": [],
   "source": [
    "\"\"\" Given a list of sentences sentences = [\"Hello, world!\", \"Python is awesome!\", \"I love coding)\"], \n",
    "join the sentences into a single string separated by newline characters.\n",
    "output\n",
    "Joined string with newline characters:\n",
    ". Hello, world!\n",
    ". Python is awesome!\n",
    ". I love coding\n",
    "\"\"\""
   ]
  },
  {
   "cell_type": "code",
   "execution_count": 4,
   "id": "a178b194-5d12-494b-b0a3-93a78c91b222",
   "metadata": {},
   "outputs": [
    {
     "name": "stdout",
     "output_type": "stream",
     "text": [
      "Hello, world!\n",
      "Python is awesome!\n",
      "I love coding)\n"
     ]
    }
   ],
   "source": [
    "sentences = [\"Hello, world!\", \"Python is awesome!\", \"I love coding)\"]\n",
    "for sentence in sentences:\n",
    "    print(sentence)"
   ]
  },
  {
   "cell_type": "markdown",
   "id": "765e5025-07cc-4cc9-ae27-b554cd3e6dbb",
   "metadata": {
    "jp-MarkdownHeadingCollapsed": true
   },
   "source": [
    "# Question 17"
   ]
  },
  {
   "cell_type": "code",
   "execution_count": null,
   "id": "f36c7417-1dd7-440d-a87a-a8b1250921f2",
   "metadata": {},
   "outputs": [],
   "source": [
    "String Methods:\n",
    "a. Create a string variable sentence with any sentence of your choice.\n",
    "b. Convert the sentence to uppercase.\n",
    "c. Split the sentence into a list of words.\n",
    "d. Join the words in the list using a space as the separator.\n",
    "e. Print the modified sentence."
   ]
  },
  {
   "cell_type": "code",
   "execution_count": 32,
   "id": "ac7a1ea7-5bfc-4dfd-8c64-11f7e8a0e8f5",
   "metadata": {},
   "outputs": [
    {
     "name": "stdout",
     "output_type": "stream",
     "text": [
      "The upper case of sentence is:  CODING\n",
      "The conversion of sentence into list of word is:  ['CODING']\n",
      "The joining of word list is:  CODING\n",
      "C\n",
      "O\n",
      "D\n",
      "I\n",
      "N\n",
      "G\n",
      "The modefied sentence is:  CODING\n"
     ]
    }
   ],
   "source": [
    "sentences = \"Coding\"\n",
    "\n",
    "upper  = sentences.upper()\n",
    "print(\"The upper case of sentence is: \",upper)\n",
    "\n",
    "split = upper.split()\n",
    "print(\"The conversion of sentence into list of word is: \",split)\n",
    "\n",
    "join = \"\".join(split)\n",
    "print(\"The joining of word list is: \",join)\n",
    "\n",
    "for split in upper:\n",
    "    print(split)\n",
    "\n",
    "print(\"The modefied sentence is: \",join)"
   ]
  },
  {
   "cell_type": "markdown",
   "id": "99b7ebee-75ff-419d-b592-cb8e81b38436",
   "metadata": {
    "jp-MarkdownHeadingCollapsed": true
   },
   "source": [
    "# Question 18"
   ]
  },
  {
   "cell_type": "code",
   "execution_count": null,
   "id": "72e7d10b-94f4-4134-8bc9-5771dac77a31",
   "metadata": {},
   "outputs": [],
   "source": [
    "\"\"\" List Sorting:\n",
    "a. Create a list named ages containing integers representing ages of individuals.\n",
    "b. Sort the list in ascending order.\n",
    "c. Sort the list in descending order.\n",
    "d. Print the sorted lists.\n",
    "\"\"\""
   ]
  },
  {
   "cell_type": "code",
   "execution_count": 36,
   "id": "89a9970c-b5d3-4e7e-a7e8-11c7545a8edd",
   "metadata": {},
   "outputs": [
    {
     "name": "stdout",
     "output_type": "stream",
     "text": [
      "Ages in Ascending Order: [18, 19, 25, 29, 31, 34, 42]\n",
      "Ages in Descending Order: [42, 34, 31, 29, 25, 19, 18]\n"
     ]
    }
   ],
   "source": [
    "Ages = [25, 19, 34, 42, 18, 29, 31]\n",
    "\n",
    "# b. Sort the list in ascending order\n",
    "Ages_ascending = sorted(Ages)\n",
    "\n",
    "# c. Sort the list in descending order\n",
    "Ages_descending = sorted(Ages, reverse=True)\n",
    "\n",
    "# d. Print the sorted lists\n",
    "print(\"Ages in Ascending Order:\", Ages_ascending)\n",
    "print(\"Ages in Descending Order:\", Ages_descending)"
   ]
  },
  {
   "cell_type": "markdown",
   "id": "88f946df-6619-4d13-970f-9ff00e745eb8",
   "metadata": {
    "jp-MarkdownHeadingCollapsed": true
   },
   "source": [
    "# Question 19"
   ]
  },
  {
   "cell_type": "code",
   "execution_count": null,
   "id": "f2728c50-7aec-475f-a583-64716c47e12f",
   "metadata": {},
   "outputs": [],
   "source": [
    "# Write a python program to find the minimum and maximum values in set"
   ]
  },
  {
   "cell_type": "code",
   "execution_count": 4,
   "id": "46608527-40c1-4093-8ae3-1dadbb4d7aee",
   "metadata": {},
   "outputs": [
    {
     "name": "stdout",
     "output_type": "stream",
     "text": [
      "The maximum value in this set is\n",
      "9872979\n",
      "The minimum value in this set is\n",
      "0\n"
     ]
    }
   ],
   "source": [
    "set1 = {1,23,46,67,98,999,79798,9872979,26,8932,0,92893}\n",
    "print(\"The maximum value in this set is\")\n",
    "print(max(set1))\n",
    "\n",
    "print(\"The minimum value in this set is\")\n",
    "print(min(set1))"
   ]
  },
  {
   "cell_type": "markdown",
   "id": "dd66a6d8-acfa-4b5b-886f-07d515f92621",
   "metadata": {
    "jp-MarkdownHeadingCollapsed": true
   },
   "source": [
    "# Question 20"
   ]
  },
  {
   "cell_type": "code",
   "execution_count": null,
   "id": "a86c5b03-9734-4d06-9ea2-c08dad01f6ab",
   "metadata": {},
   "outputs": [],
   "source": [
    "\"\"\" Define tup sets students passed_math and students passed_science\n",
    "containing student IDs who passed Math and Science respectively. Write Python code to:\n",
    "1) Print the number of students who passed both Math and Science.\n",
    "2) Print the student IDs who passed only Math\n",
    "3) Print the student IDs who passed only Science\n",
    "4) Determine if students passed math is subset of students_passed_science.\n",
    "5) Determine if students passed science is a superset of students_passed_math.\n",
    "\"\"\""
   ]
  },
  {
   "cell_type": "code",
   "execution_count": 7,
   "id": "01afb35e-eb1a-49ae-823f-8cabc14e9064",
   "metadata": {},
   "outputs": [
    {
     "name": "stdout",
     "output_type": "stream",
     "text": [
      "The students id's of those student who have pass in both math and science:  {104, 105, 103}\n",
      "Total students pass in both maths and science:  3\n",
      "Those students only pass in maths:  {101, 102}\n",
      "Those students only pass in science:  {106, 107}\n",
      "is student pass in maths is a subset of student pass in science:  False\n",
      "is student pass in maths is a superset of student pass in science:  False\n"
     ]
    }
   ],
   "source": [
    "# Define two set\n",
    "student_pass_maths = {101,102,103,104,105}\n",
    "student_pass_science = {103,104,105,106,107}\n",
    "\n",
    "both_pass = student_pass_maths.intersection(student_pass_science)\n",
    "print(\"The students id's of those student who have pass in both math and science: \",both_pass)\n",
    "print(\"Total students pass in both maths and science: \",len(both_pass))\n",
    "\n",
    "only_maths = student_pass_maths.difference(student_pass_science)\n",
    "print(\"Those students only pass in maths: \",only_maths)\n",
    "\n",
    "only_science = student_pass_science.difference(student_pass_maths)\n",
    "print(\"Those students only pass in science: \",only_science)\n",
    "\n",
    "sub = student_pass_maths.issubset(student_pass_science)\n",
    "print(\"is student pass in maths is a subset of student pass in science: \",sub)\n",
    "\n",
    "superset = student_pass_maths.issuperset(student_pass_science)\n",
    "print(\"is student pass in maths is a superset of student pass in science: \",superset)"
   ]
  },
  {
   "cell_type": "markdown",
   "id": "7d48caee-d4e4-4a0d-88e2-ea03cac1e91c",
   "metadata": {
    "jp-MarkdownHeadingCollapsed": true
   },
   "source": [
    "# Question 21"
   ]
  },
  {
   "cell_type": "code",
   "execution_count": null,
   "id": "01505344-7e74-493f-ab05-cbf8a123bc60",
   "metadata": {},
   "outputs": [],
   "source": [
    "\"\"\" Imagine you are managing an inventory of products in a store. Create a Python program that initializes\n",
    "a dictionary to store the following information about products:\n",
    "\n",
    "Product ID as the key (an integer).\n",
    "Product name as the value (a string).\n",
    "\n",
    "Your program should:\n",
    "Create an empty dictionary.\n",
    "Prompt the user to enter details for at least 3 products. \n",
    "Populate the dictionary with the entered product IDs and names.\n",
    "Display the final dictionary containing all product IDs and names.\n",
    "\"\"\""
   ]
  },
  {
   "cell_type": "code",
   "execution_count": 10,
   "id": "0f0311a1-b26f-46e2-a46c-0540c5381abe",
   "metadata": {},
   "outputs": [
    {
     "name": "stdin",
     "output_type": "stream",
     "text": [
      "Enter the number of product:  3\n",
      "Enter product ID 1:  101\n",
      "Enter product name for ID 101:  bread\n",
      "Enter product ID 2:  102\n",
      "Enter product name for ID 102:  milk\n",
      "Enter product ID 3:  103\n",
      "Enter product name for ID 103:  butter\n"
     ]
    },
    {
     "name": "stdout",
     "output_type": "stream",
     "text": [
      "\n",
      "Product Inventory:\n",
      "{101: 'bread', 102: 'milk', 103: 'butter'}\n"
     ]
    }
   ],
   "source": [
    "def create_product_inventory(num_products):\n",
    "    inventory = {}\n",
    "\n",
    "    for i in range(1,num_products+1):\n",
    "        product_id = int(input(f\"Enter product ID {i}: \"))\n",
    "        product_name = input(f\"Enter product name for ID {product_id}: \")\n",
    "        inventory[product_id] = product_name\n",
    "\n",
    "    return inventory\n",
    "\n",
    "num_products = int(input(\"Enter the number of product: \"))\n",
    "\n",
    "inventory_dict = create_product_inventory(num_products)\n",
    "\n",
    "print(\"\\nProduct Inventory:\")\n",
    "print(inventory_dict)"
   ]
  },
  {
   "cell_type": "markdown",
   "id": "38fd1e0f-149c-45f3-9ad6-2c6586caf799",
   "metadata": {
    "jp-MarkdownHeadingCollapsed": true
   },
   "source": [
    "# Question 22"
   ]
  },
  {
   "cell_type": "code",
   "execution_count": null,
   "id": "730204eb-31db-4e75-bde8-df71c71a350f",
   "metadata": {},
   "outputs": [],
   "source": [
    "\"\"\" Create a dictionary book ratings with the following initial data:\n",
    "'Python Programming': 4.5\n",
    "'Data Science Handbook': 4.8\n",
    "'Machine Learning Basics': 4.2\n",
    "Check if Python Programming is in book_ratings. Print \"Found if it exists, otherwise print \"Not Found\".\n",
    "Use a method to get all keys from book ratings and store then in a list titles.\n",
    "Print the list titles.\n",
    "\"\"\""
   ]
  },
  {
   "cell_type": "code",
   "execution_count": 17,
   "id": "b3a7c28c-bef9-4f49-b251-79f87d42137a",
   "metadata": {},
   "outputs": [
    {
     "name": "stdout",
     "output_type": "stream",
     "text": [
      "Found\n",
      "['Python Programming', 'Data Science Handbook', 'Machine Learning Basics']\n"
     ]
    }
   ],
   "source": [
    "book_rating = {'Python Programming':4.5,\n",
    "              'Data Science Handbook':4.8,\n",
    "              'Machine Learning Basics':4.2\n",
    "              }\n",
    "\n",
    "if 'Python Programming' in book_rating:\n",
    "    print(\"Found\")\n",
    "else:\n",
    "    print(\"Not Found\")\n",
    "\n",
    "titles = list(book_rating.keys())\n",
    "print(titles)"
   ]
  },
  {
   "cell_type": "markdown",
   "id": "b2eabeac-95c1-4ccd-97b6-ecc3597f718e",
   "metadata": {
    "jp-MarkdownHeadingCollapsed": true
   },
   "source": [
    "# Question 23"
   ]
  },
  {
   "cell_type": "code",
   "execution_count": null,
   "id": "5611f943-f92d-47e0-a7bc-e82626525a04",
   "metadata": {},
   "outputs": [],
   "source": [
    "\"\"\" Create a dictionary fruit stock with the following items:\n",
    "\"apple\": 10\n",
    "\"banana 15\n",
    "\"orange\": 8\n",
    "\"grape\": 20\n",
    "Print each fruit along with its stock count in the format \"Fruit: Stock using a loop\n",
    "OUTPUT\n",
    "Fruit: apple, Stock: 10\n",
    "Fruit: banana, Stock: 15\n",
    "Fruit: orange, Stock:8\n",
    "Fruit: grape, Stock: 20\n",
    "\"\"\""
   ]
  },
  {
   "cell_type": "code",
   "execution_count": 2,
   "id": "f146dd97-3073-43ee-8766-8f4cb63a25d8",
   "metadata": {},
   "outputs": [
    {
     "name": "stdout",
     "output_type": "stream",
     "text": [
      "Fruit:  apple stock:  10\n",
      "Fruit:  banana stock:  15\n",
      "Fruit:  orange stock:  8\n",
      "Fruit:  grape stock:  20\n"
     ]
    }
   ],
   "source": [
    "fruit_stock = { \"apple\": 10,\n",
    "    \"banana\": 15,\n",
    "    \"orange\": 8,\n",
    "    \"grape\": 20\n",
    "              }\n",
    "\n",
    "for fruit in fruit_stock:\n",
    "    print(\"Fruit: \",fruit,\"stock: \",fruit_stock[fruit])"
   ]
  },
  {
   "cell_type": "markdown",
   "id": "5739d2cd-a6e6-46e7-b4e2-db4a54e7be57",
   "metadata": {},
   "source": [
    "# Question 24"
   ]
  },
  {
   "cell_type": "code",
   "execution_count": null,
   "id": "1abd9874-4ccf-4640-a154-78aa9f9f3816",
   "metadata": {},
   "outputs": [],
   "source": []
  },
  {
   "cell_type": "code",
   "execution_count": null,
   "id": "a7b1b6ce-3690-495a-85cd-5070c568763d",
   "metadata": {},
   "outputs": [],
   "source": []
  },
  {
   "cell_type": "code",
   "execution_count": null,
   "id": "90b3495c-e7b4-4936-916d-f6eff277f3b9",
   "metadata": {},
   "outputs": [],
   "source": []
  },
  {
   "cell_type": "code",
   "execution_count": null,
   "id": "b1ad6e3e-5fd5-455f-98f5-575c71b424eb",
   "metadata": {},
   "outputs": [],
   "source": []
  },
  {
   "cell_type": "code",
   "execution_count": null,
   "id": "b2ab5ab9-db0a-4d7d-a1c1-41d496725be0",
   "metadata": {},
   "outputs": [],
   "source": []
  },
  {
   "cell_type": "code",
   "execution_count": null,
   "id": "9acf3f4a-e2ae-43dc-8b95-15b98590c8e6",
   "metadata": {},
   "outputs": [],
   "source": []
  }
 ],
 "metadata": {
  "kernelspec": {
   "display_name": "Python [conda env:base] *",
   "language": "python",
   "name": "conda-base-py"
  },
  "language_info": {
   "codemirror_mode": {
    "name": "ipython",
    "version": 3
   },
   "file_extension": ".py",
   "mimetype": "text/x-python",
   "name": "python",
   "nbconvert_exporter": "python",
   "pygments_lexer": "ipython3",
   "version": "3.12.7"
  }
 },
 "nbformat": 4,
 "nbformat_minor": 5
}
