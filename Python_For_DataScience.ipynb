{
 "cells": [
  {
   "cell_type": "code",
   "execution_count": 39,
   "id": "f2a6d869-b469-4d5a-a31d-746648f6a4b0",
   "metadata": {},
   "outputs": [
    {
     "name": "stdout",
     "output_type": "stream",
     "text": [
      "Hello World!\n"
     ]
    }
   ],
   "source": [
    "print(\"Hello World!\")"
   ]
  },
  {
   "cell_type": "markdown",
   "id": "3cbc0cfb-6f74-475e-af95-57f0d5c18a5d",
   "metadata": {
    "jp-MarkdownHeadingCollapsed": true
   },
   "source": [
    "# Variable and Data Types"
   ]
  },
  {
   "cell_type": "code",
   "execution_count": 37,
   "id": "4752f036-f867-4113-879a-62c135761b36",
   "metadata": {},
   "outputs": [
    {
     "name": "stdout",
     "output_type": "stream",
     "text": [
      "5\n"
     ]
    }
   ],
   "source": [
    "x=5\n",
    "print(x)"
   ]
  },
  {
   "cell_type": "code",
   "execution_count": 41,
   "id": "437bfb2c-f92c-4214-b91b-68a51dc29ff9",
   "metadata": {},
   "outputs": [
    {
     "name": "stdout",
     "output_type": "stream",
     "text": [
      "10 2.5 bhupendra\n"
     ]
    }
   ],
   "source": [
    "a=10 \n",
    "b=2.5\n",
    "c=\"bhupendra\"\n",
    "print(a,b,c)\n"
   ]
  },
  {
   "cell_type": "code",
   "execution_count": 43,
   "id": "0b9f632a-bdb4-440a-a6ec-a984bc998e1f",
   "metadata": {},
   "outputs": [
    {
     "name": "stdout",
     "output_type": "stream",
     "text": [
      "We are learning python\n"
     ]
    }
   ],
   "source": [
    "y=\"We are learning python\"\n",
    "print(y)"
   ]
  },
  {
   "cell_type": "code",
   "execution_count": 45,
   "id": "b77505e1-cdf2-4d1c-a264-9196aeba380e",
   "metadata": {},
   "outputs": [
    {
     "name": "stdout",
     "output_type": "stream",
     "text": [
      "Variable               Type        Data/Info\n",
      "--------------------------------------------\n",
      "A                      int         -23\n",
      "B                      str         56\n",
      "C                      str         cat\n",
      "D                      str         cat dog\n",
      "SI                     float       70092.525\n",
      "X                      float       -2.4658292\n",
      "Y                      str         5.23456798\n",
      "Z                      complex     (-3+4j)\n",
      "a                      int         10\n",
      "aman_age               int         -23\n",
      "b                      float       2.5\n",
      "c                      str         bhupendra\n",
      "comp                   complex     (2+3j)\n",
      "customer_database      list        n=3\n",
      "dataframe_columns      function    <function dataframe_colum<...>ns at 0x00000217DF655B20>\n",
      "dataframe_hash         function    <function dataframe_hash at 0x00000217DF654E00>\n",
      "dtypes_str             function    <function dtypes_str at 0x00000217DF655F80>\n",
      "get_dataframes         function    <function get_dataframes at 0x00000217DF656200>\n",
      "getpass                module      <module 'getpass' from 'C<...>conda3\\\\Lib\\\\getpass.py'>\n",
      "hashlib                module      <module 'hashlib' from 'C<...>conda3\\\\Lib\\\\hashlib.py'>\n",
      "import_pandas_safely   function    <function import_pandas_s<...>ly at 0x00000217DF6558A0>\n",
      "is_data_frame          function    <function is_data_frame at 0x00000217DF6556C0>\n",
      "json                   module      <module 'json' from 'C:\\\\<...>\\Lib\\\\json\\\\__init__.py'>\n",
      "num_int                int         10\n",
      "p                      int         250000\n",
      "player_score           float       1234.56\n",
      "r                      float       9.34567\n",
      "suman_age              int         -56\n",
      "t                      int         3\n",
      "x                      int         5\n",
      "y                      str         We are learning python\n"
     ]
    }
   ],
   "source": [
    "%whos"
   ]
  },
  {
   "cell_type": "code",
   "execution_count": 47,
   "id": "44591f3b-364a-4cfc-adf8-63a4821db258",
   "metadata": {},
   "outputs": [
    {
     "name": "stdout",
     "output_type": "stream",
     "text": [
      "3\n",
      "2.3\n",
      "4\n",
      "6.3\n",
      "23\n",
      "29\n"
     ]
    }
   ],
   "source": [
    "# Variable names can only contain letters,alpha-numeric and underscores (_).\n",
    "\n",
    "apple=3\n",
    "print(apple)\n",
    "\n",
    "apple_box=2.3\n",
    "print(apple_box)\n",
    "\n",
    "_ = 4\n",
    "print(_)\n",
    "\n",
    "_z = 6.3\n",
    "print(_z)\n",
    "\n",
    "apple1 = 23\n",
    "print(apple1)\n",
    "\n",
    "abc123nmp = 29\n",
    "print(abc123nmp)"
   ]
  },
  {
   "cell_type": "code",
   "execution_count": 49,
   "id": "06375cd4-c768-4a4e-b66c-2e980ba20428",
   "metadata": {},
   "outputs": [
    {
     "ename": "SyntaxError",
     "evalue": "invalid decimal literal (88834031.py, line 3)",
     "output_type": "error",
     "traceback": [
      "\u001b[1;36m  Cell \u001b[1;32mIn[49], line 3\u001b[1;36m\u001b[0m\n\u001b[1;33m    1_apple = 23\u001b[0m\n\u001b[1;37m     ^\u001b[0m\n\u001b[1;31mSyntaxError\u001b[0m\u001b[1;31m:\u001b[0m invalid decimal literal\n"
     ]
    }
   ],
   "source": [
    " # variable name cannot start with a digit and special symbol except underscore.\n",
    "\n",
    "1_apple = 23\n",
    "print(1_apple)"
   ]
  },
  {
   "cell_type": "code",
   "execution_count": 51,
   "id": "632f374f-aaf8-4047-ac89-a9f05e921afe",
   "metadata": {},
   "outputs": [
    {
     "name": "stdout",
     "output_type": "stream",
     "text": [
      "1\n"
     ]
    }
   ],
   "source": [
    "1 == 23\n",
    "print(1)"
   ]
  },
  {
   "cell_type": "code",
   "execution_count": 53,
   "id": "887758e0-c5de-4abf-a18f-824ed2212cfa",
   "metadata": {},
   "outputs": [
    {
     "ename": "SyntaxError",
     "evalue": "invalid syntax. Maybe you meant '==' or ':=' instead of '='? (4219854681.py, line 1)",
     "output_type": "error",
     "traceback": [
      "\u001b[1;36m  Cell \u001b[1;32mIn[53], line 1\u001b[1;36m\u001b[0m\n\u001b[1;33m    @name = 34\u001b[0m\n\u001b[1;37m     ^\u001b[0m\n\u001b[1;31mSyntaxError\u001b[0m\u001b[1;31m:\u001b[0m invalid syntax. Maybe you meant '==' or ':=' instead of '='?\n"
     ]
    }
   ],
   "source": [
    "@name = 34\n",
    "print(@name)"
   ]
  },
  {
   "cell_type": "code",
   "execution_count": 55,
   "id": "62820264-8346-4c04-802a-4dfffb48c0cd",
   "metadata": {},
   "outputs": [
    {
     "name": "stdout",
     "output_type": "stream",
     "text": [
      "23\n",
      "25\n",
      "27\n"
     ]
    }
   ],
   "source": [
    "# Variable names are case-sensitive (myVar and myvar are different).\n",
    "\n",
    "age = 23\n",
    "Age = 25\n",
    "AGE = 27\n",
    "\n",
    "print(age)\n",
    "print(Age)\n",
    "print(AGE)"
   ]
  },
  {
   "cell_type": "code",
   "execution_count": 57,
   "id": "e1525701-4d38-4dfb-aced-e10d21d605c4",
   "metadata": {},
   "outputs": [
    {
     "ename": "TypeError",
     "evalue": "'int' object is not callable",
     "output_type": "error",
     "traceback": [
      "\u001b[1;31m---------------------------------------------------------------------------\u001b[0m",
      "\u001b[1;31mTypeError\u001b[0m                                 Traceback (most recent call last)",
      "Cell \u001b[1;32mIn[57], line 4\u001b[0m\n\u001b[0;32m      1\u001b[0m \u001b[38;5;66;03m# Avoid using Python keywords (e.g., if, else, for) as variable names.\u001b[39;00m\n\u001b[0;32m      3\u001b[0m \u001b[38;5;28mprint\u001b[39m \u001b[38;5;241m=\u001b[39m \u001b[38;5;241m45\u001b[39m\n\u001b[1;32m----> 4\u001b[0m \u001b[38;5;28mprint\u001b[39m(\u001b[38;5;28mprint\u001b[39m)\n",
      "\u001b[1;31mTypeError\u001b[0m: 'int' object is not callable"
     ]
    }
   ],
   "source": [
    "# Avoid using Python keywords (e.g., if, else, for) as variable names.\n",
    "\n",
    "print = 45\n",
    "print(print)"
   ]
  },
  {
   "cell_type": "code",
   "execution_count": 59,
   "id": "bbef8f6f-5d7d-4757-b368-fa3e034d7d5b",
   "metadata": {},
   "outputs": [
    {
     "ename": "TypeError",
     "evalue": "'int' object is not callable",
     "output_type": "error",
     "traceback": [
      "\u001b[1;31m---------------------------------------------------------------------------\u001b[0m",
      "\u001b[1;31mTypeError\u001b[0m                                 Traceback (most recent call last)",
      "Cell \u001b[1;32mIn[59], line 2\u001b[0m\n\u001b[0;32m      1\u001b[0m \u001b[38;5;28mint\u001b[39m \u001b[38;5;241m=\u001b[39m \u001b[38;5;241m34\u001b[39m\n\u001b[1;32m----> 2\u001b[0m \u001b[38;5;28mprint\u001b[39m(\u001b[38;5;28mint\u001b[39m)\n",
      "\u001b[1;31mTypeError\u001b[0m: 'int' object is not callable"
     ]
    }
   ],
   "source": [
    "int = 34\n",
    "print(int)"
   ]
  },
  {
   "cell_type": "markdown",
   "id": "c746efa9-bdf5-48c0-817b-a4bbc62d6b83",
   "metadata": {
    "jp-MarkdownHeadingCollapsed": true
   },
   "source": [
    "# Data Types in python"
   ]
  },
  {
   "cell_type": "code",
   "execution_count": 2,
   "id": "e65cea49-3c1d-4f64-84b6-efe603723a44",
   "metadata": {},
   "outputs": [
    {
     "name": "stdout",
     "output_type": "stream",
     "text": [
      "2\n",
      "<class 'int'>\n"
     ]
    },
    {
     "data": {
      "text/plain": [
       "float"
      ]
     },
     "execution_count": 2,
     "metadata": {},
     "output_type": "execute_result"
    }
   ],
   "source": [
    "a = 2\n",
    "b = 1.5\n",
    "c = \"Bhupendra\"\n",
    "\n",
    "print(a)\n",
    "print(type(a))\n",
    "type(b)"
   ]
  },
  {
   "cell_type": "code",
   "execution_count": 4,
   "id": "f8bcec9a-9405-4c91-904b-b086969c9660",
   "metadata": {},
   "outputs": [
    {
     "name": "stdout",
     "output_type": "stream",
     "text": [
      "(2+3j)\n",
      "<class 'complex'>\n"
     ]
    }
   ],
   "source": [
    "v = 2+3j\n",
    "print(v)\n",
    "print(type(v))"
   ]
  },
  {
   "cell_type": "code",
   "execution_count": 6,
   "id": "9a2271fb-88fb-4c30-b3e3-92d17647079b",
   "metadata": {},
   "outputs": [
    {
     "name": "stdout",
     "output_type": "stream",
     "text": [
      "[23, 24, 25, 26]\n",
      "<class 'list'>\n"
     ]
    }
   ],
   "source": [
    "num = [23,24,25,26]\n",
    "print(num)\n",
    "print(type(num))"
   ]
  },
  {
   "cell_type": "code",
   "execution_count": 8,
   "id": "1e4d1825-a0df-422d-894e-9dd78ba8ef60",
   "metadata": {},
   "outputs": [
    {
     "name": "stdout",
     "output_type": "stream",
     "text": [
      "<class 'bool'>\n"
     ]
    }
   ],
   "source": [
    "num1 = True\n",
    "print(type(num1))"
   ]
  },
  {
   "cell_type": "code",
   "execution_count": 10,
   "id": "9c4dadd6-69c5-41d8-bb98-aa720fdb2eac",
   "metadata": {},
   "outputs": [
    {
     "name": "stdout",
     "output_type": "stream",
     "text": [
      "<class 'bool'>\n"
     ]
    }
   ],
   "source": [
    "nu1 = False\n",
    "print(type(nu1))"
   ]
  },
  {
   "cell_type": "code",
   "execution_count": 12,
   "id": "38ec0e3e-3c12-44fc-92c8-05d4bc4a7fb4",
   "metadata": {},
   "outputs": [
    {
     "name": "stdout",
     "output_type": "stream",
     "text": [
      "John Doe\n"
     ]
    }
   ],
   "source": [
    "first_name = \"John\"\n",
    "last_name = \"Doe\"\n",
    "full_name = first_name +\" \"+ last_name\n",
    "print(full_name)"
   ]
  },
  {
   "cell_type": "code",
   "execution_count": 14,
   "id": "f8cbfda7-c688-4353-89fc-c757ecb7f2ce",
   "metadata": {},
   "outputs": [
    {
     "name": "stdout",
     "output_type": "stream",
     "text": [
      "10\n"
     ]
    }
   ],
   "source": [
    "X = 5\n",
    "X=10\n",
    "print(X)"
   ]
  },
  {
   "cell_type": "markdown",
   "id": "f629e554-8152-4ddd-92a5-eddf68173946",
   "metadata": {
    "jp-MarkdownHeadingCollapsed": true
   },
   "source": [
    "# Operators in Python"
   ]
  },
  {
   "cell_type": "code",
   "execution_count": null,
   "id": "8cbd3a46-a4e8-429d-8f6b-1b79a5f30b26",
   "metadata": {},
   "outputs": [],
   "source": [
    "In Python programming, Operators in general are used to perform operations on values and variables.\n",
    "These are standard symbols used for logical and arithmetic operations. \n",
    "OPERATORS: These are the special symbols. Eg- + , * , /, etc.\n",
    "OPERAND: It is the value on which the operator is applied.\n",
    "\n",
    "\n",
    "Types of Operators in Python\n",
    "    Arithmetic Operators  (+,-,*,/,%,**,//)\n",
    "    Comparison Operators (>,<,==,>=,<=,!=)\n",
    "    Logical Operators (AND, OR, NOT)\n",
    "    Bitwise Operators (&, |, <<, >>, ~, ^)\n",
    "    Assignment Operators (=, +=, -=, *=, /=)\n",
    "    Identity Operators and Membership Operators (is, is not, in, in not)\n",
    "\n"
   ]
  },
  {
   "cell_type": "code",
   "execution_count": 16,
   "id": "56c5ea0b-3cbc-41a8-b393-86ddb55fbf3e",
   "metadata": {},
   "outputs": [
    {
     "name": "stdout",
     "output_type": "stream",
     "text": [
      "4\n",
      "-2\n",
      "3\n",
      "0.3333333333333333\n",
      "1\n",
      "1\n",
      "0\n"
     ]
    }
   ],
   "source": [
    "# Arithmetic Operators  (+,-,*,/,%,**,//)\n",
    "# Python Arithmetic operators are used to perform basic mathematical operations like addition, subtraction, multiplication and division.\n",
    "\n",
    "\n",
    "a = 1 \n",
    "b = 3\n",
    "print(a+b)\n",
    "print(a-b)\n",
    "print(a*b)\n",
    "print(a/b)\n",
    "print(a%b)\n",
    "print(a**b)\n",
    "print(a//b)"
   ]
  },
  {
   "cell_type": "code",
   "execution_count": 18,
   "id": "26d66387-ec3c-4a8d-a001-42e294179d8f",
   "metadata": {},
   "outputs": [
    {
     "name": "stdout",
     "output_type": "stream",
     "text": [
      "3.8\n",
      "-0.7999999999999998\n",
      "3.4499999999999997\n",
      "0.6521739130434783\n",
      "1.5\n",
      "2.5410306047779248\n",
      "0.0\n"
     ]
    }
   ],
   "source": [
    "x = 1.5 #float\n",
    "y = 2.3\n",
    "print(x+y)\n",
    "print(x-y)\n",
    "print(x*y)\n",
    "print(x/y)\n",
    "print(x%y)\n",
    "print(x**y)\n",
    "print(x//y)"
   ]
  },
  {
   "cell_type": "code",
   "execution_count": 20,
   "id": "7e634b51-2eb0-42b4-b9e4-bbdc5abbacdb",
   "metadata": {},
   "outputs": [
    {
     "name": "stdout",
     "output_type": "stream",
     "text": [
      "helloworld\n"
     ]
    }
   ],
   "source": [
    "h = \"hello\" #string\n",
    "i = \"world\"\n",
    "print(h+i)"
   ]
  },
  {
   "cell_type": "code",
   "execution_count": 22,
   "id": "6966171c-6ee2-4d83-a839-a706fc599d6b",
   "metadata": {},
   "outputs": [
    {
     "name": "stdout",
     "output_type": "stream",
     "text": [
      "hello world\n"
     ]
    }
   ],
   "source": [
    "h = \"hello\" \n",
    "i = \"world\"\n",
    "print(h+\" \"+i)"
   ]
  },
  {
   "cell_type": "code",
   "execution_count": 24,
   "id": "f1b578f8-fae1-40bc-8cea-dd64bc1f6896",
   "metadata": {},
   "outputs": [
    {
     "name": "stdout",
     "output_type": "stream",
     "text": [
      "(3+8j)\n",
      "(1-2j)\n",
      "(-13+13j)\n",
      "(0.6538461538461539-0.2692307692307692j)\n"
     ]
    },
    {
     "ename": "TypeError",
     "evalue": "unsupported operand type(s) for %: 'complex' and 'complex'",
     "output_type": "error",
     "traceback": [
      "\u001b[1;31m---------------------------------------------------------------------------\u001b[0m",
      "\u001b[1;31mTypeError\u001b[0m                                 Traceback (most recent call last)",
      "Cell \u001b[1;32mIn[24], line 7\u001b[0m\n\u001b[0;32m      5\u001b[0m \u001b[38;5;28mprint\u001b[39m(x1\u001b[38;5;241m*\u001b[39my1)\n\u001b[0;32m      6\u001b[0m \u001b[38;5;28mprint\u001b[39m(x1\u001b[38;5;241m/\u001b[39my1)\n\u001b[1;32m----> 7\u001b[0m \u001b[38;5;28mprint\u001b[39m(x1\u001b[38;5;241m%\u001b[39my1)\n",
      "\u001b[1;31mTypeError\u001b[0m: unsupported operand type(s) for %: 'complex' and 'complex'"
     ]
    }
   ],
   "source": [
    "x1 = 2+3j #complex number\n",
    "y1 = 1+5j\n",
    "print(x1+y1)\n",
    "print(x1-y1)\n",
    "print(x1*y1)\n",
    "print(x1/y1)\n",
    "print(x1%y1)\n"
   ]
  },
  {
   "cell_type": "code",
   "execution_count": 26,
   "id": "0a361232-5d8b-4c72-a016-b9254aacecee",
   "metadata": {},
   "outputs": [
    {
     "name": "stdout",
     "output_type": "stream",
     "text": [
      "(0.01172610350141285+0.023738341742618706j)\n"
     ]
    },
    {
     "ename": "TypeError",
     "evalue": "unsupported operand type(s) for //: 'complex' and 'complex'",
     "output_type": "error",
     "traceback": [
      "\u001b[1;31m---------------------------------------------------------------------------\u001b[0m",
      "\u001b[1;31mTypeError\u001b[0m                                 Traceback (most recent call last)",
      "Cell \u001b[1;32mIn[26], line 2\u001b[0m\n\u001b[0;32m      1\u001b[0m \u001b[38;5;28mprint\u001b[39m(x1\u001b[38;5;241m*\u001b[39m\u001b[38;5;241m*\u001b[39my1)\n\u001b[1;32m----> 2\u001b[0m \u001b[38;5;28mprint\u001b[39m(x1\u001b[38;5;241m/\u001b[39m\u001b[38;5;241m/\u001b[39my1)\n",
      "\u001b[1;31mTypeError\u001b[0m: unsupported operand type(s) for //: 'complex' and 'complex'"
     ]
    }
   ],
   "source": [
    "print(x1**y1)\n",
    "print(x1//y1)"
   ]
  },
  {
   "cell_type": "code",
   "execution_count": 28,
   "id": "e4f809cb-6d73-4cf8-ab31-07fc960adc34",
   "metadata": {},
   "outputs": [
    {
     "name": "stdout",
     "output_type": "stream",
     "text": [
      "1\n"
     ]
    }
   ],
   "source": [
    "w1 = -3\n",
    "w2 = 4\n",
    "print(w1+w2)"
   ]
  },
  {
   "cell_type": "code",
   "execution_count": 30,
   "id": "7a55e8da-118c-4e7b-aad1-0b93ded2780c",
   "metadata": {},
   "outputs": [
    {
     "name": "stdout",
     "output_type": "stream",
     "text": [
      "hellohellohellohellohello\n"
     ]
    }
   ],
   "source": [
    "str = \"hello\"\n",
    "print(str * 5)"
   ]
  },
  {
   "cell_type": "code",
   "execution_count": 32,
   "id": "7d36af09-3ed7-41e5-b8a8-439c5316546d",
   "metadata": {},
   "outputs": [
    {
     "ename": "TypeError",
     "evalue": "can't multiply sequence by non-int of type 'str'",
     "output_type": "error",
     "traceback": [
      "\u001b[1;31m---------------------------------------------------------------------------\u001b[0m",
      "\u001b[1;31mTypeError\u001b[0m                                 Traceback (most recent call last)",
      "Cell \u001b[1;32mIn[32], line 4\u001b[0m\n\u001b[0;32m      1\u001b[0m str1 \u001b[38;5;241m=\u001b[39m \u001b[38;5;124m\"\u001b[39m\u001b[38;5;124mHello\u001b[39m\u001b[38;5;124m\"\u001b[39m\n\u001b[0;32m      2\u001b[0m str2 \u001b[38;5;241m=\u001b[39m \u001b[38;5;124m\"\u001b[39m\u001b[38;5;124mworld\u001b[39m\u001b[38;5;124m\"\u001b[39m\n\u001b[1;32m----> 4\u001b[0m \u001b[38;5;28mprint\u001b[39m(str1\u001b[38;5;241m*\u001b[39m str2)\n",
      "\u001b[1;31mTypeError\u001b[0m: can't multiply sequence by non-int of type 'str'"
     ]
    }
   ],
   "source": [
    "str1 = \"Hello\"\n",
    "str2 = \"world\"\n",
    "\n",
    "print(str1* str2)"
   ]
  },
  {
   "cell_type": "code",
   "execution_count": 34,
   "id": "c5cdde0d-1bca-415c-bf2e-55a3b974848b",
   "metadata": {},
   "outputs": [
    {
     "name": "stdout",
     "output_type": "stream",
     "text": [
      "True False\n",
      "<class 'bool'>\n"
     ]
    }
   ],
   "source": [
    "# Boolean Operator\n",
    "\n",
    "a = True\n",
    "a1 = False\n",
    "\n",
    "print(a,a1)\n",
    "print(type(a))"
   ]
  },
  {
   "cell_type": "code",
   "execution_count": 36,
   "id": "ea98e1ec-a38b-4825-9099-a7a34efad774",
   "metadata": {},
   "outputs": [
    {
     "name": "stdout",
     "output_type": "stream",
     "text": [
      "False\n",
      "False\n",
      "True\n",
      "False\n",
      "True\n",
      "True\n"
     ]
    }
   ],
   "source": [
    "# Comparison Operators\n",
    "#In Python Comparison of Relational operators compares the values. It either returns True or False according to the condition.\n",
    "\n",
    "a = 23\n",
    "b = 45\n",
    "\n",
    "print(a==b) #equal to\n",
    "print(a>b)  #greater then\n",
    "print(a<b)  #less then\n",
    "print(a>=b) #greater then or equal to \n",
    "print(a<=b) #less then or equal to\n",
    "print(a!=b) #not equal to"
   ]
  },
  {
   "cell_type": "code",
   "execution_count": 38,
   "id": "b24fb544-1f90-4aeb-ad53-b31f6a3ce520",
   "metadata": {},
   "outputs": [
    {
     "name": "stdout",
     "output_type": "stream",
     "text": [
      "False\n",
      "True\n",
      "False\n",
      "True\n"
     ]
    }
   ],
   "source": [
    "# Logical Operators \n",
    "#Python Logical operators perform Logical AND, Logical OR and Logical NOT operations. \n",
    "#It is used to combine conditional statements.\n",
    "\n",
    "a = True\n",
    "b = False\n",
    "print(a and b)\n",
    "print(a or b)\n",
    "print(not a)\n",
    "print(not b)"
   ]
  },
  {
   "cell_type": "code",
   "execution_count": 40,
   "id": "061ffdc6-6c06-4dec-8520-bfcce0914f4b",
   "metadata": {},
   "outputs": [
    {
     "name": "stdout",
     "output_type": "stream",
     "text": [
      "0\n",
      "14\n",
      "-11\n",
      "14\n",
      "2\n",
      "40\n"
     ]
    }
   ],
   "source": [
    "# Bitwise Operators \n",
    "#Python Bitwise operators act on bits and perform bit-by-bit operations. These are used to operate on binary numbers.\n",
    "\n",
    "a = 10\n",
    "b = 4\n",
    "\n",
    "print(a & b)\n",
    "print(a | b)\n",
    "print(~a)\n",
    "print(a ^ b)\n",
    "print(a >> 2)\n",
    "print(a << 2)"
   ]
  },
  {
   "cell_type": "code",
   "execution_count": 42,
   "id": "08ffda9f-230d-4974-a372-4f0eec92439c",
   "metadata": {},
   "outputs": [
    {
     "name": "stdout",
     "output_type": "stream",
     "text": [
      "10\n",
      "20\n",
      "10\n",
      "100\n",
      "102400\n"
     ]
    }
   ],
   "source": [
    "# Assignment Operators \n",
    "# Python Assignment operators are used to assign values to the variables.\n",
    "# This operator is used to assign the value of the right side of the expression to the left side operand.\n",
    "\n",
    "\n",
    "a = 10\n",
    "b = a\n",
    "print(b)\n",
    "b += a\n",
    "print(b)\n",
    "b -= a\n",
    "print(b)\n",
    "b *= a\n",
    "print(b)\n",
    "b <<= a\n",
    "print(b)"
   ]
  },
  {
   "cell_type": "code",
   "execution_count": 44,
   "id": "07c25b9b-561b-4fe0-8076-b753572eb7e6",
   "metadata": {},
   "outputs": [
    {
     "name": "stdout",
     "output_type": "stream",
     "text": [
      "True\n",
      "True\n"
     ]
    }
   ],
   "source": [
    "# Identity Operators \n",
    "# In Python, is and is not are the identity operators both are used to check if two values are located on the same part of the memory.\n",
    "# Two variables that are equal do not imply that they are identical. \n",
    "\n",
    "# is          True if the operands are identical \n",
    "# is not      True if the operands are not identical \n",
    "\n",
    "\n",
    "a = 10\n",
    "b = 20\n",
    "c = a\n",
    "\n",
    "print(a is not b)\n",
    "print(a is c)"
   ]
  },
  {
   "cell_type": "code",
   "execution_count": 46,
   "id": "38eb6b68-9e81-4dde-9fe7-9b0fa1548de6",
   "metadata": {},
   "outputs": [
    {
     "name": "stdout",
     "output_type": "stream",
     "text": [
      "x is NOT present in given list\n",
      "y is present in given list\n"
     ]
    }
   ],
   "source": [
    "# Membership Operators \n",
    "# In Python, in and not in are the membership operators that are used to test whether a value or variable is in a sequence.\n",
    "\n",
    "# in            True if value is found in the sequence\n",
    "# not in        True if value is not found in the sequence\n",
    "\n",
    "\n",
    "x = 24\n",
    "y = 20\n",
    "list = [10, 20, 30, 40, 50]\n",
    "\n",
    "if (x not in list):\n",
    "    print(\"x is NOT present in given list\")\n",
    "else:\n",
    "    print(\"x is present in given list\")\n",
    "\n",
    "if (y in list):\n",
    "    print(\"y is present in given list\")\n",
    "else:\n",
    "    print(\"y is NOT present in given list\")"
   ]
  },
  {
   "cell_type": "code",
   "execution_count": 48,
   "id": "e6c9a138-4941-4263-8ad4-0d3b17daf7d1",
   "metadata": {},
   "outputs": [
    {
     "name": "stdout",
     "output_type": "stream",
     "text": [
      "10\n"
     ]
    }
   ],
   "source": [
    "# Ternary Operator in Python\n",
    "# in Python, Ternary operators also known as conditional expressions are operators that evaluate something based on a condition being true or false.\n",
    "#It was added to Python in version 2.5. \n",
    "# It simply allows testing a condition in a single line replacing the multiline if-else making the code compact.\n",
    "\n",
    "# Syntax :  [on_true] if [expression] else [on_false]\n",
    "\n",
    "\n",
    "a, b = 10, 20\n",
    "min = a if a < b else b\n",
    "\n",
    "print(min)"
   ]
  },
  {
   "cell_type": "markdown",
   "id": "7a0d1f48-7a91-43d8-a828-34afb55dead7",
   "metadata": {
    "jp-MarkdownHeadingCollapsed": true
   },
   "source": [
    "# prectice Question of operators"
   ]
  },
  {
   "cell_type": "code",
   "execution_count": null,
   "id": "66b8974c-28eb-4de5-9828-59fcc2bd7f45",
   "metadata": {},
   "outputs": [],
   "source": [
    "# Question 1\n",
    "\"\"\" You have a data containing two record: \"Quantity\" and \"Price per Unit\".\n",
    "How would you use arithmetic operators to calculate the total cost for each item,\n",
    "also calculate the total cost? product 1, Quantity-5, Price per Unit Rs 250 product 2, \n",
    "Quantity 25, Price per Unit Rs 656 product 3 Quantity 34, Price per Unit Rs 274.\n",
    "\"\"\""
   ]
  },
  {
   "cell_type": "code",
   "execution_count": 50,
   "id": "5cc259f0-391f-47a4-87f7-4bfbcfe24d1f",
   "metadata": {},
   "outputs": [
    {
     "name": "stdout",
     "output_type": "stream",
     "text": [
      "The price of product1 is:  1250\n",
      "The price of product2 is:  16400\n",
      "The price of product3 is:  9316\n",
      "The total price customer need to pay is:  26966\n"
     ]
    }
   ],
   "source": [
    "# Question 1\n",
    "\n",
    "product1 = 5*250\n",
    "product2 = 25*656\n",
    "product3 = 34*274\n",
    "print(\"The price of product1 is: \",product1)\n",
    "print(\"The price of product2 is: \",product2)\n",
    "print(\"The price of product3 is: \",product3)\n",
    "print(\"The total price customer need to pay is: \",product1+product2+product3) "
   ]
  },
  {
   "cell_type": "code",
   "execution_count": null,
   "id": "4e78e90c-fde1-459d-89ed-ef088e8277b5",
   "metadata": {},
   "outputs": [],
   "source": [
    "# Question 2\n",
    "\"\"\" In a finance-based organization, the task is to calculate the simple interest \n",
    "given the principal amount, interest rate, and time period. The interest rate is 8%,\n",
    "the principal amount is Rs 15,00,000, and the time period is 3 years. \n",
    "Calculate the simple interest. Also, the threshold amount is Rs 1,20,000.\n",
    "Please check if the calculated interest is greater or less than the threshold amount.\n",
    "\"\"\""
   ]
  },
  {
   "cell_type": "code",
   "execution_count": 52,
   "id": "dfe45c1d-1197-4bbf-af14-38aeb60f6729",
   "metadata": {},
   "outputs": [
    {
     "name": "stdout",
     "output_type": "stream",
     "text": [
      "The simple interest is:  360000.0\n",
      "True\n",
      "The value of simple intrest is greater then threshold\n"
     ]
    }
   ],
   "source": [
    "# Question 2\n",
    "\n",
    "p = 1500000\n",
    "r = 8\n",
    "t = 3\n",
    "threshold = 120000\n",
    "\n",
    "SI = (p*r*t)/100\n",
    "print(\"The simple interest is: \", SI)\n",
    "\n",
    "comp = SI > threshold\n",
    "print(comp)\n",
    "print(\"The value of simple intrest is greater then threshold\")"
   ]
  },
  {
   "cell_type": "code",
   "execution_count": 54,
   "id": "974edcb7-e294-4213-b9e1-d08be4b5d2f9",
   "metadata": {},
   "outputs": [
    {
     "name": "stdout",
     "output_type": "stream",
     "text": [
      "The area of circle is:  452.15999999999997\n"
     ]
    }
   ],
   "source": [
    "# Question 3\n",
    "\n",
    "redius = 12\n",
    "area = 3.14*redius*redius\n",
    "\n",
    "print(\"The area of circle is: \",area)"
   ]
  },
  {
   "cell_type": "markdown",
   "id": "7d698c60-994a-4092-af2c-9cb03da99749",
   "metadata": {
    "jp-MarkdownHeadingCollapsed": true
   },
   "source": [
    "# Built in Function in Python"
   ]
  },
  {
   "cell_type": "code",
   "execution_count": null,
   "id": "0274027e-6b77-4669-a0d9-f64e8b478bc6",
   "metadata": {},
   "outputs": [],
   "source": [
    "Built-in Function :- Python has several functions that are readily available for use. These functions are \n",
    "                     called built-in functions."
   ]
  },
  {
   "cell_type": "code",
   "execution_count": 9,
   "id": "8d1c9569-b19c-4852-8461-342a4102b9aa",
   "metadata": {},
   "outputs": [
    {
     "name": "stdout",
     "output_type": "stream",
     "text": [
      "<class 'int'>\n",
      "10.0\n",
      "<class 'float'>\n"
     ]
    }
   ],
   "source": [
    "# Float Function :- use to convert any number into float number.\n",
    "\n",
    "num_int = 10\n",
    "print(type(10))\n",
    "\n",
    "a = float(num_int)\n",
    "print(a)\n",
    "print(type(a))"
   ]
  },
  {
   "cell_type": "code",
   "execution_count": 11,
   "id": "764c6307-5999-4657-84ea-548d9a984cdc",
   "metadata": {},
   "outputs": [
    {
     "name": "stdout",
     "output_type": "stream",
     "text": [
      "<class 'str'>\n",
      "1.34\n",
      "<class 'float'>\n"
     ]
    }
   ],
   "source": [
    "a = \"1.34\"\n",
    "print(type(a))\n",
    "\n",
    "b = float(a)\n",
    "print(b)\n",
    "print(type(b))"
   ]
  },
  {
   "cell_type": "code",
   "execution_count": 13,
   "id": "58e0081b-eb93-4a34-bd70-f60ca284b7d9",
   "metadata": {},
   "outputs": [
    {
     "name": "stdout",
     "output_type": "stream",
     "text": [
      "<class 'float'>\n",
      "5\n",
      "<class 'int'>\n"
     ]
    }
   ],
   "source": [
    "# Int Function :- convert any type of data number into integer type of data.\n",
    "\n",
    "a = 5.89898\n",
    "print(type(a))\n",
    "\n",
    "c = int(a)\n",
    "print(c)\n",
    "print(type(c))"
   ]
  },
  {
   "cell_type": "code",
   "execution_count": 15,
   "id": "dbaa33c3-19a1-4506-be12-72efd0d14222",
   "metadata": {},
   "outputs": [
    {
     "name": "stdout",
     "output_type": "stream",
     "text": [
      "<class 'str'>\n",
      "22\n",
      "<class 'int'>\n"
     ]
    }
   ],
   "source": [
    "A = \"22\"\n",
    "print(type(A))\n",
    "\n",
    "B = int(A)\n",
    "print(B)\n",
    "print(type(B))"
   ]
  },
  {
   "cell_type": "code",
   "execution_count": 17,
   "id": "d77a321e-cd48-44d1-aaa5-023b8e49b7a8",
   "metadata": {},
   "outputs": [
    {
     "name": "stdout",
     "output_type": "stream",
     "text": [
      "<class 'int'>\n",
      "56\n",
      "<class 'str'>\n",
      "562\n"
     ]
    }
   ],
   "source": [
    "# String Function :- convert any data type into string type of data.\n",
    "\n",
    "A = 56\n",
    "print(type(A))\n",
    "\n",
    "B = str(A)\n",
    "print(B)\n",
    "print(type(B))\n",
    "\n",
    "C = \"2\"\n",
    "print(B + C)"
   ]
  },
  {
   "cell_type": "code",
   "execution_count": 19,
   "id": "ac378b80-4d0b-4d19-8ac5-fd45fee4e307",
   "metadata": {},
   "outputs": [
    {
     "name": "stdout",
     "output_type": "stream",
     "text": [
      "<class 'float'>\n",
      "5.23456798\n",
      "<class 'str'>\n"
     ]
    }
   ],
   "source": [
    "X = 5.23456798\n",
    "print(type(X))\n",
    "\n",
    "Y = str(X)\n",
    "print(Y)\n",
    "print(type(Y))"
   ]
  },
  {
   "cell_type": "code",
   "execution_count": 21,
   "id": "32969965-c3c4-4c1d-9495-b21cb8483c2d",
   "metadata": {},
   "outputs": [
    {
     "name": "stdout",
     "output_type": "stream",
     "text": [
      "(2+3j)\n",
      "<class 'complex'>\n"
     ]
    }
   ],
   "source": [
    "# Complex Function :- in complex function you should give 2 values real value and imaginery value.\n",
    "\n",
    "comp = complex(2,3)\n",
    "print(comp)\n",
    "print(type(comp))"
   ]
  },
  {
   "cell_type": "code",
   "execution_count": 23,
   "id": "62843b38-62df-4e30-a1a6-8c788dccbf33",
   "metadata": {},
   "outputs": [
    {
     "name": "stdout",
     "output_type": "stream",
     "text": [
      "23\n"
     ]
    }
   ],
   "source": [
    "# abs Function :- always gives positive values\n",
    "\n",
    "A = -23\n",
    "print(abs(A))"
   ]
  },
  {
   "cell_type": "code",
   "execution_count": 25,
   "id": "09580529-fb75-4d85-bec4-ddb86309824d",
   "metadata": {},
   "outputs": [
    {
     "name": "stdout",
     "output_type": "stream",
     "text": [
      "2.4658292\n"
     ]
    }
   ],
   "source": [
    "X = -2.4658292\n",
    "print(abs(X))"
   ]
  },
  {
   "cell_type": "code",
   "execution_count": 27,
   "id": "1aed9df4-bc57-4bee-9fb2-9aefcf495c4d",
   "metadata": {},
   "outputs": [
    {
     "name": "stdout",
     "output_type": "stream",
     "text": [
      "5.0\n"
     ]
    }
   ],
   "source": [
    "Z = -3+4j\n",
    "print(abs(Z))"
   ]
  },
  {
   "cell_type": "code",
   "execution_count": 29,
   "id": "d4b883c4-3fff-401d-854e-8fe355d4f1e6",
   "metadata": {},
   "outputs": [
    {
     "name": "stdout",
     "output_type": "stream",
     "text": [
      "hello i am Bhupendra Bairwa\n"
     ]
    }
   ],
   "source": [
    "# len Function :- give the total length of a veriable and data type.\n",
    "\n",
    "a = \"hello i am Bhupendra Bairwa\"\n",
    "print(a)"
   ]
  },
  {
   "cell_type": "code",
   "execution_count": 31,
   "id": "ce9e9df0-e601-4844-8dca-47f1f6b9a31d",
   "metadata": {},
   "outputs": [
    {
     "name": "stdout",
     "output_type": "stream",
     "text": [
      "3\n"
     ]
    }
   ],
   "source": [
    "C = \"cat\"\n",
    "print(len(C))"
   ]
  },
  {
   "cell_type": "code",
   "execution_count": 33,
   "id": "dc3b6299-2191-4a4a-b0ad-77f4d85e425f",
   "metadata": {},
   "outputs": [
    {
     "name": "stdout",
     "output_type": "stream",
     "text": [
      "7\n"
     ]
    }
   ],
   "source": [
    "D = \"cat dog\"\n",
    "print(len(D))"
   ]
  },
  {
   "cell_type": "code",
   "execution_count": 35,
   "id": "dca1e195-2414-4bcf-9788-4f41d91863fe",
   "metadata": {},
   "outputs": [
    {
     "name": "stdout",
     "output_type": "stream",
     "text": [
      "6\n"
     ]
    }
   ],
   "source": [
    "c = [12,34,56,45,98,73]\n",
    "print(len(c))"
   ]
  },
  {
   "cell_type": "code",
   "execution_count": 60,
   "id": "ff410275-a47a-48a6-bb73-5eebb5790c5d",
   "metadata": {},
   "outputs": [
    {
     "name": "stdout",
     "output_type": "stream",
     "text": [
      "0b1010\n",
      "<class 'str'>\n"
     ]
    }
   ],
   "source": [
    "# Bin Function :- it is used to convert an integer number to its binary representation as a string prefixed with '0b'.\n",
    "\n",
    "binary = bin(10)\n",
    "print(binary)\n",
    "print(type(binary))"
   ]
  },
  {
   "cell_type": "code",
   "execution_count": 62,
   "id": "c1a823af-efd5-4e81-933a-ce5f1bdeaa45",
   "metadata": {},
   "outputs": [
    {
     "name": "stdout",
     "output_type": "stream",
     "text": [
      "0b11001000\n"
     ]
    }
   ],
   "source": [
    "Z = bin(200)\n",
    "print(Z)"
   ]
  },
  {
   "cell_type": "code",
   "execution_count": 64,
   "id": "61916c90-bde8-4273-976d-392ea52d98dd",
   "metadata": {},
   "outputs": [
    {
     "name": "stdout",
     "output_type": "stream",
     "text": [
      "0b1011001011110110000011110\n"
     ]
    }
   ],
   "source": [
    "C = bin(23456798)\n",
    "print(C)"
   ]
  },
  {
   "cell_type": "code",
   "execution_count": 66,
   "id": "87aa8a8a-9703-4209-a91a-0d3029e5fe94",
   "metadata": {},
   "outputs": [
    {
     "name": "stdout",
     "output_type": "stream",
     "text": [
      "298\n"
     ]
    }
   ],
   "source": [
    "# Sum Function :- calculate the sum of element in an iterable such as list, tuple and other.\n",
    "\n",
    "my_list = [2,4,3,7,8,98,96,80]\n",
    "a = sum(my_list)\n",
    "print(a)"
   ]
  },
  {
   "cell_type": "code",
   "execution_count": 68,
   "id": "428e3d22-340a-4d29-9ec6-56664b9f012f",
   "metadata": {},
   "outputs": [
    {
     "ename": "TypeError",
     "evalue": "unsupported operand type(s) for +: 'int' and 'str'",
     "output_type": "error",
     "traceback": [
      "\u001b[1;31m---------------------------------------------------------------------------\u001b[0m",
      "\u001b[1;31mTypeError\u001b[0m                                 Traceback (most recent call last)",
      "Cell \u001b[1;32mIn[68], line 2\u001b[0m\n\u001b[0;32m      1\u001b[0m x \u001b[38;5;241m=\u001b[39m [\u001b[38;5;124m\"\u001b[39m\u001b[38;5;124mbhupendra\u001b[39m\u001b[38;5;124m\"\u001b[39m,\u001b[38;5;124m\"\u001b[39m\u001b[38;5;124mbairwa\u001b[39m\u001b[38;5;124m\"\u001b[39m]\n\u001b[1;32m----> 2\u001b[0m \u001b[38;5;28mprint\u001b[39m(\u001b[38;5;28msum\u001b[39m(x))\n",
      "\u001b[1;31mTypeError\u001b[0m: unsupported operand type(s) for +: 'int' and 'str'"
     ]
    }
   ],
   "source": [
    "x = [\"bhupendra\",\"bairwa\"]\n",
    "print(sum(x))"
   ]
  },
  {
   "cell_type": "code",
   "execution_count": 70,
   "id": "9e5880b8-560d-48da-a989-199fb0ec20cd",
   "metadata": {},
   "outputs": [
    {
     "name": "stdout",
     "output_type": "stream",
     "text": [
      "25\n"
     ]
    }
   ],
   "source": [
    "a = [1,2,3,4,5]\n",
    "starting_value = 10\n",
    "total = sum(a,starting_value)\n",
    "print(total)"
   ]
  },
  {
   "cell_type": "code",
   "execution_count": 72,
   "id": "edb02c21-f53e-4bfb-9634-db2b1f8cd791",
   "metadata": {},
   "outputs": [
    {
     "name": "stdout",
     "output_type": "stream",
     "text": [
      "17\n"
     ]
    }
   ],
   "source": [
    "a = [1,2,3,4,5]\n",
    "starting_value = 2\n",
    "total = sum(a,starting_value)\n",
    "print(total)"
   ]
  },
  {
   "cell_type": "code",
   "execution_count": 74,
   "id": "e84db795-8b27-4fe2-baab-0b1a7359f178",
   "metadata": {},
   "outputs": [
    {
     "name": "stdout",
     "output_type": "stream",
     "text": [
      "20\n"
     ]
    }
   ],
   "source": [
    "# Eval Function :- evaluates a python expression stored in a string.\n",
    "\n",
    "x = 10\n",
    "y = 5\n",
    "expression = \"x+y*2\"\n",
    "print(eval(expression))"
   ]
  },
  {
   "cell_type": "code",
   "execution_count": 78,
   "id": "822e7ab1-0c76-4f2a-b2b5-18c392fd5770",
   "metadata": {},
   "outputs": [
    {
     "name": "stdout",
     "output_type": "stream",
     "text": [
      "6.0\n",
      "<class 'str'>\n"
     ]
    }
   ],
   "source": [
    "exp = \"5/2 +3.5\"\n",
    "print(eval(exp))\n",
    "print(type(exp))"
   ]
  },
  {
   "cell_type": "code",
   "execution_count": 80,
   "id": "7356064c-1d00-4573-b1d1-fd4328ef7ee6",
   "metadata": {},
   "outputs": [
    {
     "name": "stdout",
     "output_type": "stream",
     "text": [
      "8364.0\n"
     ]
    }
   ],
   "source": [
    "exp1 = \"334*25+63-98/2\"\n",
    "print(eval(exp1))"
   ]
  },
  {
   "cell_type": "code",
   "execution_count": 82,
   "id": "26287c0c-5982-4cf4-978a-704eb654435a",
   "metadata": {},
   "outputs": [
    {
     "name": "stdout",
     "output_type": "stream",
     "text": [
      "-166.7\n"
     ]
    }
   ],
   "source": [
    "x = 5\n",
    "y = 2.5\n",
    "z = 32\n",
    "exp = \"x+y-z*23/5-9*3\"\n",
    "print(eval(exp))"
   ]
  },
  {
   "cell_type": "code",
   "execution_count": 84,
   "id": "15b7c02e-ae94-46e1-8435-3afdd81bcabc",
   "metadata": {},
   "outputs": [
    {
     "name": "stdout",
     "output_type": "stream",
     "text": [
      "Help on built-in function print in module builtins:\n",
      "\n",
      "print(*args, sep=' ', end='\\n', file=None, flush=False)\n",
      "    Prints the values to a stream, or to sys.stdout by default.\n",
      "\n",
      "    sep\n",
      "      string inserted between values, default a space.\n",
      "    end\n",
      "      string appended after the last value, default a newline.\n",
      "    file\n",
      "      a file-like object (stream); defaults to the current sys.stdout.\n",
      "    flush\n",
      "      whether to forcibly flush the stream.\n",
      "\n"
     ]
    }
   ],
   "source": [
    "# Help Function :- help function is used to display the documentation of modules, functions,classes,keyword,etc.\n",
    "\n",
    "help(print)"
   ]
  },
  {
   "cell_type": "code",
   "execution_count": 86,
   "id": "cdd087a0-a403-4320-8bfb-040c54107d91",
   "metadata": {},
   "outputs": [
    {
     "name": "stdout",
     "output_type": "stream",
     "text": [
      "Help on class int in module builtins:\n",
      "\n",
      "class int(object)\n",
      " |  int([x]) -> integer\n",
      " |  int(x, base=10) -> integer\n",
      " |\n",
      " |  Convert a number or string to an integer, or return 0 if no arguments\n",
      " |  are given.  If x is a number, return x.__int__().  For floating-point\n",
      " |  numbers, this truncates towards zero.\n",
      " |\n",
      " |  If x is not a number or if base is given, then x must be a string,\n",
      " |  bytes, or bytearray instance representing an integer literal in the\n",
      " |  given base.  The literal can be preceded by '+' or '-' and be surrounded\n",
      " |  by whitespace.  The base defaults to 10.  Valid bases are 0 and 2-36.\n",
      " |  Base 0 means to interpret the base from the string as an integer literal.\n",
      " |  >>> int('0b100', base=0)\n",
      " |  4\n",
      " |\n",
      " |  Built-in subclasses:\n",
      " |      bool\n",
      " |\n",
      " |  Methods defined here:\n",
      " |\n",
      " |  __abs__(self, /)\n",
      " |      abs(self)\n",
      " |\n",
      " |  __add__(self, value, /)\n",
      " |      Return self+value.\n",
      " |\n",
      " |  __and__(self, value, /)\n",
      " |      Return self&value.\n",
      " |\n",
      " |  __bool__(self, /)\n",
      " |      True if self else False\n",
      " |\n",
      " |  __ceil__(...)\n",
      " |      Ceiling of an Integral returns itself.\n",
      " |\n",
      " |  __divmod__(self, value, /)\n",
      " |      Return divmod(self, value).\n",
      " |\n",
      " |  __eq__(self, value, /)\n",
      " |      Return self==value.\n",
      " |\n",
      " |  __float__(self, /)\n",
      " |      float(self)\n",
      " |\n",
      " |  __floor__(...)\n",
      " |      Flooring an Integral returns itself.\n",
      " |\n",
      " |  __floordiv__(self, value, /)\n",
      " |      Return self//value.\n",
      " |\n",
      " |  __format__(self, format_spec, /)\n",
      " |      Convert to a string according to format_spec.\n",
      " |\n",
      " |  __ge__(self, value, /)\n",
      " |      Return self>=value.\n",
      " |\n",
      " |  __getattribute__(self, name, /)\n",
      " |      Return getattr(self, name).\n",
      " |\n",
      " |  __getnewargs__(self, /)\n",
      " |\n",
      " |  __gt__(self, value, /)\n",
      " |      Return self>value.\n",
      " |\n",
      " |  __hash__(self, /)\n",
      " |      Return hash(self).\n",
      " |\n",
      " |  __index__(self, /)\n",
      " |      Return self converted to an integer, if self is suitable for use as an index into a list.\n",
      " |\n",
      " |  __int__(self, /)\n",
      " |      int(self)\n",
      " |\n",
      " |  __invert__(self, /)\n",
      " |      ~self\n",
      " |\n",
      " |  __le__(self, value, /)\n",
      " |      Return self<=value.\n",
      " |\n",
      " |  __lshift__(self, value, /)\n",
      " |      Return self<<value.\n",
      " |\n",
      " |  __lt__(self, value, /)\n",
      " |      Return self<value.\n",
      " |\n",
      " |  __mod__(self, value, /)\n",
      " |      Return self%value.\n",
      " |\n",
      " |  __mul__(self, value, /)\n",
      " |      Return self*value.\n",
      " |\n",
      " |  __ne__(self, value, /)\n",
      " |      Return self!=value.\n",
      " |\n",
      " |  __neg__(self, /)\n",
      " |      -self\n",
      " |\n",
      " |  __or__(self, value, /)\n",
      " |      Return self|value.\n",
      " |\n",
      " |  __pos__(self, /)\n",
      " |      +self\n",
      " |\n",
      " |  __pow__(self, value, mod=None, /)\n",
      " |      Return pow(self, value, mod).\n",
      " |\n",
      " |  __radd__(self, value, /)\n",
      " |      Return value+self.\n",
      " |\n",
      " |  __rand__(self, value, /)\n",
      " |      Return value&self.\n",
      " |\n",
      " |  __rdivmod__(self, value, /)\n",
      " |      Return divmod(value, self).\n",
      " |\n",
      " |  __repr__(self, /)\n",
      " |      Return repr(self).\n",
      " |\n",
      " |  __rfloordiv__(self, value, /)\n",
      " |      Return value//self.\n",
      " |\n",
      " |  __rlshift__(self, value, /)\n",
      " |      Return value<<self.\n",
      " |\n",
      " |  __rmod__(self, value, /)\n",
      " |      Return value%self.\n",
      " |\n",
      " |  __rmul__(self, value, /)\n",
      " |      Return value*self.\n",
      " |\n",
      " |  __ror__(self, value, /)\n",
      " |      Return value|self.\n",
      " |\n",
      " |  __round__(...)\n",
      " |      Rounding an Integral returns itself.\n",
      " |\n",
      " |      Rounding with an ndigits argument also returns an integer.\n",
      " |\n",
      " |  __rpow__(self, value, mod=None, /)\n",
      " |      Return pow(value, self, mod).\n",
      " |\n",
      " |  __rrshift__(self, value, /)\n",
      " |      Return value>>self.\n",
      " |\n",
      " |  __rshift__(self, value, /)\n",
      " |      Return self>>value.\n",
      " |\n",
      " |  __rsub__(self, value, /)\n",
      " |      Return value-self.\n",
      " |\n",
      " |  __rtruediv__(self, value, /)\n",
      " |      Return value/self.\n",
      " |\n",
      " |  __rxor__(self, value, /)\n",
      " |      Return value^self.\n",
      " |\n",
      " |  __sizeof__(self, /)\n",
      " |      Returns size in memory, in bytes.\n",
      " |\n",
      " |  __sub__(self, value, /)\n",
      " |      Return self-value.\n",
      " |\n",
      " |  __truediv__(self, value, /)\n",
      " |      Return self/value.\n",
      " |\n",
      " |  __trunc__(...)\n",
      " |      Truncating an Integral returns itself.\n",
      " |\n",
      " |  __xor__(self, value, /)\n",
      " |      Return self^value.\n",
      " |\n",
      " |  as_integer_ratio(self, /)\n",
      " |      Return a pair of integers, whose ratio is equal to the original int.\n",
      " |\n",
      " |      The ratio is in lowest terms and has a positive denominator.\n",
      " |\n",
      " |      >>> (10).as_integer_ratio()\n",
      " |      (10, 1)\n",
      " |      >>> (-10).as_integer_ratio()\n",
      " |      (-10, 1)\n",
      " |      >>> (0).as_integer_ratio()\n",
      " |      (0, 1)\n",
      " |\n",
      " |  bit_count(self, /)\n",
      " |      Number of ones in the binary representation of the absolute value of self.\n",
      " |\n",
      " |      Also known as the population count.\n",
      " |\n",
      " |      >>> bin(13)\n",
      " |      '0b1101'\n",
      " |      >>> (13).bit_count()\n",
      " |      3\n",
      " |\n",
      " |  bit_length(self, /)\n",
      " |      Number of bits necessary to represent self in binary.\n",
      " |\n",
      " |      >>> bin(37)\n",
      " |      '0b100101'\n",
      " |      >>> (37).bit_length()\n",
      " |      6\n",
      " |\n",
      " |  conjugate(...)\n",
      " |      Returns self, the complex conjugate of any int.\n",
      " |\n",
      " |  is_integer(self, /)\n",
      " |      Returns True. Exists for duck type compatibility with float.is_integer.\n",
      " |\n",
      " |  to_bytes(self, /, length=1, byteorder='big', *, signed=False)\n",
      " |      Return an array of bytes representing an integer.\n",
      " |\n",
      " |      length\n",
      " |        Length of bytes object to use.  An OverflowError is raised if the\n",
      " |        integer is not representable with the given number of bytes.  Default\n",
      " |        is length 1.\n",
      " |      byteorder\n",
      " |        The byte order used to represent the integer.  If byteorder is 'big',\n",
      " |        the most significant byte is at the beginning of the byte array.  If\n",
      " |        byteorder is 'little', the most significant byte is at the end of the\n",
      " |        byte array.  To request the native byte order of the host system, use\n",
      " |        `sys.byteorder' as the byte order value.  Default is to use 'big'.\n",
      " |      signed\n",
      " |        Determines whether two's complement is used to represent the integer.\n",
      " |        If signed is False and a negative integer is given, an OverflowError\n",
      " |        is raised.\n",
      " |\n",
      " |  ----------------------------------------------------------------------\n",
      " |  Class methods defined here:\n",
      " |\n",
      " |  from_bytes(bytes, byteorder='big', *, signed=False)\n",
      " |      Return the integer represented by the given array of bytes.\n",
      " |\n",
      " |      bytes\n",
      " |        Holds the array of bytes to convert.  The argument must either\n",
      " |        support the buffer protocol or be an iterable object producing bytes.\n",
      " |        Bytes and bytearray are examples of built-in objects that support the\n",
      " |        buffer protocol.\n",
      " |      byteorder\n",
      " |        The byte order used to represent the integer.  If byteorder is 'big',\n",
      " |        the most significant byte is at the beginning of the byte array.  If\n",
      " |        byteorder is 'little', the most significant byte is at the end of the\n",
      " |        byte array.  To request the native byte order of the host system, use\n",
      " |        `sys.byteorder' as the byte order value.  Default is to use 'big'.\n",
      " |      signed\n",
      " |        Indicates whether two's complement is used to represent the integer.\n",
      " |\n",
      " |  ----------------------------------------------------------------------\n",
      " |  Static methods defined here:\n",
      " |\n",
      " |  __new__(*args, **kwargs)\n",
      " |      Create and return a new object.  See help(type) for accurate signature.\n",
      " |\n",
      " |  ----------------------------------------------------------------------\n",
      " |  Data descriptors defined here:\n",
      " |\n",
      " |  denominator\n",
      " |      the denominator of a rational number in lowest terms\n",
      " |\n",
      " |  imag\n",
      " |      the imaginary part of a complex number\n",
      " |\n",
      " |  numerator\n",
      " |      the numerator of a rational number in lowest terms\n",
      " |\n",
      " |  real\n",
      " |      the real part of a complex number\n",
      "\n"
     ]
    }
   ],
   "source": [
    "help(int)"
   ]
  },
  {
   "cell_type": "code",
   "execution_count": 88,
   "id": "01843663-efdd-4eeb-a8a7-f85bb7ba9efb",
   "metadata": {},
   "outputs": [
    {
     "name": "stdout",
     "output_type": "stream",
     "text": [
      "Help on class float in module builtins:\n",
      "\n",
      "class float(object)\n",
      " |  float(x=0, /)\n",
      " |\n",
      " |  Convert a string or number to a floating-point number, if possible.\n",
      " |\n",
      " |  Methods defined here:\n",
      " |\n",
      " |  __abs__(self, /)\n",
      " |      abs(self)\n",
      " |\n",
      " |  __add__(self, value, /)\n",
      " |      Return self+value.\n",
      " |\n",
      " |  __bool__(self, /)\n",
      " |      True if self else False\n",
      " |\n",
      " |  __ceil__(self, /)\n",
      " |      Return the ceiling as an Integral.\n",
      " |\n",
      " |  __divmod__(self, value, /)\n",
      " |      Return divmod(self, value).\n",
      " |\n",
      " |  __eq__(self, value, /)\n",
      " |      Return self==value.\n",
      " |\n",
      " |  __float__(self, /)\n",
      " |      float(self)\n",
      " |\n",
      " |  __floor__(self, /)\n",
      " |      Return the floor as an Integral.\n",
      " |\n",
      " |  __floordiv__(self, value, /)\n",
      " |      Return self//value.\n",
      " |\n",
      " |  __format__(self, format_spec, /)\n",
      " |      Formats the float according to format_spec.\n",
      " |\n",
      " |  __ge__(self, value, /)\n",
      " |      Return self>=value.\n",
      " |\n",
      " |  __getnewargs__(self, /)\n",
      " |\n",
      " |  __gt__(self, value, /)\n",
      " |      Return self>value.\n",
      " |\n",
      " |  __hash__(self, /)\n",
      " |      Return hash(self).\n",
      " |\n",
      " |  __int__(self, /)\n",
      " |      int(self)\n",
      " |\n",
      " |  __le__(self, value, /)\n",
      " |      Return self<=value.\n",
      " |\n",
      " |  __lt__(self, value, /)\n",
      " |      Return self<value.\n",
      " |\n",
      " |  __mod__(self, value, /)\n",
      " |      Return self%value.\n",
      " |\n",
      " |  __mul__(self, value, /)\n",
      " |      Return self*value.\n",
      " |\n",
      " |  __ne__(self, value, /)\n",
      " |      Return self!=value.\n",
      " |\n",
      " |  __neg__(self, /)\n",
      " |      -self\n",
      " |\n",
      " |  __pos__(self, /)\n",
      " |      +self\n",
      " |\n",
      " |  __pow__(self, value, mod=None, /)\n",
      " |      Return pow(self, value, mod).\n",
      " |\n",
      " |  __radd__(self, value, /)\n",
      " |      Return value+self.\n",
      " |\n",
      " |  __rdivmod__(self, value, /)\n",
      " |      Return divmod(value, self).\n",
      " |\n",
      " |  __repr__(self, /)\n",
      " |      Return repr(self).\n",
      " |\n",
      " |  __rfloordiv__(self, value, /)\n",
      " |      Return value//self.\n",
      " |\n",
      " |  __rmod__(self, value, /)\n",
      " |      Return value%self.\n",
      " |\n",
      " |  __rmul__(self, value, /)\n",
      " |      Return value*self.\n",
      " |\n",
      " |  __round__(self, ndigits=None, /)\n",
      " |      Return the Integral closest to x, rounding half toward even.\n",
      " |\n",
      " |      When an argument is passed, work like built-in round(x, ndigits).\n",
      " |\n",
      " |  __rpow__(self, value, mod=None, /)\n",
      " |      Return pow(value, self, mod).\n",
      " |\n",
      " |  __rsub__(self, value, /)\n",
      " |      Return value-self.\n",
      " |\n",
      " |  __rtruediv__(self, value, /)\n",
      " |      Return value/self.\n",
      " |\n",
      " |  __sub__(self, value, /)\n",
      " |      Return self-value.\n",
      " |\n",
      " |  __truediv__(self, value, /)\n",
      " |      Return self/value.\n",
      " |\n",
      " |  __trunc__(self, /)\n",
      " |      Return the Integral closest to x between 0 and x.\n",
      " |\n",
      " |  as_integer_ratio(self, /)\n",
      " |      Return a pair of integers, whose ratio is exactly equal to the original float.\n",
      " |\n",
      " |      The ratio is in lowest terms and has a positive denominator.  Raise\n",
      " |      OverflowError on infinities and a ValueError on NaNs.\n",
      " |\n",
      " |      >>> (10.0).as_integer_ratio()\n",
      " |      (10, 1)\n",
      " |      >>> (0.0).as_integer_ratio()\n",
      " |      (0, 1)\n",
      " |      >>> (-.25).as_integer_ratio()\n",
      " |      (-1, 4)\n",
      " |\n",
      " |  conjugate(self, /)\n",
      " |      Return self, the complex conjugate of any float.\n",
      " |\n",
      " |  hex(self, /)\n",
      " |      Return a hexadecimal representation of a floating-point number.\n",
      " |\n",
      " |      >>> (-0.1).hex()\n",
      " |      '-0x1.999999999999ap-4'\n",
      " |      >>> 3.14159.hex()\n",
      " |      '0x1.921f9f01b866ep+1'\n",
      " |\n",
      " |  is_integer(self, /)\n",
      " |      Return True if the float is an integer.\n",
      " |\n",
      " |  ----------------------------------------------------------------------\n",
      " |  Class methods defined here:\n",
      " |\n",
      " |  __getformat__(typestr, /)\n",
      " |      You probably don't want to use this function.\n",
      " |\n",
      " |        typestr\n",
      " |          Must be 'double' or 'float'.\n",
      " |\n",
      " |      It exists mainly to be used in Python's test suite.\n",
      " |\n",
      " |      This function returns whichever of 'unknown', 'IEEE, big-endian' or 'IEEE,\n",
      " |      little-endian' best describes the format of floating-point numbers used by the\n",
      " |      C type named by typestr.\n",
      " |\n",
      " |  fromhex(string, /)\n",
      " |      Create a floating-point number from a hexadecimal string.\n",
      " |\n",
      " |      >>> float.fromhex('0x1.ffffp10')\n",
      " |      2047.984375\n",
      " |      >>> float.fromhex('-0x1p-1074')\n",
      " |      -5e-324\n",
      " |\n",
      " |  ----------------------------------------------------------------------\n",
      " |  Static methods defined here:\n",
      " |\n",
      " |  __new__(*args, **kwargs)\n",
      " |      Create and return a new object.  See help(type) for accurate signature.\n",
      " |\n",
      " |  ----------------------------------------------------------------------\n",
      " |  Data descriptors defined here:\n",
      " |\n",
      " |  imag\n",
      " |      the imaginary part of a complex number\n",
      " |\n",
      " |  real\n",
      " |      the real part of a complex number\n",
      "\n"
     ]
    }
   ],
   "source": [
    "help(float)"
   ]
  },
  {
   "cell_type": "code",
   "execution_count": 90,
   "id": "8d1bc9d6-b1d2-4b31-b991-d121bdbaaafe",
   "metadata": {},
   "outputs": [
    {
     "name": "stdout",
     "output_type": "stream",
     "text": [
      "Help on built-in function sum in module builtins:\n",
      "\n",
      "sum(iterable, /, start=0)\n",
      "    Return the sum of a 'start' value (default: 0) plus an iterable of numbers\n",
      "\n",
      "    When the iterable is empty, return the start value.\n",
      "    This function is intended specifically for use with numeric values and may\n",
      "    reject non-numeric types.\n",
      "\n"
     ]
    }
   ],
   "source": [
    "help(sum)"
   ]
  },
  {
   "cell_type": "code",
   "execution_count": 92,
   "id": "a3f18b69-2455-40fe-9a2b-93e5d4557050",
   "metadata": {},
   "outputs": [
    {
     "data": {
      "text/plain": [
       "\u001b[1;31mSignature:\u001b[0m \u001b[0msum\u001b[0m\u001b[1;33m(\u001b[0m\u001b[0miterable\u001b[0m\u001b[1;33m,\u001b[0m \u001b[1;33m/\u001b[0m\u001b[1;33m,\u001b[0m \u001b[0mstart\u001b[0m\u001b[1;33m=\u001b[0m\u001b[1;36m0\u001b[0m\u001b[1;33m)\u001b[0m\u001b[1;33m\u001b[0m\u001b[1;33m\u001b[0m\u001b[0m\n",
       "\u001b[1;31mDocstring:\u001b[0m\n",
       "Return the sum of a 'start' value (default: 0) plus an iterable of numbers\n",
       "\n",
       "When the iterable is empty, return the start value.\n",
       "This function is intended specifically for use with numeric values and may\n",
       "reject non-numeric types.\n",
       "\u001b[1;31mType:\u001b[0m      builtin_function_or_method"
      ]
     },
     "metadata": {},
     "output_type": "display_data"
    }
   ],
   "source": [
    "sum??"
   ]
  },
  {
   "cell_type": "code",
   "execution_count": 96,
   "id": "2b849a73-d493-48db-9d09-3649012953c5",
   "metadata": {},
   "outputs": [
    {
     "name": "stdin",
     "output_type": "stream",
     "text": [
      "enter your name bhupendra\n"
     ]
    },
    {
     "name": "stdout",
     "output_type": "stream",
     "text": [
      "name entered by user is:  bhupendra\n",
      "<class 'str'>\n"
     ]
    }
   ],
   "source": [
    "# input Function :- take the value the input value from user.Only take input in string data type.\n",
    "\n",
    "name = input(\"enter your name\")\n",
    "print(\"name entered by user is: \",name)\n",
    "print(type(name))"
   ]
  },
  {
   "cell_type": "code",
   "execution_count": 98,
   "id": "de76e393-9ed7-4279-9a90-8f915629b22d",
   "metadata": {},
   "outputs": [
    {
     "name": "stdin",
     "output_type": "stream",
     "text": [
      "enter your age 21\n"
     ]
    },
    {
     "name": "stdout",
     "output_type": "stream",
     "text": [
      "age entered by user is:  21\n",
      "<class 'str'>\n"
     ]
    }
   ],
   "source": [
    "age  = input(\"enter your age\")\n",
    "print(\"age entered by user is: \",age)\n",
    "print(type(age))"
   ]
  },
  {
   "cell_type": "code",
   "execution_count": null,
   "id": "6250d1dc-db7e-479e-8bd2-035610398468",
   "metadata": {},
   "outputs": [],
   "source": []
  },
  {
   "cell_type": "markdown",
   "id": "db8154e8-2204-4aae-883b-b446a7fb48ea",
   "metadata": {
    "jp-MarkdownHeadingCollapsed": true
   },
   "source": [
    "# Prectice Question of Built in Function"
   ]
  },
  {
   "cell_type": "code",
   "execution_count": null,
   "id": "fbe18e85-a56c-44b7-a4e0-b511c7f04aab",
   "metadata": {},
   "outputs": [],
   "source": [
    "# Question 1\n",
    "\"\"\" In a game application, the player's score is stored as a floating-point number.\n",
    "However, for leaderboard display, you need to convert the score to an integer. \n",
    "How would you use the int() function to convert the player's score \n",
    "from floating-point to integer format? pls solve this with code, player score 1234.56 \n",
    "\"\"\""
   ]
  },
  {
   "cell_type": "code",
   "execution_count": 1,
   "id": "90605a17-a21b-498f-b527-6d76b30d8461",
   "metadata": {},
   "outputs": [
    {
     "name": "stdout",
     "output_type": "stream",
     "text": [
      "the player score is:  1234\n"
     ]
    }
   ],
   "source": [
    "# Question 1 \n",
    "\n",
    "player_score = 1234.56\n",
    "print(\"the player score is: \",int(player_score))"
   ]
  },
  {
   "cell_type": "code",
   "execution_count": null,
   "id": "00906db6-f0f3-4efe-88e7-68a12a8fc5bb",
   "metadata": {},
   "outputs": [],
   "source": [
    "# Question 2 \n",
    "\"\"\"\" In a customer relationship management (CRM) system \n",
    "for a retail company, you have a database containing customer records. \n",
    "How would you use the len() function to find the total number of customers in the database, \n",
    "allowing the company to track its customer base? \n",
    "\n",
    "customer database = [ \n",
    "(1, John Doe, john@example.com'), \n",
    "(2, Jane Smith, jane@example.com'), \n",
    "(3, 'Alice Johnson', 'alice@example.com'), \n",
    "]\n",
    "\"\"\""
   ]
  },
  {
   "cell_type": "code",
   "execution_count": 3,
   "id": "939bb138-1ff1-4098-85fe-6c607756c127",
   "metadata": {},
   "outputs": [
    {
     "name": "stdout",
     "output_type": "stream",
     "text": [
      "the total number of customer in the database:  3\n"
     ]
    }
   ],
   "source": [
    "# Question 2 \n",
    "\n",
    "customer_database = [\n",
    "    (1, 'John Doe', 'john@example.com'),\n",
    "    (2, 'Jane Smith', 'jane@example.com'),\n",
    "    (3, 'Alice Johnson', 'alice@example.com')\n",
    "]\n",
    "print(\"the total number of customer in the database: \",len(customer_database))"
   ]
  },
  {
   "cell_type": "code",
   "execution_count": null,
   "id": "0255821d-fcb6-4c9d-8a1d-14a0a05d24c9",
   "metadata": {},
   "outputs": [],
   "source": [
    "# Question 3\n",
    "\"\"\" You're developing a financial application that calculates simple interest. \n",
    "The principal amount is 250000 Rs, the interest rate is 9.3456% and the time period is 3 years. \n",
    "Calculate the Simple Interest (9), and the final value should be an integer. \"\"\""
   ]
  },
  {
   "cell_type": "code",
   "execution_count": 5,
   "id": "4fed2908-5de4-4fd9-b387-7cc71375c573",
   "metadata": {},
   "outputs": [
    {
     "name": "stdout",
     "output_type": "stream",
     "text": [
      "the simple interest is:  70092.525\n",
      "the integer value is:  70092\n"
     ]
    }
   ],
   "source": [
    "# Question 3 \n",
    "\n",
    "p = 250000\n",
    "r = 9.34567\n",
    "t = 3\n",
    "SI = (p*r*t)/100\n",
    "print(\"the simple interest is: \",SI)\n",
    "print(\"the integer value is: \",int(SI))"
   ]
  },
  {
   "cell_type": "code",
   "execution_count": null,
   "id": "ea322380-f52e-4eb4-af5a-a70fffb59d81",
   "metadata": {},
   "outputs": [],
   "source": [
    "# Question 4\n",
    "\"\"\" You're working at a travel company, responsible for managing passenger information. \n",
    "Due to a technical glitch in the booking system, some passengers ages were mistakenly recorded as negative values.\n",
    "However, age cannot be negative, and it's essential to correct this data Inconsistency before further analysis or reporting.. \n",
    "which function you will use to correct the ages of all passengers \n",
    "in the dataset where negative ages were recorded due to a technical glitch? \"\"\""
   ]
  },
  {
   "cell_type": "code",
   "execution_count": 7,
   "id": "4c79b1f4-c09b-455b-bfe0-7d899ae36a30",
   "metadata": {},
   "outputs": [
    {
     "name": "stdout",
     "output_type": "stream",
     "text": [
      "56\n",
      "23\n"
     ]
    }
   ],
   "source": [
    "suman_age = -56\n",
    "aman_age = -23\n",
    "print(abs(suman_age))\n",
    "print(abs(aman_age))"
   ]
  },
  {
   "cell_type": "code",
   "execution_count": null,
   "id": "3ca032c2-b8f6-4ec2-ae93-f28ebec66f3d",
   "metadata": {},
   "outputs": [],
   "source": [
    "# Question 5\n",
    "\"\"\" Get two numbers from the user and calculate their sum \"\"\""
   ]
  },
  {
   "cell_type": "code",
   "execution_count": 102,
   "id": "30454435-e895-45cd-bbfe-f9dd0492216a",
   "metadata": {},
   "outputs": [
    {
     "name": "stdin",
     "output_type": "stream",
     "text": [
      "enter the first number 5\n",
      "enter the second number 7\n"
     ]
    },
    {
     "name": "stdout",
     "output_type": "stream",
     "text": [
      "12\n"
     ]
    }
   ],
   "source": [
    "N = int(input(\"enter the first number\"))\n",
    "M = int(input(\"enter the second number\"))\n",
    "Sum = N + M\n",
    "print(Sum)"
   ]
  },
  {
   "cell_type": "code",
   "execution_count": null,
   "id": "44ad031c-03f9-4d5d-b9fe-db565ed3432a",
   "metadata": {},
   "outputs": [],
   "source": [
    "# Question 6\n",
    "\"\"\" As part of your role in a data-driven project,\n",
    "you need to take input from the user for their age, weight, and height. \n",
    "However, there's an issue: the user has entered their age as a negative number. \n",
    "You need to correct the age of the user, and after correcting the age, \n",
    "calculate their Basal Metabolic Rate (BMR) using the Harris-Benedict equation for men. \n",
    "Ensure that the final answer of BMR is an integer.\n",
    "    \n",
    "Basal Metabolic Rate (BMR): Formula (Harris-Benedict equation for men):\n",
    "BMR = 88.362 + (13.397 weight in kg) + (4.799 height in cm) - (5.677 age in years) \n",
    "\"\"\""
   ]
  },
  {
   "cell_type": "code",
   "execution_count": 106,
   "id": "e0d8430d-f13e-4755-87f5-aeed66c965e9",
   "metadata": {},
   "outputs": [
    {
     "name": "stdin",
     "output_type": "stream",
     "text": [
      "enter your age -45\n",
      "enter your weight 67\n",
      "enter your height 5.9\n"
     ]
    },
    {
     "name": "stdout",
     "output_type": "stream",
     "text": [
      "the correct age of user is:  45\n",
      "the BMR of the patient is:  1269\n"
     ]
    }
   ],
   "source": [
    "age = int(input(\"enter your age\"))\n",
    "weight = int(input(\"enter your weight\"))\n",
    "height = float(input(\"enter your height\"))\n",
    "correct_age = abs(age)\n",
    "print(\"the correct age of user is: \",correct_age)\n",
    "BMR = \"88.362 + (13.397 * weight) + (4.799 * height) - (5.677 * age)\"\n",
    "bmr = eval(BMR)\n",
    "print(\"the BMR of the patient is: \",int(bmr))"
   ]
  },
  {
   "cell_type": "code",
   "execution_count": null,
   "id": "0267c5ab-9cfd-45d4-992d-bef2ca7d73dd",
   "metadata": {},
   "outputs": [],
   "source": [
    "# Question 7\n",
    "\"\"\" write a python code for hostel students, ask them to mention thier course name and age. \n",
    "for 5 students and calculate thier avg age.\n",
    "\"\"\""
   ]
  },
  {
   "cell_type": "code",
   "execution_count": 108,
   "id": "39e8235d-331a-4778-bf11-99aef8d2a030",
   "metadata": {},
   "outputs": [
    {
     "name": "stdin",
     "output_type": "stream",
     "text": [
      "enter your course name  AI\n",
      "enter the age of 1st student:  21\n",
      "enter the age of 2st student:  15\n",
      "enter the age of 3st student:  17\n",
      "enter the age of 4st student:  18\n",
      "enter the age of 5st student:  19\n"
     ]
    },
    {
     "name": "stdout",
     "output_type": "stream",
     "text": [
      "18.0\n"
     ]
    }
   ],
   "source": [
    "# option-1\n",
    "\n",
    "course_name = input(\"enter your course name \")\n",
    "st_age1 = int(input(\"enter the age of 1st student: \"))\n",
    "st_age2 = int(input(\"enter the age of 2st student: \"))\n",
    "st_age3 = int(input(\"enter the age of 3st student: \"))\n",
    "st_age4 = int(input(\"enter the age of 4st student: \"))\n",
    "st_age5 = int(input(\"enter the age of 5st student: \"))\n",
    "average = \"(st_age1 + st_age2 + st_age3 + st_age4 + st_age5)/5\"\n",
    "avg = eval(average)\n",
    "print(avg)"
   ]
  },
  {
   "cell_type": "code",
   "execution_count": 110,
   "id": "5fa450c9-a636-4131-96b9-e85aec9d718d",
   "metadata": {},
   "outputs": [
    {
     "name": "stdin",
     "output_type": "stream",
     "text": [
      "Enter name of student 1:  arjun\n",
      "Enter course of student 1:  AI\n",
      "Enter age of student 1:  20\n",
      "Enter name of student 2:  ak\n",
      "Enter course of student 2:  ai\n",
      "Enter age of student 2:  21\n",
      "Enter name of student 3:  rk\n",
      "Enter course of student 3:  cs\n",
      "Enter age of student 3:  18\n",
      "Enter name of student 4:  sk\n",
      "Enter course of student 4:  cs\n",
      "Enter age of student 4:  19\n",
      "Enter name of student 5:  Rahul\n",
      "Enter course of student 5:  AIDS\n",
      "Enter age of student 5:  21\n"
     ]
    },
    {
     "name": "stdout",
     "output_type": "stream",
     "text": [
      "\n",
      "Student Details:\n",
      "Name: arjun, Course: AI, Age: 20\n",
      "Name: ak, Course: ai, Age: 21\n",
      "Name: rk, Course: cs, Age: 18\n",
      "Name: sk, Course: cs, Age: 19\n",
      "Name: Rahul, Course: AIDS, Age: 21\n",
      "\n",
      "Average age of the students: 19.8\n"
     ]
    }
   ],
   "source": [
    "# option-2\n",
    "\n",
    "students = []\n",
    "for i in range(5):\n",
    "    name = input(f\"Enter name of student {i+1}: \")\n",
    "    course = input(f\"Enter course of student {i+1}: \")\n",
    "    age = int(input(f\"Enter age of student {i+1}: \"))\n",
    "    students.append({\"name\": name, \"course\": course, \"age\": age})\n",
    "\n",
    "total_age = 0\n",
    "for student in students:\n",
    "    total_age += student[\"age\"]\n",
    "    \n",
    "average_age = total_age / len(students)\n",
    "\n",
    "print(\"\\nStudent Details:\")\n",
    "for student in students:\n",
    "    print(f\"Name: {student['name']}, Course: {student['course']}, Age: {student['age']}\")\n",
    "\n",
    "print(f\"\\nAverage age of the students: {average_age}\")"
   ]
  },
  {
   "cell_type": "markdown",
   "id": "3423af5a-2a50-48ce-b39c-cb5192fdc363",
   "metadata": {
    "jp-MarkdownHeadingCollapsed": true
   },
   "source": [
    "# Control Flow Statement"
   ]
  },
  {
   "cell_type": "code",
   "execution_count": null,
   "id": "cd7abef3-37f7-4a6b-a6b0-08ce802f61ea",
   "metadata": {},
   "outputs": [],
   "source": [
    "Control flow statements are fundamental components of programming languages that allow developers \n",
    "to control the order in which instructions are executed in a program. They enable execution of a\n",
    "block of code multiple times, execute a block of code based on conditions, terminate or \n",
    "skip the execution of certain lines of code, etc.\n",
    "\n",
    "Type\n",
    "1) Conditional Statement: if, if-else, if-elif-else, and nested if-else\n",
    "2) Transfer Statement: break, continue,pass\n",
    "3) Iterative Statement: for, while\n"
   ]
  },
  {
   "cell_type": "code",
   "execution_count": null,
   "id": "0759dd99-98ca-49c2-8e39-add38bf03cff",
   "metadata": {},
   "outputs": [],
   "source": [
    "# Conditional Statement :- \n",
    "Conditional statements in programming are used to execute certain blocks of \n",
    "code based on specified conditions. They are fundamental to decision-making in programs. \n",
    "EG :- if, if-else, if-elif-else, and nested if-else\n",
    "\n",
    "\n",
    "# if Statement :\n",
    "The if statement is used to execute a block of code if a specified condition is true.\n",
    "\n",
    "# if-else Statement :\n",
    "The if-else statement is used to execute one block of code if a specified condition is true, \n",
    "and another block of code if the condition is false.\n",
    "\n",
    "# if-elif -else Statement :\n",
    "The if-elif-else statement is used to execute one block of code if a specified condition is true, \n",
    "another block of code if another condition is true, and a default block of code if none of the conditions are true.\n"
   ]
  },
  {
   "cell_type": "code",
   "execution_count": 5,
   "id": "c255ca5b-7550-4df5-8a27-129f712b484a",
   "metadata": {},
   "outputs": [
    {
     "name": "stdout",
     "output_type": "stream",
     "text": [
      "condition is false\n"
     ]
    }
   ],
   "source": [
    "# if Statement \n",
    "\n",
    "n = 20\n",
    "if n < 10:\n",
    "    print(\"20 is greater than 10\")\n",
    "print(\"condition is false\")"
   ]
  },
  {
   "cell_type": "code",
   "execution_count": null,
   "id": "17ae6f07-1236-4631-b63e-cf55a746bb7e",
   "metadata": {},
   "outputs": [],
   "source": [
    "\"\"\" Develop a temperature converter in Python for a cold storage that converts temperatures \n",
    "between Celsius and Fahrenheit scales. The program should take a temperature value and\n",
    "a unit (C or F) as input. If the temperature is less than 15 degrees Celsius, inform the \n",
    "user that the temperature is not convenient. If the temperature is between 24 to 28 degrees \n",
    "Celsius, inform the user that the temperature is convenient. \n",
    "\"\"\""
   ]
  },
  {
   "cell_type": "code",
   "execution_count": 9,
   "id": "f4a48695-6f92-4d80-bca6-243a1fb8d2df",
   "metadata": {},
   "outputs": [
    {
     "name": "stdin",
     "output_type": "stream",
     "text": [
      "enter the temperature 25\n"
     ]
    },
    {
     "name": "stdout",
     "output_type": "stream",
     "text": [
      "temperature is convinient\n"
     ]
    }
   ],
   "source": [
    "temp = float(input(\"enter the temperature\"))\n",
    "if temp < 15:\n",
    "    print(\"temperature is not convinient\")\n",
    "if 24 <temp< 28:\n",
    "    print(\"temperature is convinient\")"
   ]
  },
  {
   "cell_type": "code",
   "execution_count": 13,
   "id": "a7d55b88-7a18-43f0-88ec-b80b2102ad47",
   "metadata": {},
   "outputs": [
    {
     "name": "stdin",
     "output_type": "stream",
     "text": [
      "enter your age  21\n"
     ]
    },
    {
     "name": "stdout",
     "output_type": "stream",
     "text": [
      "You are eligible to vote\n"
     ]
    }
   ],
   "source": [
    "# if-else Statement\n",
    "\n",
    "age = int(input(\"enter your age \"))\n",
    "if age > 18:\n",
    "    print(\"You are eligible to vote\")\n",
    "else:\n",
    "    print(\"You are not eligible to vote\")"
   ]
  },
  {
   "cell_type": "code",
   "execution_count": null,
   "id": "5d94cb45-4be5-4b1e-ac29-62a4b02d0439",
   "metadata": {},
   "outputs": [],
   "source": [
    "\"\"\" You are tasked with developing a Python program to manage employee salaries for a company. \n",
    "Your program should calculate the net salary of each employee based on their base salary, deductions, \n",
    "and bonuses. Additionally, employees who have been with the company for more than 5 years are eligible\n",
    "for an additional loyalty bonus, of salary. Deductions of tax will be 12% \n",
    "Write a Python script that prompts the user to input the following information for each employee: Base salary \n",
    "Years of service After calculating the net salary, the program should print a summary for each employee including\n",
    "their base salary, deductions, bonuses, loyalty bonus (if applicable), and net salary. \n",
    "\"\"\""
   ]
  },
  {
   "cell_type": "code",
   "execution_count": 17,
   "id": "4700b835-1092-447b-bbf1-e8e00b3479ca",
   "metadata": {},
   "outputs": [
    {
     "name": "stdin",
     "output_type": "stream",
     "text": [
      "Enter your base salary 67000\n",
      "Enter your year of service 6\n"
     ]
    },
    {
     "name": "stdout",
     "output_type": "stream",
     "text": [
      "you will get net salary:  64320.0\n"
     ]
    }
   ],
   "source": [
    "base_salary = float(input(\"Enter your base salary\"))\n",
    "year_service = int(input(\"Enter your year of service\"))\n",
    "\n",
    "if year_service > 5:\n",
    "    total_salary = base_salary + (0.08*base_salary) - (0.12*base_salary)\n",
    "    print(\"you will get net salary: \",total_salary)\n",
    "else:\n",
    "    net_salary = base_salary - (0.12*base_salary)\n",
    "    print(\"your net salary is: \",net_salary)"
   ]
  },
  {
   "cell_type": "code",
   "execution_count": null,
   "id": "6d85083d-d9a7-4166-b2e9-8ddf6ee3b046",
   "metadata": {},
   "outputs": [],
   "source": [
    "\"\"\" Write a Python program that prompts the user to input a city and displays the famous monument of that city. \n",
    "Mumbai: Gateway of India \n",
    "Kolkata: Victoria Memorial \n",
    "Chennai: Marina Beach \n",
    "Bangalore: Botanical Garden \n",
    "Pune: Shaniwar Wada \n",
    "write a Python script to implement this functionality. \n",
    "\"\"\""
   ]
  },
  {
   "cell_type": "code",
   "execution_count": 6,
   "id": "49d8544d-6c2d-4e4f-9655-6e02a5319068",
   "metadata": {},
   "outputs": [
    {
     "name": "stdin",
     "output_type": "stream",
     "text": [
      "enter the city  Chennai\n"
     ]
    },
    {
     "name": "stdout",
     "output_type": "stream",
     "text": [
      "the famous monument is a Marina Beach\n"
     ]
    }
   ],
   "source": [
    "# if-else-if Statement\n",
    "\n",
    "a = input(\"enter the city \")\n",
    "if a == 'Mumbai':\n",
    "    print(\"the famous monument is a get way of India\")\n",
    "elif a == \"Kolkata\":\n",
    "    print(\"the famous monument is a Victoria Memorial\")\n",
    "elif a == \"Chennai\":\n",
    "    print(\"the famous monument is a Marina Beach\")\n",
    "elif a == \"Bangalore\":\n",
    "    print(\"the famous monument is a Botnical garden\")\n",
    "elif a == \"Pune\":\n",
    "    print(\"the famous monument is a Victoria Memorial\")\n",
    "else:\n",
    "    print(\"No record is found\")"
   ]
  },
  {
   "cell_type": "markdown",
   "id": "9bfa0d79-3c1f-4be4-9754-24f772c303bc",
   "metadata": {
    "jp-MarkdownHeadingCollapsed": true
   },
   "source": [
    "# Loops in python"
   ]
  },
  {
   "cell_type": "code",
   "execution_count": 9,
   "id": "542826fe-8940-42fd-a29c-2ffdeda403eb",
   "metadata": {},
   "outputs": [
    {
     "name": "stdout",
     "output_type": "stream",
     "text": [
      "1\n",
      "2\n",
      "3\n",
      "4\n",
      "5\n"
     ]
    }
   ],
   "source": [
    "# While Loop\n",
    "\n",
    "count = 1\n",
    "while count <= 5:\n",
    "    print(count)\n",
    "    count += 1"
   ]
  },
  {
   "cell_type": "code",
   "execution_count": null,
   "id": "fb73ab61-fe96-4043-bc7b-ce8472e237a1",
   "metadata": {},
   "outputs": [],
   "source": [
    "\"\"\" write a python program to print all the even numbers between 1 and 50 using a while loop \"\"\""
   ]
  },
  {
   "cell_type": "code",
   "execution_count": 11,
   "id": "86256d7a-113f-4bf6-a01c-ab10ee01956b",
   "metadata": {},
   "outputs": [
    {
     "name": "stdout",
     "output_type": "stream",
     "text": [
      "2\n",
      "4\n",
      "6\n",
      "8\n",
      "10\n",
      "12\n",
      "14\n",
      "16\n",
      "18\n",
      "20\n",
      "22\n",
      "24\n",
      "26\n",
      "28\n",
      "30\n",
      "32\n",
      "34\n",
      "36\n",
      "38\n",
      "40\n",
      "42\n",
      "44\n",
      "46\n",
      "48\n",
      "50\n"
     ]
    }
   ],
   "source": [
    "num = 1 \n",
    "while num <= 50:\n",
    "    if num%2==0:\n",
    "        print(num)\n",
    "    num += 1"
   ]
  },
  {
   "cell_type": "code",
   "execution_count": null,
   "id": "056b646b-03ef-4370-9f1f-248c192f075d",
   "metadata": {},
   "outputs": [],
   "source": [
    "# Qestion\n",
    "\n",
    "\"\"\"\n",
    "You are tasked with validating user input for email addresses. write a Python program that\n",
    "prompts the user to enter an email address. Use a while loop to iterate through the input \n",
    "and check if the email address contains an \"@\" symbol and a symbol. If the email address \n",
    "does not meet these criteria, print \"Invalid email address format. \n",
    "Please try again.\" Otherwise, print \"Email address validation passed \n",
    "\"\"\""
   ]
  },
  {
   "cell_type": "code",
   "execution_count": 13,
   "id": "2a7b21c3-a0a1-4cc3-b020-61481431ea91",
   "metadata": {},
   "outputs": [
    {
     "name": "stdin",
     "output_type": "stream",
     "text": [
      "enter your email id  bhupendrabairwa98@gmail.com\n"
     ]
    },
    {
     "name": "stdout",
     "output_type": "stream",
     "text": [
      "Your email id is valid\n"
     ]
    }
   ],
   "source": [
    "email = input(\"enter your email id \")\n",
    "valid_email = False\n",
    "while not valid_email:\n",
    "    if \"@\" in email and \".\" in email:\n",
    "        print(\"Your email id is valid\")\n",
    "        valid_email = True\n",
    "    else:\n",
    "        print(\"Your email id is not valid, try again\")\n",
    "        email = input(\"please enter your mail id\")"
   ]
  },
  {
   "cell_type": "code",
   "execution_count": 15,
   "id": "3f6d2f8a-fecc-45b0-b2f0-e84a24a73b22",
   "metadata": {},
   "outputs": [
    {
     "name": "stdout",
     "output_type": "stream",
     "text": [
      "1\n",
      "2\n",
      "3\n",
      "4\n",
      "5\n"
     ]
    }
   ],
   "source": [
    "# For Loop\n",
    "\n",
    "numbers = [1,2,3,4,5]\n",
    "for i in numbers:\n",
    "    print(i)"
   ]
  },
  {
   "cell_type": "code",
   "execution_count": 19,
   "id": "8f26f8c0-e200-4be9-87ad-b4171d609f0b",
   "metadata": {},
   "outputs": [
    {
     "name": "stdout",
     "output_type": "stream",
     "text": [
      "0\n",
      "1\n",
      "2\n",
      "3\n",
      "4\n",
      "5\n",
      "6\n",
      "7\n",
      "8\n",
      "9\n",
      "10\n"
     ]
    }
   ],
   "source": [
    "for i in range(11):\n",
    "    print(i)"
   ]
  },
  {
   "cell_type": "code",
   "execution_count": 21,
   "id": "a6610a31-f38e-49f5-bce8-0570d0b74829",
   "metadata": {},
   "outputs": [
    {
     "name": "stdout",
     "output_type": "stream",
     "text": [
      "0\n",
      "1\n",
      "2\n",
      "3\n",
      "4\n",
      "5\n",
      "6\n",
      "7\n",
      "8\n",
      "9\n",
      "10\n",
      "11\n",
      "12\n",
      "13\n",
      "14\n",
      "15\n",
      "16\n",
      "17\n",
      "18\n",
      "19\n",
      "20\n",
      "21\n",
      "22\n",
      "23\n",
      "24\n",
      "25\n"
     ]
    }
   ],
   "source": [
    "for i in range(26):\n",
    "    print(i)"
   ]
  },
  {
   "cell_type": "code",
   "execution_count": 23,
   "id": "580e0b8f-e020-4570-b541-8289472e116e",
   "metadata": {},
   "outputs": [
    {
     "name": "stdout",
     "output_type": "stream",
     "text": [
      "15\n",
      "16\n",
      "17\n",
      "18\n",
      "19\n",
      "20\n",
      "21\n",
      "22\n",
      "23\n",
      "24\n",
      "25\n"
     ]
    }
   ],
   "source": [
    "for i in range(15,26):\n",
    "    print(i)"
   ]
  },
  {
   "cell_type": "code",
   "execution_count": 8,
   "id": "42c2dc5e-4659-421e-8b5c-9fec09207ce5",
   "metadata": {},
   "outputs": [
    {
     "name": "stdout",
     "output_type": "stream",
     "text": [
      "2\n",
      "4\n",
      "6\n",
      "8\n",
      "10\n"
     ]
    }
   ],
   "source": [
    "numbers = [1,2,3,4,5]\n",
    "for num in numbers:\n",
    "    print(num * 2)"
   ]
  },
  {
   "cell_type": "code",
   "execution_count": 25,
   "id": "99e34625-aac1-4518-b124-774e12afd0ab",
   "metadata": {},
   "outputs": [
    {
     "name": "stdout",
     "output_type": "stream",
     "text": [
      "The number is even  0\n",
      "The number is even  2\n",
      "The number is even  4\n",
      "The number is even  6\n",
      "The number is even  8\n",
      "The number is even  10\n",
      "The number is even  12\n",
      "The number is even  14\n",
      "The number is even  16\n",
      "The number is even  18\n",
      "The number is even  20\n",
      "The number is even  22\n",
      "The number is even  24\n"
     ]
    }
   ],
   "source": [
    "for i in range(0,26):\n",
    "    if i%2 == 0:\n",
    "        print(\"The number is even \",i)"
   ]
  },
  {
   "cell_type": "code",
   "execution_count": 27,
   "id": "a9f2bca6-4d5f-43bf-a502-d4ecbd3454d1",
   "metadata": {},
   "outputs": [
    {
     "name": "stdout",
     "output_type": "stream",
     "text": [
      "The number is even  0\n",
      "The number is odd  1\n",
      "The number is even  2\n",
      "The number is odd  3\n",
      "The number is even  4\n",
      "The number is odd  5\n",
      "The number is even  6\n",
      "The number is odd  7\n",
      "The number is even  8\n",
      "The number is odd  9\n",
      "The number is even  10\n",
      "The number is odd  11\n",
      "The number is even  12\n",
      "The number is odd  13\n",
      "The number is even  14\n",
      "The number is odd  15\n",
      "The number is even  16\n",
      "The number is odd  17\n",
      "The number is even  18\n",
      "The number is odd  19\n",
      "The number is even  20\n",
      "The number is odd  21\n",
      "The number is even  22\n",
      "The number is odd  23\n",
      "The number is even  24\n",
      "The number is odd  25\n"
     ]
    }
   ],
   "source": [
    "for i in range(0,26):\n",
    "    if i%2 == 0:\n",
    "        print(\"The number is even \",i)\n",
    "    else:\n",
    "        print(\"The number is odd \",i)"
   ]
  },
  {
   "cell_type": "code",
   "execution_count": null,
   "id": "1cd569c8-6346-40f3-b764-9d743444cf4d",
   "metadata": {},
   "outputs": [],
   "source": [
    "\"\"\"  Write a Python program to generate the multiplication table of a given number using for loop. \"\"\""
   ]
  },
  {
   "cell_type": "code",
   "execution_count": 31,
   "id": "b0261920-8dae-42ce-9dd7-19def651d10f",
   "metadata": {},
   "outputs": [
    {
     "name": "stdin",
     "output_type": "stream",
     "text": [
      "enter the number of table  5\n"
     ]
    },
    {
     "name": "stdout",
     "output_type": "stream",
     "text": [
      "The multiplication table of  5\n",
      "5 X 1 = 5\n",
      "5 X 2 = 10\n",
      "5 X 3 = 15\n",
      "5 X 4 = 20\n",
      "5 X 5 = 25\n",
      "5 X 6 = 30\n",
      "5 X 7 = 35\n",
      "5 X 8 = 40\n",
      "5 X 9 = 45\n",
      "5 X 10 = 50\n"
     ]
    }
   ],
   "source": [
    "N = int(input(\"enter the number of table \"))\n",
    "print(\"The multiplication table of \", N)\n",
    "\n",
    "for i in range(1,11):\n",
    "    print(f\"{N} X {i} = {N * i}\")"
   ]
  },
  {
   "cell_type": "code",
   "execution_count": 35,
   "id": "2e7c5e8a-22bc-4642-8f2b-1c6a0b0965e8",
   "metadata": {},
   "outputs": [
    {
     "name": "stdin",
     "output_type": "stream",
     "text": [
      "Enter the number of items purchased  3\n",
      "Enter the price of the item  100\n",
      "Enter the price of the item  54.6\n",
      "Enter the price of the item  45.6\n"
     ]
    },
    {
     "name": "stdout",
     "output_type": "stream",
     "text": [
      "subtotal  180.17999999999998\n"
     ]
    }
   ],
   "source": [
    "num_items = int(input(\"Enter the number of items purchased \"))\n",
    "total_price = 0\n",
    "\n",
    "for i in range(num_items):\n",
    "    price = float(input(\"Enter the price of the item \"))\n",
    "    total_price += price\n",
    "    i = i+1\n",
    "    \n",
    "if total_price >= 100:\n",
    "    discount = 0.1*total_price\n",
    "elif 50 <= total_price <100:\n",
    "    discount = 0.5*total_price\n",
    "else:\n",
    "    discount = 0\n",
    "    \n",
    "total_bill = total_price - discount\n",
    "print(\"subtotal \",total_bill)"
   ]
  },
  {
   "cell_type": "markdown",
   "id": "729bcdff-e7fe-4453-9a93-0cbff18bd775",
   "metadata": {
    "jp-MarkdownHeadingCollapsed": true
   },
   "source": [
    "# Break and Continuous Statement"
   ]
  },
  {
   "cell_type": "code",
   "execution_count": 2,
   "id": "348f5886-e562-4db1-9d56-0019b17970fc",
   "metadata": {},
   "outputs": [],
   "source": [
    "# Break Statement :- The break statement terminates the loop immediately when certain condition is met."
   ]
  },
  {
   "cell_type": "code",
   "execution_count": 4,
   "id": "04d64d47-f1b7-474d-9694-00a562e0d5ad",
   "metadata": {},
   "outputs": [
    {
     "name": "stdout",
     "output_type": "stream",
     "text": [
      "0\n",
      "1\n",
      "2\n"
     ]
    }
   ],
   "source": [
    "for i in range(5):\n",
    "    if i==3:\n",
    "        break\n",
    "    print(i)"
   ]
  },
  {
   "cell_type": "code",
   "execution_count": null,
   "id": "8a9e6398-1124-4278-a9ec-2549bf11fae7",
   "metadata": {},
   "outputs": [],
   "source": [
    "# Continue Statement :- The continue statement skips the current iteration of the loop and the control flow of \n",
    "#                       the program goes to the next iteration."
   ]
  },
  {
   "cell_type": "code",
   "execution_count": 6,
   "id": "e2a4b3f6-d18d-40d0-9a74-d33ba61efe0d",
   "metadata": {},
   "outputs": [
    {
     "name": "stdout",
     "output_type": "stream",
     "text": [
      "0\n",
      "1\n",
      "2\n",
      "4\n",
      "I am learning python\n"
     ]
    }
   ],
   "source": [
    "for i in range(5):\n",
    "    if i == 3:\n",
    "        continue\n",
    "    print(i)\n",
    "print(\"I am learning python\")"
   ]
  },
  {
   "cell_type": "markdown",
   "id": "d901fbfe-2875-4461-aac6-5267c65d573a",
   "metadata": {
    "jp-MarkdownHeadingCollapsed": true
   },
   "source": [
    "# User Defined Function"
   ]
  },
  {
   "cell_type": "code",
   "execution_count": null,
   "id": "e27065d7-3336-4322-85ef-a44ccaaca35c",
   "metadata": {},
   "outputs": [],
   "source": [
    "A user define function in python is a function created by programmer to perform a specific task or \n",
    "a set of tasks. Unlike built in functions in python, which are predefined and provided by the python\n",
    "language itself, user-define function are defined by the programmer based on their requirements.\n",
    "\n",
    "These functions allow you to encapsulate a block of code that can be called and executed multiple \n",
    "times throughout your program, improving code organization, readability and reusability.\n",
    "\n",
    "We use def keyword to create user-define function.\n",
    "\n",
    "Syntax:- def my_function():\n",
    "            print(\"\")\n",
    "         my_function() # function calling\n"
   ]
  },
  {
   "cell_type": "code",
   "execution_count": 11,
   "id": "6eff5d2b-468f-42ab-a065-3eabfbdeb58c",
   "metadata": {},
   "outputs": [
    {
     "name": "stdout",
     "output_type": "stream",
     "text": [
      "Hello I am Bhupendra\n"
     ]
    }
   ],
   "source": [
    "# creating and calling a function\n",
    "\n",
    "def my_function():\n",
    "    print(\"Hello I am Bhupendra\")\n",
    "my_function() "
   ]
  },
  {
   "cell_type": "code",
   "execution_count": 13,
   "id": "07fd1e3f-4336-4e0f-a181-81f274295103",
   "metadata": {},
   "outputs": [],
   "source": [
    "# function creation\n",
    "def details_bills():\n",
    "    print(\"The last date of the bill payment is on next week sunday.\")\n",
    "    print(\"After deadline, you need to pay rs 1000 as a fine\")\n",
    "    print(\"pay your bill soon\")\n",
    "    "
   ]
  },
  {
   "cell_type": "code",
   "execution_count": 15,
   "id": "08130683-d643-4e65-9851-dbbdffd18a94",
   "metadata": {},
   "outputs": [
    {
     "name": "stdin",
     "output_type": "stream",
     "text": [
      "Enter your name bhupendra\n",
      "Enter the unit of electricity you have consumed:  500\n"
     ]
    },
    {
     "name": "stdout",
     "output_type": "stream",
     "text": [
      "Total amount of bill you need to pay is:  5000\n",
      "The last date of the bill payment is on next week sunday.\n",
      "After deadline, you need to pay rs 1000 as a fine\n",
      "pay your bill soon\n"
     ]
    },
    {
     "name": "stdin",
     "output_type": "stream",
     "text": [
      "Enter your name ankit\n",
      "Enter the unit of electricity you have consumed:  650\n"
     ]
    },
    {
     "name": "stdout",
     "output_type": "stream",
     "text": [
      "Total amount of bill you need to pay is:  6500\n",
      "The last date of the bill payment is on next week sunday.\n",
      "After deadline, you need to pay rs 1000 as a fine\n",
      "pay your bill soon\n"
     ]
    },
    {
     "name": "stdin",
     "output_type": "stream",
     "text": [
      "Enter your name nikita\n",
      "Enter the unit of electricity you have consumed:  2000\n"
     ]
    },
    {
     "name": "stdout",
     "output_type": "stream",
     "text": [
      "Total amount of bill you need to pay is:  20000\n",
      "The last date of the bill payment is on next week sunday.\n",
      "After deadline, you need to pay rs 1000 as a fine\n",
      "pay your bill soon\n"
     ]
    }
   ],
   "source": [
    "# function calling\n",
    "for i in range(3):\n",
    "    a = input(\"Enter your name\")\n",
    "    b = int(input(\"Enter the unit of electricity you have consumed: \"))\n",
    "    bill = b * 10\n",
    "    print(\"Total amount of bill you need to pay is: \",bill)\n",
    "    details_bills()"
   ]
  },
  {
   "cell_type": "code",
   "execution_count": 17,
   "id": "6122fbe7-07c7-467d-8405-c1dbe6986bd3",
   "metadata": {},
   "outputs": [
    {
     "name": "stdin",
     "output_type": "stream",
     "text": [
      "Enter the number 45\n"
     ]
    },
    {
     "name": "stdout",
     "output_type": "stream",
     "text": [
      "The number is odd\n"
     ]
    }
   ],
   "source": [
    "# Argument in Function\n",
    "\n",
    "def check_even_odd(number):\n",
    "    if number%2 == 0:\n",
    "        print(\"The number is even\")\n",
    "    else:\n",
    "        print(\"The number is odd\")\n",
    "\n",
    "number = int(input(\"Enter the number\"))\n",
    "check_even_odd(number)"
   ]
  },
  {
   "cell_type": "code",
   "execution_count": 19,
   "id": "0b44427b-6166-4ad8-b18b-f80da431e710",
   "metadata": {},
   "outputs": [
    {
     "name": "stdin",
     "output_type": "stream",
     "text": [
      "Enter your first name:  Bhupendra\n",
      "Enter your last name:  Bairwa\n"
     ]
    },
    {
     "name": "stdout",
     "output_type": "stream",
     "text": [
      "Bhupendra Bairwa\n"
     ]
    }
   ],
   "source": [
    "def my_name(First_name, Last_name):\n",
    "    print(First_name + \" \" + Last_name)\n",
    "    \n",
    "First_name = input(\"Enter your first name: \")\n",
    "Last_name = input(\"Enter your last name: \")\n",
    "my_name(First_name, Last_name)"
   ]
  },
  {
   "cell_type": "code",
   "execution_count": null,
   "id": "e6c0d6d2-1464-45d8-903a-2e1b202f3cd4",
   "metadata": {},
   "outputs": [],
   "source": [
    "# Question \n",
    "\n",
    "\"\"\" write a user-defined function to process the exam scores and calculate the following statistics: \n",
    "The average exam score. \n",
    "The highest exam score. \n",
    "The lowest exam score. \n",
    "The number of students who passed the exam (assuming a passing score is 60 or above). \n",
    "The number of students who failed the exam. \n",
    "exam scores [85, 92, 78, 90, 88, 95, 82, 79, 87, 91] \n",
    "\"\"\""
   ]
  },
  {
   "cell_type": "code",
   "execution_count": 23,
   "id": "b6591de6-c19a-4904-8eaa-c8ca0801fab0",
   "metadata": {},
   "outputs": [
    {
     "name": "stdout",
     "output_type": "stream",
     "text": [
      "The Average score is:  86.7\n",
      "The Highest score is:  95\n",
      "The Lowest score is:  78\n",
      "The number of students passed is:  8\n",
      "The number of students failed is:  2\n"
     ]
    }
   ],
   "source": [
    "def calculate_exam_statistics(exam_scores):\n",
    "    num_students = len(exam_scores)\n",
    "    avg_score = sum(exam_scores) / num_students\n",
    "    highest_score = max(exam_scores)\n",
    "    lowest_score = min(exam_scores)\n",
    "\n",
    "    num_passed = 0\n",
    "    for score in exam_scores:\n",
    "        if score >= 80:\n",
    "            num_passed += 1\n",
    "    num_failed = num_students - num_passed\n",
    "\n",
    "    return avg_score, highest_score, lowest_score, num_passed, num_failed\n",
    "\n",
    "exam_scores = [85,92,78,90,88,95,82,79,87,91]\n",
    "avg_score, highest_score, lowest_score, num_passed, num_failed = calculate_exam_statistics(exam_scores)\n",
    "print(\"The Average score is: \",avg_score)\n",
    "print(\"The Highest score is: \",highest_score)\n",
    "print(\"The Lowest score is: \",lowest_score)\n",
    "print(\"The number of students passed is: \",num_passed)\n",
    "print(\"The number of students failed is: \",num_failed)"
   ]
  },
  {
   "cell_type": "markdown",
   "id": "10cc4830-aa87-4749-9396-f3baa31da37a",
   "metadata": {
    "jp-MarkdownHeadingCollapsed": true
   },
   "source": [
    "# Strings in python"
   ]
  },
  {
   "cell_type": "code",
   "execution_count": null,
   "id": "de3e6ff3-b017-4ee0-b117-a2cfafe8a014",
   "metadata": {},
   "outputs": [],
   "source": [
    "In Python, a string is a sequence of characters. For example, \"hello\" is a string containing\n",
    "a sequence of characters 'h', 'e', 'l', 'l', and 'o'. \n",
    "\n",
    "Strings are created by enclosing characters within single quotes ('...'), double quotes (\"...\"), \n",
    "or triple quotes ('''...''' or \"\"\"...\"\"\").\n",
    "Single and double quotes are used for single-line strings, while triple quotes are used for multi-line strings.\n",
    "\n",
    "Example :                                                                                \n",
    "    single_quoted = 'Hello'\n",
    "    double_quoted = \"World\"\n",
    "    multi_line = '''This is a\n",
    "    multi-line string.'''"
   ]
  },
  {
   "cell_type": "code",
   "execution_count": null,
   "id": "415bd864-1e77-4547-8c55-9783700fdcba",
   "metadata": {},
   "outputs": [],
   "source": [
    "Indexing :- Indexing in Python refers to accessing elements within a sequence (like strings, lists, or tuples)\n",
    "            using their position. Python uses zero-based indexing, meaning the first element has an index of 0, \n",
    "            the second has an index of 1, and so on. \n",
    "Basic Indexing:\n",
    "Positive Indices: Access elements from the beginning of the sequence\n",
    "\n",
    "    my_list = [10, 20, 30, 40, 50]\n",
    "    print(my_list[0])  # Output: 10 (first element)\n",
    "    print(my_list[2])  # Output: 30 (third element)\n",
    "\n",
    "Negative Indices: Access elements from the end of the sequence. -1 refers to the last element,\n",
    "                  -2 to the second-to-last, and so on.\n",
    "\n",
    "    my_list = [10, 20, 30, 40, 50]\n",
    "    print(my_list[-1])  # Output: 50 (last element)\n",
    "    print(my_list[-3])  # Output: 30 (third element from the end)"
   ]
  },
  {
   "cell_type": "code",
   "execution_count": null,
   "id": "6cd9e507-aa8d-4838-9304-3c94f3193de3",
   "metadata": {},
   "outputs": [],
   "source": [
    "Slicing :- Slicing extracts a portion of a sequence using a range of indices. The syntax is sequence[start:stop:step].\n",
    "           start: The index where the slice begins (inclusive).\n",
    "           stop: The index where the slice ends (exclusive).\n",
    "           step: The increment between indices.\n",
    "\n",
    "           my_list = [10, 20, 30, 40, 50]\n",
    "           print(my_list[1:4])    # Output: [20, 30, 40] (elements from index 1 up to, but not including, index 4)\n",
    "           print(my_list[:3])    # Output: [10, 20, 30] (elements from the beginning up to, but not including, index 3)\n",
    "           print(my_list[2:])    # Output: [30, 40, 50] (elements from index 2 to the end)\n",
    "           print(my_list[::2])   # Output: [10, 30, 50] (every other element)\n",
    "           print(my_list[::-1])  # Output: [50, 40, 30, 20, 10] (reverse the list)"
   ]
  },
  {
   "cell_type": "code",
   "execution_count": 26,
   "id": "35b8724f-ece7-453c-ba89-2f7a0cc3af79",
   "metadata": {},
   "outputs": [
    {
     "name": "stdout",
     "output_type": "stream",
     "text": [
      "learner\n",
      "<class 'str'>\n"
     ]
    }
   ],
   "source": [
    "a = 'learner'\n",
    "print(a)\n",
    "print(type(a))"
   ]
  },
  {
   "cell_type": "code",
   "execution_count": 28,
   "id": "667d9191-bffa-43ce-9139-c22196c9aa22",
   "metadata": {},
   "outputs": [
    {
     "name": "stdout",
     "output_type": "stream",
     "text": [
      "students\n",
      "<class 'str'>\n"
     ]
    }
   ],
   "source": [
    "b = \"students\"\n",
    "print(b)\n",
    "print(type(b))"
   ]
  },
  {
   "cell_type": "code",
   "execution_count": 32,
   "id": "56d2164a-4e38-41f6-b0f6-272988ecc450",
   "metadata": {},
   "outputs": [
    {
     "name": "stdout",
     "output_type": "stream",
     "text": [
      "I am Bhupendra.\n",
      "This is my name.\n"
     ]
    }
   ],
   "source": [
    "str = \"I am Bhupendra.\\nThis is my name.\"\n",
    "print(str)"
   ]
  },
  {
   "cell_type": "code",
   "execution_count": 36,
   "id": "12f92b30-82f9-41cf-925f-afd07c4bdc23",
   "metadata": {},
   "outputs": [
    {
     "name": "stdout",
     "output_type": "stream",
     "text": [
      "Data science is an interdisciplinary academic field[1] that uses statistics, \n",
      "scientific computing, scientific methods, processing, scientific visualization, \n",
      "algorithms and systems to extract or extrapolate knowledge from potentially noisy, structured, or unstructured data.[2]\n",
      "Data science also integrates domain knowledge from the underlying application domain\n",
      "(e.g., natural sciences, information technology, and medicine).\n",
      "[3] Data science is multifaceted and can be described as a science, a research paradigm,\n",
      "a research method, a discipline, a workflow, and a profession.[4]\n",
      "Data science is \"a concept to unify statistics, data analysis, informatics, and their related methods\"\n",
      "to \"understand and analyze actual phenomena\" with data.[5] It uses techniques and theories drawn from \n",
      "many fields within the context of mathematics, statistics, computer science, information science, \n",
      "and domain knowledge.[6] However, data science is different from computer science and information science.\n",
      "Turing Award winner Jim Gray imagined data science as a \"fourth paradigm\" of science (empirical, theoretical, \n",
      "computational, and now data-driven) and asserted that \"everything about science is changing because of the impact\n",
      "of information technology\" and the data deluge.[7][8] \n",
      "\n"
     ]
    }
   ],
   "source": [
    "# Multi-line string\n",
    "\n",
    "multi = \"\"\"Data science is an interdisciplinary academic field[1] that uses statistics, \n",
    "scientific computing, scientific methods, processing, scientific visualization, \n",
    "algorithms and systems to extract or extrapolate knowledge from potentially noisy, structured, or unstructured data.[2]\n",
    "Data science also integrates domain knowledge from the underlying application domain\n",
    "(e.g., natural sciences, information technology, and medicine).\n",
    "[3] Data science is multifaceted and can be described as a science, a research paradigm,\n",
    "a research method, a discipline, a workflow, and a profession.[4]\n",
    "Data science is \"a concept to unify statistics, data analysis, informatics, and their related methods\"\n",
    "to \"understand and analyze actual phenomena\" with data.[5] It uses techniques and theories drawn from \n",
    "many fields within the context of mathematics, statistics, computer science, information science, \n",
    "and domain knowledge.[6] However, data science is different from computer science and information science.\n",
    "Turing Award winner Jim Gray imagined data science as a \"fourth paradigm\" of science (empirical, theoretical, \n",
    "computational, and now data-driven) and asserted that \"everything about science is changing because of the impact\n",
    "of information technology\" and the data deluge.[7][8] \n",
    "\"\"\"\n",
    "\n",
    "print(multi)"
   ]
  },
  {
   "cell_type": "code",
   "execution_count": 40,
   "id": "4d0acbaf-fdd7-4e43-9da0-92dec56faf4c",
   "metadata": {},
   "outputs": [
    {
     "name": "stdout",
     "output_type": "stream",
     "text": [
      "H\n",
      "e\n",
      "D\n",
      " \n",
      "r\n"
     ]
    }
   ],
   "source": [
    "# Indexing of Strings\n",
    "# positive indexung\n",
    "\n",
    "a = \"Hello Dear Bhupendra.\"\n",
    "print(a[0])\n",
    "print(a[1])\n",
    "print(a[6])\n",
    "print(a[5])\n",
    "print(a[9])\n"
   ]
  },
  {
   "cell_type": "code",
   "execution_count": 42,
   "id": "3327093a-ea8c-4373-a822-2eec8342dbb5",
   "metadata": {},
   "outputs": [
    {
     "name": "stdout",
     "output_type": "stream",
     "text": [
      ".\n",
      "a\n",
      "e\n",
      "n\n",
      "h\n"
     ]
    }
   ],
   "source": [
    "#negative indexing\n",
    "\n",
    "a = \"Hello Dear Bhupendra.\"\n",
    "print(a[-1])\n",
    "print(a[-2])\n",
    "print(a[-6])\n",
    "print(a[-5])\n",
    "print(a[-9])\n"
   ]
  },
  {
   "cell_type": "code",
   "execution_count": 44,
   "id": "93f67110-8c10-4477-863f-edabe4d8831a",
   "metadata": {},
   "outputs": [
    {
     "name": "stdout",
     "output_type": "stream",
     "text": [
      ". d l\n"
     ]
    }
   ],
   "source": [
    "b = \"Data Science is the grawing field.\"\n",
    "print(b[-1],b[-2],b[-3])"
   ]
  },
  {
   "cell_type": "code",
   "execution_count": 48,
   "id": "231ae3b1-6a97-45a8-86b4-6005cdf9d7e3",
   "metadata": {},
   "outputs": [
    {
     "name": "stdout",
     "output_type": "stream",
     "text": [
      "I am \n"
     ]
    }
   ],
   "source": [
    "# Slicing of Strings\n",
    "#positive slicing\n",
    "\n",
    "c = \"I am data science student.\"\n",
    "print(c[0:5])"
   ]
  },
  {
   "cell_type": "code",
   "execution_count": 50,
   "id": "b6dee419-e5a0-4782-b809-247ab4b6bc87",
   "metadata": {},
   "outputs": [
    {
     "name": "stdout",
     "output_type": "stream",
     "text": [
      "I am data science student.\n"
     ]
    }
   ],
   "source": [
    "c = \"I am data science student.\"\n",
    "print(c[:])"
   ]
  },
  {
   "cell_type": "code",
   "execution_count": 54,
   "id": "b1f49e60-9099-402f-9a01-9088b22fb07a",
   "metadata": {},
   "outputs": [
    {
     "name": "stdout",
     "output_type": "stream",
     "text": [
      "Ima \n"
     ]
    }
   ],
   "source": [
    "# Slicing with jump\n",
    "\n",
    "d = \"I am data science student.\"\n",
    "print(d[0:10:3])"
   ]
  },
  {
   "cell_type": "code",
   "execution_count": 56,
   "id": "334b353a-e2a7-4c22-af15-4b5b7bdd881c",
   "metadata": {},
   "outputs": [
    {
     "name": "stdout",
     "output_type": "stream",
     "text": [
      "udent\n"
     ]
    }
   ],
   "source": [
    "#negative slicing\n",
    "\n",
    "c = \"I am data science student.\"\n",
    "print(c[-6:-1])"
   ]
  },
  {
   "cell_type": "code",
   "execution_count": 58,
   "id": "bbfdccb8-1248-4564-bc71-d27d55b376b6",
   "metadata": {},
   "outputs": [
    {
     "name": "stdout",
     "output_type": "stream",
     "text": [
      "science student\n"
     ]
    }
   ],
   "source": [
    "c = \"I am data science student.\"\n",
    "print(c[-16:-1])"
   ]
  },
  {
   "cell_type": "code",
   "execution_count": 60,
   "id": "8e8e3a26-069d-4c95-a548-8003fba488ff",
   "metadata": {},
   "outputs": [
    {
     "name": "stdout",
     "output_type": "stream",
     "text": [
      "science student.\n"
     ]
    }
   ],
   "source": [
    "c = \"I am data science student.\"\n",
    "print(c[-16:])"
   ]
  },
  {
   "cell_type": "code",
   "execution_count": 62,
   "id": "635e655d-79b1-4a45-9bb8-cd0f436134ea",
   "metadata": {},
   "outputs": [
    {
     "name": "stdout",
     "output_type": "stream",
     "text": [
      "asinesuet\n"
     ]
    }
   ],
   "source": [
    "d = \"I am data science student.\"\n",
    "print(d[-18:-1:2])"
   ]
  },
  {
   "cell_type": "markdown",
   "id": "4698ec09-3844-4ee8-b551-868151bc7704",
   "metadata": {
    "jp-MarkdownHeadingCollapsed": true
   },
   "source": [
    "# Prectice Question of String"
   ]
  },
  {
   "cell_type": "code",
   "execution_count": null,
   "id": "eac437ff-4c00-4a38-a2de-1ec56dc5ec12",
   "metadata": {},
   "outputs": [],
   "source": [
    "# Question 1\n",
    "\"\"\" Write a Python function that takes a date string in the format \n",
    "'YYYY-00 and returns a tuple containing the year, month, and day as integers.'\n",
    "Example Input: 2024-05-20 \n",
    "Expected Output: (2024, 8,28) \n",
    "\"\"\""
   ]
  },
  {
   "cell_type": "code",
   "execution_count": 67,
   "id": "18d57258-a0db-43e4-bccc-079f531d3d6b",
   "metadata": {},
   "outputs": [
    {
     "name": "stdin",
     "output_type": "stream",
     "text": [
      "Enter the date:  2025-10-28\n"
     ]
    },
    {
     "data": {
      "text/plain": [
       "(2025, 10, 28)"
      ]
     },
     "execution_count": 67,
     "metadata": {},
     "output_type": "execute_result"
    }
   ],
   "source": [
    "def extract_date_parts(date_string):\n",
    "    year = int(date_string[0:4])\n",
    "    month = int(date_string[5:7])\n",
    "    day = int(date_string[8:])\n",
    "    return (year,month,day)\n",
    "\n",
    "date_string = input(\"Enter the date: \")\n",
    "extract_date_parts(date_string)"
   ]
  },
  {
   "cell_type": "code",
   "execution_count": null,
   "id": "0fe25d47-5809-4989-a12e-3317da6c5cc8",
   "metadata": {},
   "outputs": [],
   "source": [
    "# Question 2\n",
    "\n",
    "Write a python program to reverse the string \"honesty is the best policy\""
   ]
  },
  {
   "cell_type": "code",
   "execution_count": 69,
   "id": "4fb23691-7ef1-4bb3-a734-d01c5d944f07",
   "metadata": {},
   "outputs": [
    {
     "name": "stdout",
     "output_type": "stream",
     "text": [
      "ycilop tseb eht si ytsenoh\n"
     ]
    }
   ],
   "source": [
    "str = \"honesty is the best policy\"\n",
    "print(str[::-1])"
   ]
  },
  {
   "cell_type": "code",
   "execution_count": null,
   "id": "eb700e6a-04ed-4cec-a85b-f08acd726edc",
   "metadata": {},
   "outputs": [],
   "source": [
    "# Question 3\n",
    "\n",
    "\"\"\" \n",
    "Write a Python function that takes a string as input and returns the substring from the 3rd to the 8th character. \n",
    "\"Date science\" \n",
    "\"hello world, i an learning python\" \n",
    "\"All the best\"\n",
    "\n",
    "\"\"\""
   ]
  },
  {
   "cell_type": "code",
   "execution_count": 119,
   "id": "626a33b1-d317-4731-acac-c79b36398d08",
   "metadata": {},
   "outputs": [
    {
     "name": "stdin",
     "output_type": "stream",
     "text": [
      "Enter your string:  hello world, i an learning python\n"
     ]
    },
    {
     "name": "stdout",
     "output_type": "stream",
     "text": [
      "lo wor\n"
     ]
    }
   ],
   "source": [
    "def input_string(main_string):\n",
    "    sub_string = main_string[3:9]\n",
    "    print(sub_string)\n",
    "main_string = input(\"Enter your string: \")\n",
    "input_string(main_string)"
   ]
  },
  {
   "cell_type": "markdown",
   "id": "b958ac9b-4f55-4cc5-944d-9f928948b947",
   "metadata": {
    "jp-MarkdownHeadingCollapsed": true
   },
   "source": [
    "# String Methods"
   ]
  },
  {
   "cell_type": "code",
   "execution_count": null,
   "id": "1e974036-499e-4f72-8cf8-cacd8a0882e3",
   "metadata": {},
   "outputs": [],
   "source": [
    "Python has a set of built-in methods that you can use on strings."
   ]
  },
  {
   "cell_type": "code",
   "execution_count": null,
   "id": "03abd635-8d14-4a8a-a03b-016d1c77eeae",
   "metadata": {},
   "outputs": [],
   "source": [
    "Method\t                       Description\n",
    "\n",
    "capitalize()\t          Converts the first character to upper case\n",
    "casefold()\t              Converts string into lower case\n",
    "center()\t              Returns a centered string\n",
    "count()\t                  Returns the number of times a specified value occurs in a string\n",
    "encode()\t              Returns an encoded version of the string\n",
    "endswith()\t              Returns true if the string ends with the specified value\n",
    "expandtabs()\t          Sets the tab size of the string\n",
    "find()\t                  Searches the string for a specified value and returns the position of where it was found\n",
    "format()\t              Formats specified values in a string\n",
    "format_map()\t          Formats specified values from a dictionary in a string\n",
    "index()\t                  Searches the string for a specified value and returns the position of where it was found\n",
    "isalnum()\t              Returns True if all characters in the string are alphanumeric\n",
    "isalpha()\t              Returns True if all characters in the string are in the alphabet\n",
    "isascii()\t              Returns True if all characters in the string are ascii characters\n",
    "isdecimal()\t              Returns True if all characters in the string are decimals\n",
    "isdigit()\t              Returns True if all characters in the string are digits\n",
    "isidentifier()\t          Returns True if the string is an identifier\n",
    "islower()\t              Returns True if all characters in the string are lower case\n",
    "isnumeric()\t              Returns True if all characters in the string are numeric\n",
    "isprintable()\t          Returns True if all characters in the string are printable\n",
    "isspace()\t              Returns True if all characters in the string are whitespaces\n",
    "istitle()\t              Returns True if the string follows the rules of a title\n",
    "isupper()\t              Returns True if all characters in the string are upper case\n",
    "join()\t                  Converts the elements of an iterable into a string\n",
    "ljust()\t                  Returns a left justified version of the string\n",
    "lower()                \t  Converts a string into lower case\n",
    "lstrip()\t              Returns a left trim version of the string\n",
    "maketrans()\t              Returns a translation table to be used in translations\n",
    "partition()\t              Returns a tuple where the string is parted into three parts\n",
    "replace()\t              Returns a string where a specified value is replaced with a specified value\n",
    "rfind()\t                  Searches the string for a specified value and returns the last position of where it was found\n",
    "rindex()\t              Searches the string for a specified value and returns the last position of where it was found\n",
    "rjust()      \t          Returns a right justified version of the string\n",
    "rpartition()\t          Returns a tuple where the string is parted into three parts\n",
    "rsplit()\t              Splits the string at the specified separator, and returns a list\n",
    "rstrip()\t              Returns a right trim version of the string\n",
    "split()\t                  Splits the string at the specified separator, and returns a list\n",
    "splitlines()\t          Splits the string at line breaks and returns a list\n",
    "startswith()\t          Returns true if the string starts with the specified value\n",
    "strip()\t                  Returns a trimmed version of the string\n",
    "swapcase()\t              Swaps cases, lower case becomes upper case and vice versa\n",
    "title()\t                  Converts the first character of each word to upper case\n",
    "translate()\t              Returns a translated string\n",
    "upper()\t                  Converts a string into upper case\n",
    "zfill()\t                  Fills the string with a specified number of 0 values at the beginning"
   ]
  },
  {
   "cell_type": "code",
   "execution_count": 72,
   "id": "635baba8-1447-4ddc-b360-3bcb29f76eae",
   "metadata": {},
   "outputs": [
    {
     "name": "stdout",
     "output_type": "stream",
     "text": [
      "9\n"
     ]
    }
   ],
   "source": [
    "# Length Method\n",
    "\n",
    "s = \"Bhupendra\"\n",
    "print(len(s))"
   ]
  },
  {
   "cell_type": "code",
   "execution_count": 74,
   "id": "6b31ed0d-0ae8-40cd-928c-129c78b5b923",
   "metadata": {},
   "outputs": [
    {
     "name": "stdout",
     "output_type": "stream",
     "text": [
      "16\n"
     ]
    }
   ],
   "source": [
    "s = \"Bhupendra Bairwa\"\n",
    "print(len(s))"
   ]
  },
  {
   "cell_type": "code",
   "execution_count": 76,
   "id": "e9cc8fbb-aff9-4493-b45e-1d7e65671a5d",
   "metadata": {},
   "outputs": [
    {
     "name": "stdout",
     "output_type": "stream",
     "text": [
      "0\n"
     ]
    }
   ],
   "source": [
    "a = \"\"\n",
    "print(len(a))"
   ]
  },
  {
   "cell_type": "code",
   "execution_count": 78,
   "id": "d5a5c48f-2451-4561-a1b4-64915d5a4694",
   "metadata": {},
   "outputs": [
    {
     "name": "stdout",
     "output_type": "stream",
     "text": [
      "Bhupendra \n",
      "Bairwa\n",
      "17\n"
     ]
    }
   ],
   "source": [
    "s = \"Bhupendra \\nBairwa\"\n",
    "print(s)\n",
    "print(len(s))"
   ]
  },
  {
   "cell_type": "code",
   "execution_count": 82,
   "id": "600c0f37-2937-41d2-b01b-1cc1711a2680",
   "metadata": {},
   "outputs": [
    {
     "name": "stdout",
     "output_type": "stream",
     "text": [
      "hello\n",
      "world\n",
      "11\n"
     ]
    }
   ],
   "source": [
    "ss = \"\"\"hello\n",
    "world\"\"\"\n",
    "print(ss)\n",
    "print(len(ss))"
   ]
  },
  {
   "cell_type": "code",
   "execution_count": 84,
   "id": "1732ac39-ca65-4a5e-8031-6d13b374c1a1",
   "metadata": {},
   "outputs": [
    {
     "name": "stdout",
     "output_type": "stream",
     "text": [
      "THIS IS THE PYTHON CLASS\n"
     ]
    }
   ],
   "source": [
    "# Upper Method\n",
    "\n",
    "s = \"this is the python class\"\n",
    "print(s.upper())"
   ]
  },
  {
   "cell_type": "code",
   "execution_count": 86,
   "id": "fcbe3bd1-00e9-40a8-a2d2-97c15755f6b6",
   "metadata": {},
   "outputs": [
    {
     "name": "stdout",
     "output_type": "stream",
     "text": [
      "THIS IS THE PYTHON CLASS\n"
     ]
    }
   ],
   "source": [
    "s = \"this is the Python class\"\n",
    "print(s.upper())"
   ]
  },
  {
   "cell_type": "code",
   "execution_count": 88,
   "id": "5edc9ef2-aac4-45a4-ae9e-a25f969f9d01",
   "metadata": {},
   "outputs": [
    {
     "name": "stdout",
     "output_type": "stream",
     "text": [
      "THIS IS THE PYTHON CLASS 12345\n"
     ]
    }
   ],
   "source": [
    "s = \"this is the Python class 12345\"\n",
    "print(s.upper())"
   ]
  },
  {
   "cell_type": "code",
   "execution_count": 90,
   "id": "876684be-a940-4d30-833c-4c73a89ce42b",
   "metadata": {},
   "outputs": [
    {
     "name": "stdout",
     "output_type": "stream",
     "text": [
      "i am a student\n"
     ]
    }
   ],
   "source": [
    "# Lower Method\n",
    "\n",
    "a = \"I AM A STUDENT\"\n",
    "print(a.lower())"
   ]
  },
  {
   "cell_type": "code",
   "execution_count": 92,
   "id": "c271f205-1168-4d20-8332-6b60e92b8ecf",
   "metadata": {},
   "outputs": [
    {
     "name": "stdout",
     "output_type": "stream",
     "text": [
      "i am a student\n"
     ]
    }
   ],
   "source": [
    "a = \"I AM A sTUdENT\"\n",
    "print(a.lower())"
   ]
  },
  {
   "cell_type": "code",
   "execution_count": 94,
   "id": "d68a4842-9fab-4631-b0b0-00ddaeb4de06",
   "metadata": {},
   "outputs": [
    {
     "name": "stdout",
     "output_type": "stream",
     "text": [
      "i am a student 12345\n"
     ]
    }
   ],
   "source": [
    "a = \"I AM A sTUdENT 12345\"\n",
    "print(a.lower())"
   ]
  },
  {
   "cell_type": "code",
   "execution_count": 96,
   "id": "964d015a-5872-4b31-9119-3eb18dd866ef",
   "metadata": {},
   "outputs": [
    {
     "name": "stdout",
     "output_type": "stream",
     "text": [
      "hello world\n"
     ]
    }
   ],
   "source": [
    "# String Concatenation\n",
    "\n",
    "a = \"hello\"\n",
    "b = \"world\"\n",
    "print(a + \" \" + b)"
   ]
  },
  {
   "cell_type": "code",
   "execution_count": 98,
   "id": "eef83a69-e62d-42dd-88df-8c2013a9632a",
   "metadata": {},
   "outputs": [
    {
     "name": "stdout",
     "output_type": "stream",
     "text": [
      "datadatadatadatadata\n"
     ]
    }
   ],
   "source": [
    "a = \"data\"\n",
    "print(a*5)"
   ]
  },
  {
   "cell_type": "code",
   "execution_count": 100,
   "id": "716405ab-f14e-402b-90ea-a9e3ba60ee03",
   "metadata": {},
   "outputs": [
    {
     "name": "stdout",
     "output_type": "stream",
     "text": [
      "data data data data data \n"
     ]
    }
   ],
   "source": [
    "a = \"data\"\n",
    "print((a+\" \")*5)"
   ]
  },
  {
   "cell_type": "code",
   "execution_count": 102,
   "id": "9b66ef43-6314-4c7d-83a4-abf671da977d",
   "metadata": {},
   "outputs": [
    {
     "name": "stdout",
     "output_type": "stream",
     "text": [
      "hello world, I am learning Data-Science\n"
     ]
    }
   ],
   "source": [
    "# Replace Method\n",
    "\n",
    "text = \"hello world, I am learning Python\"\n",
    "rep = text.replace(\"Python\",\"Data-Science\")\n",
    "print(rep)"
   ]
  },
  {
   "cell_type": "code",
   "execution_count": 104,
   "id": "79e77a04-9627-46a0-a837-3a7535b5b0dc",
   "metadata": {},
   "outputs": [
    {
     "name": "stdout",
     "output_type": "stream",
     "text": [
      "7\n"
     ]
    }
   ],
   "source": [
    "# Index Method\n",
    "\n",
    "a = \"i want to learn\"\n",
    "print(a.index(\"to\"))"
   ]
  },
  {
   "cell_type": "code",
   "execution_count": 106,
   "id": "db8a2c13-6688-4b9a-9043-db0d901638bb",
   "metadata": {},
   "outputs": [
    {
     "name": "stdout",
     "output_type": "stream",
     "text": [
      "10\n"
     ]
    }
   ],
   "source": [
    "# Find Method\n",
    "\n",
    "a = \"Python is great\"\n",
    "b = a.find(\"g\")\n",
    "print(b)"
   ]
  },
  {
   "cell_type": "code",
   "execution_count": null,
   "id": "b96cd3cf-2f77-4837-97b2-85d0f2c6075d",
   "metadata": {},
   "outputs": [],
   "source": [
    "# Question\n",
    "\n",
    "\"\"\"\n",
    "Write a Python program that accomplishes the following tasks: \n",
    "1) Concatenate the strings \"hello\" and \"world\". \n",
    "2) Find the length of the resulting string from the concatenation. \n",
    "3) Extract the substring \"world\" from the concatenated string. \n",
    "4) Reverse the substring obtained in the previous step. \n",
    "5) Convert the reversed substring to uppercase. \n",
    "6) Replace the letter 'L' with 'x' in the reversed and uppercase substring. \n",
    "\"\"\""
   ]
  },
  {
   "cell_type": "code",
   "execution_count": 111,
   "id": "e44eb37a-fa0b-4cb4-ab1b-6fe7c91af66a",
   "metadata": {},
   "outputs": [
    {
     "name": "stdout",
     "output_type": "stream",
     "text": [
      "helloworld\n",
      "10\n",
      "world\n",
      "dlrow\n",
      "DLROW\n",
      "DXROW\n"
     ]
    }
   ],
   "source": [
    "concatenated_string = \"hello\" + \"world\"\n",
    "length = len(concatenated_string)\n",
    "substring = concatenated_string[5:]\n",
    "reverse = substring[::-1]\n",
    "upper = reverse.upper()\n",
    "replace = upper.replace(\"L\",\"X\")\n",
    "\n",
    "print(concatenated_string)\n",
    "print(length)\n",
    "print(substring)\n",
    "print(reverse)\n",
    "print(upper)\n",
    "print(replace)"
   ]
  },
  {
   "cell_type": "markdown",
   "id": "81119fec-f6dd-4054-90eb-d2dcc45e3efa",
   "metadata": {
    "jp-MarkdownHeadingCollapsed": true
   },
   "source": [
    "# List in Python"
   ]
  },
  {
   "cell_type": "code",
   "execution_count": null,
   "id": "3dfae563-064d-4371-b96f-354d8fcdd57c",
   "metadata": {},
   "outputs": [],
   "source": [
    "A list in Python is a versatile, ordered, and mutable data structure used to store collections of items. \n",
    "Lists are defined by enclosing comma-separated items within square brackets [].\n",
    "\n",
    "Key Characteristics:\n",
    "1) Ordered: Lists maintain the order in which items are added.\n",
    "2) Mutable: Items within a list can be changed, added, or removed after the list is created.\n",
    "3) Heterogeneous: Lists can store items of different data types, including numbers, strings, booleans, \n",
    "                  and even other lists (nested lists).\n",
    "4) Dynamic: Lists can grow or shrink in size as needed.\n",
    "5) Indexed: Items in a list can be accessed using their index, starting from 0 for the first item.\n",
    "            Negative indices can be used to access elements from the end of the list, with -1 referring to the last item.\n",
    "6) Allow Duplicates: Lists can contain duplicate items."
   ]
  },
  {
   "cell_type": "code",
   "execution_count": null,
   "id": "db630e5f-e6dd-447d-a1cd-d4128f54ed45",
   "metadata": {},
   "outputs": [],
   "source": [
    "Creating Lists:\n",
    "    Empty List: my_list = []\n",
    "    List with items: my_list = [1, \"hello\", 3.14, True]\n",
    "    List of lists: my_list = [[1, 2], [3, 4]]\n",
    "\n",
    "Accessing Items:\n",
    "    By index: my_list[0] (accesses the first item)\n",
    "    By negative index: my_list[-1] (accesses the last item)\n",
    "    Slicing: my_list[1:3] (accesses items from index 1 up to, but not including, index 3)"
   ]
  },
  {
   "cell_type": "code",
   "execution_count": null,
   "id": "73869349-3382-4051-9ba0-79fe96f3c98a",
   "metadata": {},
   "outputs": [],
   "source": []
  },
  {
   "cell_type": "code",
   "execution_count": 2,
   "id": "8133248d-60b9-47a7-bae9-7cef18fb12e0",
   "metadata": {},
   "outputs": [
    {
     "name": "stdout",
     "output_type": "stream",
     "text": [
      "['a', 'b', 'c']\n",
      "<class 'list'>\n"
     ]
    }
   ],
   "source": [
    "# Creating a list\n",
    "\n",
    "my_list = [\"a\",\"b\",\"c\"]\n",
    "print(my_list)\n",
    "print(type(my_list))"
   ]
  },
  {
   "cell_type": "code",
   "execution_count": 87,
   "id": "cc202edd-4252-4ef3-aec2-96e17ab85970",
   "metadata": {},
   "outputs": [
    {
     "name": "stdout",
     "output_type": "stream",
     "text": [
      "Mango\n"
     ]
    }
   ],
   "source": [
    "# Properties of list\n",
    "\n",
    "fruits = [\"Mango\",\"Orange\",\"Cherry\"]\n",
    "print(fruits[0])  #ordering"
   ]
  },
  {
   "cell_type": "code",
   "execution_count": 10,
   "id": "e7e0e45f-da17-42c6-8ae2-2221ce671d15",
   "metadata": {},
   "outputs": [
    {
     "name": "stdout",
     "output_type": "stream",
     "text": [
      "[1, 'hello', 3.14, [1, 2, 3]]\n",
      "3.14\n"
     ]
    }
   ],
   "source": [
    "mixed_list = [1,\"hello\",3.14,[1,2,3]]    #hetrogenous\n",
    "print(mixed_list)\n",
    "print(mixed_list[2])"
   ]
  },
  {
   "cell_type": "code",
   "execution_count": 12,
   "id": "64a99e94-9e29-4bdb-8ed6-c32e1d1522d3",
   "metadata": {},
   "outputs": [
    {
     "name": "stdout",
     "output_type": "stream",
     "text": [
      "['apple', 'mango']\n"
     ]
    }
   ],
   "source": [
    "lis1 = [\"apple\",\"mango\"]\n",
    "lis2 = [2.3,2.5]\n",
    "lis3 = [True,False]\n",
    "print(lis1)"
   ]
  },
  {
   "cell_type": "code",
   "execution_count": 14,
   "id": "25cf7d5c-07cd-454c-b94a-7347cdcc453a",
   "metadata": {},
   "outputs": [
    {
     "name": "stdout",
     "output_type": "stream",
     "text": [
      "Cat\n",
      "Monkey\n"
     ]
    }
   ],
   "source": [
    "animals = [\"Cat\",\"Dog\",\"Monkey\",\"Lion\"]  #indexing\n",
    "print(animals[0])\n",
    "print(animals[-2])"
   ]
  },
  {
   "cell_type": "code",
   "execution_count": 22,
   "id": "4a96f4ce-5f55-4b88-890f-7d1bcf78ad38",
   "metadata": {},
   "outputs": [
    {
     "name": "stdout",
     "output_type": "stream",
     "text": [
      "[10, 11, 12, 13]\n",
      "[10, 11, 12, 13]\n",
      "[10, 11, 12, 13, 14, 15, 16]\n",
      "[12, 13, 14, 15, 16]\n",
      "[12, 13, 14, 15]\n"
     ]
    }
   ],
   "source": [
    "numbers = [10,11,12,13,14,15,16]    #basic slicing\n",
    "print(numbers[0:4])\n",
    "\n",
    "print(numbers[:4])         #omiting slicing\n",
    "print(numbers[:])\n",
    "\n",
    "print(numbers[-5:])         #negative indexing slicing\n",
    "print(numbers[-5:-1])"
   ]
  },
  {
   "cell_type": "code",
   "execution_count": 26,
   "id": "4900e26f-dc51-489e-91f8-c9c8ba810933",
   "metadata": {},
   "outputs": [
    {
     "name": "stdout",
     "output_type": "stream",
     "text": [
      "[10, 12, 14, 16]\n",
      "[10, 13, 16]\n"
     ]
    }
   ],
   "source": [
    "# indexing with steps(slicing)\n",
    "\n",
    "numbers = [10,11,12,13,14,15,16] \n",
    "print(numbers[::2])\n",
    "print(numbers[::3])"
   ]
  },
  {
   "cell_type": "code",
   "execution_count": 85,
   "id": "859748e8-8cef-4bdc-a512-beb1c5017cfb",
   "metadata": {},
   "outputs": [
    {
     "name": "stdout",
     "output_type": "stream",
     "text": [
      "[2, 4, 1, 3, 5, 6, 66, 54, 45, 34, 354, 343, 5, 'a', 'b', 'c']\n",
      "16\n"
     ]
    }
   ],
   "source": [
    "# length Method\n",
    "\n",
    "a = [2,4,1,3,5,6,66,54,45,34,354,343,5,\"a\",\"b\",\"c\"]\n",
    "print(a)\n",
    "print(len(a))"
   ]
  },
  {
   "cell_type": "code",
   "execution_count": 89,
   "id": "cdcf0440-a45a-4c10-b73e-4d42fb7f3558",
   "metadata": {},
   "outputs": [
    {
     "name": "stdout",
     "output_type": "stream",
     "text": [
      "[1, 2, 10, 4, 5, 6]\n"
     ]
    }
   ],
   "source": [
    "# Mutability Property of list\n",
    "\n",
    "my_list = [1,2,3,4,5,6]\n",
    "my_list[2] = 10            #changing list items\n",
    "print(my_list)"
   ]
  },
  {
   "cell_type": "code",
   "execution_count": 91,
   "id": "7634b424-4f22-4666-a906-0ba35abd8e9f",
   "metadata": {},
   "outputs": [
    {
     "name": "stdout",
     "output_type": "stream",
     "text": [
      "[1, 2, 3, 4, 'hello', 6]\n"
     ]
    }
   ],
   "source": [
    "my_list = [1,2,3,4,5,6]\n",
    "my_list[4] = \"hello\"           \n",
    "print(my_list)"
   ]
  },
  {
   "cell_type": "code",
   "execution_count": 93,
   "id": "3c89e6a8-51c1-42fc-8faa-503d0c2c5b4a",
   "metadata": {},
   "outputs": [
    {
     "name": "stdout",
     "output_type": "stream",
     "text": [
      "[11, 12, 'books', 'pen', 'paper', 15, 16, 17, 18, 19, 20]\n"
     ]
    }
   ],
   "source": [
    "# Change a range of items value\n",
    "\n",
    "a = [11,12,13,14,15,16,17,18,19,20]\n",
    "a[2:4] = [\"books\",\"pen\",\"paper\"]\n",
    "print(a)"
   ]
  },
  {
   "cell_type": "code",
   "execution_count": 95,
   "id": "3cd2367b-8bbf-466d-b585-6c24f35c9829",
   "metadata": {},
   "outputs": [
    {
     "name": "stdout",
     "output_type": "stream",
     "text": [
      "['apple', 'banana', 'cherry', 'orange']\n"
     ]
    }
   ],
   "source": [
    "# Adding an item in list\n",
    "\n",
    "this_list = [\"apple\",\"banana\",\"cherry\"]\n",
    "this_list.append(\"orange\")\n",
    "print(this_list)"
   ]
  },
  {
   "cell_type": "code",
   "execution_count": 97,
   "id": "4b81dcdb-70c9-4d44-b83e-3423659c73c0",
   "metadata": {},
   "outputs": [
    {
     "name": "stdout",
     "output_type": "stream",
     "text": [
      "[11, 12, 13, 14, 15, 16, 17, 18, 19, 20, -21]\n"
     ]
    }
   ],
   "source": [
    "a = [11,12,13,14,15,16,17,18,19,20]\n",
    "a.append(-21)\n",
    "print(a)"
   ]
  },
  {
   "cell_type": "code",
   "execution_count": 99,
   "id": "b515f906-6ace-46a8-a6c1-db10be6b1966",
   "metadata": {},
   "outputs": [
    {
     "name": "stdout",
     "output_type": "stream",
     "text": [
      "[11, 12, 13, 14, 15, 16, 18, 19, 20]\n"
     ]
    }
   ],
   "source": [
    "# Removing an items from list\n",
    "\n",
    "a = [11,12,13,14,15,16,17,18,19,20]\n",
    "a.remove(17)\n",
    "print(a)"
   ]
  },
  {
   "cell_type": "code",
   "execution_count": 103,
   "id": "54440935-d99d-4dbb-9804-be3535677867",
   "metadata": {},
   "outputs": [
    {
     "name": "stdout",
     "output_type": "stream",
     "text": [
      "[1, 2, 3, 11, 12, 13, 'hello', 'world']\n"
     ]
    }
   ],
   "source": [
    "# Join the list\n",
    "\n",
    "a = [1,2,3]\n",
    "b = [11,12,13]\n",
    "c =[\"hello\",\"world\"]\n",
    "print(a + b + c)"
   ]
  },
  {
   "cell_type": "code",
   "execution_count": 109,
   "id": "6cb02c63-46dd-420c-83ea-d4fb991f1678",
   "metadata": {},
   "outputs": [
    {
     "data": {
      "text/plain": [
       "True"
      ]
     },
     "execution_count": 109,
     "metadata": {},
     "output_type": "execute_result"
    }
   ],
   "source": [
    "# Check is a item present in list (membership method)\n",
    "\n",
    "a = [25,23,1,21,\"hello\",\"python\",898,343,4224,90]\n",
    "25 in a"
   ]
  },
  {
   "cell_type": "code",
   "execution_count": 111,
   "id": "2517491b-3a2a-4956-a663-5a17941c740a",
   "metadata": {},
   "outputs": [
    {
     "data": {
      "text/plain": [
       "False"
      ]
     },
     "execution_count": 111,
     "metadata": {},
     "output_type": "execute_result"
    }
   ],
   "source": [
    "a = [25,23,1,21,\"hello\",\"python\",898,343,4224,90]\n",
    "3 in a"
   ]
  },
  {
   "cell_type": "code",
   "execution_count": 113,
   "id": "e6428a5c-10c7-4e89-9ef9-9519e96010b8",
   "metadata": {},
   "outputs": [
    {
     "name": "stdout",
     "output_type": "stream",
     "text": [
      "[351, 24, 910, 65, 64, 353, 34, 12]\n"
     ]
    }
   ],
   "source": [
    "# Reversing a list\n",
    "\n",
    "a = [12,34,353,64,65,910,24,351]\n",
    "a.reverse()\n",
    "print(a)"
   ]
  },
  {
   "cell_type": "markdown",
   "id": "587261f2-7cd7-47ff-b7ce-84aa6102569a",
   "metadata": {
    "jp-MarkdownHeadingCollapsed": true
   },
   "source": [
    "# Prectice Questions"
   ]
  },
  {
   "cell_type": "code",
   "execution_count": null,
   "id": "5c070b69-f95f-4bba-a921-47298f21b40d",
   "metadata": {},
   "outputs": [],
   "source": [
    "# Question 1\n",
    "\n",
    "\"\"\" Given the list scores [55, 89, 76, 65, 93, 50, 72],\n",
    "write a Python expression ex to create a new list that contains only the scores that are above 70. \n",
    "\"\"\""
   ]
  },
  {
   "cell_type": "code",
   "execution_count": 29,
   "id": "27799b36-6f81-4dbf-8d3e-8ca978b8595f",
   "metadata": {},
   "outputs": [
    {
     "name": "stdout",
     "output_type": "stream",
     "text": [
      "[89, 76, 93, 72]\n"
     ]
    }
   ],
   "source": [
    "scores = [55,89,76,65,93,50,72]\n",
    "high_score = []\n",
    "for score in scores:\n",
    "    if score > 70:\n",
    "        high_score.append(score)\n",
    "    else:\n",
    "        pass\n",
    "print(high_score)"
   ]
  },
  {
   "cell_type": "code",
   "execution_count": null,
   "id": "a540dbab-6a86-454a-8574-e1c34ba5ebcd",
   "metadata": {},
   "outputs": [],
   "source": [
    "# Question 2\n",
    "\n",
    "\"\"\" Given the list data [1, 2, 3, 4, 5, 6, 7, 8, 9, 10], \n",
    "write a Python expression to get the sum of the first five elements and another expression to reverse the entire list. \n",
    "\"\"\""
   ]
  },
  {
   "cell_type": "code",
   "execution_count": 35,
   "id": "8390f8f2-9222-47b5-b1c3-07924f0a6c4a",
   "metadata": {},
   "outputs": [
    {
     "name": "stdout",
     "output_type": "stream",
     "text": [
      "The sum of first five items is:  15\n",
      "The reverse list is:  [10, 9, 8, 7, 6, 5, 4, 3, 2, 1]\n"
     ]
    }
   ],
   "source": [
    "data = [1,2,3,4,5,6,7,8,9,10]\n",
    "sum_five = sum(data[:5])\n",
    "print(\"The sum of first five items is: \",sum_five)\n",
    "\n",
    "reverse = data[::-1]\n",
    "print(\"The reverse list is: \",reverse)"
   ]
  },
  {
   "cell_type": "code",
   "execution_count": null,
   "id": "4d5062ac-3329-4b1e-860c-59d7082ad848",
   "metadata": {},
   "outputs": [],
   "source": [
    "# Question 3\n",
    "\n",
    "\"\"\" \n",
    "Given the list numbers = [1, 2, 3, 4, 5, 6, 7, 8, 9, 10], write Python expressionς το \n",
    "Create a new list with the first half and the second half swapped. \n",
    "Print the sum of the last three elements. \n",
    "Input numbers [1, 2, 3, 4, 5, 6, 7, 8, 9, 10] \n",
    "output \n",
    "(6, 7, 8, 9, 10, 1, 2, 3, 4, 5] \n",
    " 27 \n",
    "\"\"\""
   ]
  },
  {
   "cell_type": "code",
   "execution_count": 83,
   "id": "944a139a-7913-4a2a-b7d9-8a7be457e69b",
   "metadata": {},
   "outputs": [
    {
     "name": "stdout",
     "output_type": "stream",
     "text": [
      "The swaping of half items in numbers is:  [6, 7, 8, 9, 10, 1, 2, 3, 4, 5]\n",
      "The sum of last value of three of the list numbers is:  27\n",
      "The sum of last value of three of the list swap is:  14\n"
     ]
    }
   ],
   "source": [
    "numbers = [1,2,3,4,5,6,7,8,9,10]\n",
    "first_half = []\n",
    "second_half = [] \n",
    "\n",
    "for i in range(1,6):\n",
    "    first_half.append(i)\n",
    "\n",
    "for j in range(6,11):\n",
    "    second_half.append(j)\n",
    "\n",
    "swap = second_half + first_half\n",
    "print(\"The swaping of half items in numbers is: \",swap)\n",
    "\n",
    "sum_last_three = sum(numbers[-3:])\n",
    "print(\"The sum of last value of three of the list numbers is: \",sum_last_three)\n",
    "\n",
    "sum_last = sum(swap[-4:])\n",
    "print(\"The sum of last value of three of the list swap is: \",sum_last)\n"
   ]
  },
  {
   "cell_type": "code",
   "execution_count": null,
   "id": "44ede577-7fea-4e70-811a-880b922c1ba7",
   "metadata": {},
   "outputs": [],
   "source": [
    "# Question 4\n",
    "\n",
    "\"\"\" Task: Data Cleaning \n",
    "You have a list responses containing responses from a survey. However, some responses \n",
    "are recorded as empty strings due to data entry errors. Your task is to remove these empty responses from the list. \n",
    "\n",
    "Write Python code to remove all empty responses from the responses list \n",
    "responses =[\"Yes\",\"\",\"No\",\"\", \"Maybe\",\"\",\"\",\"Yes\", \"No\",\"\"] \n",
    "\"\"\""
   ]
  },
  {
   "cell_type": "code",
   "execution_count": 2,
   "id": "cc573f23-2404-49c6-91b4-b6610d6d18d6",
   "metadata": {},
   "outputs": [
    {
     "name": "stdout",
     "output_type": "stream",
     "text": [
      "['Yes', 'No', 'Maybe', 'Yes', 'No']\n"
     ]
    }
   ],
   "source": [
    "responses =[\"Yes\",\"\",\"No\",\"\", \"Maybe\",\"\",\"\",\"Yes\", \"No\",\"\"] \n",
    "clean = []\n",
    "for response in responses:\n",
    "    if response != \"\":\n",
    "        clean.append(response)\n",
    "    else:\n",
    "        pass\n",
    "print(clean)"
   ]
  },
  {
   "cell_type": "code",
   "execution_count": null,
   "id": "60519d98-18b4-49fd-a4e4-5c44308645d0",
   "metadata": {},
   "outputs": [],
   "source": [
    "# Question 5\n",
    "\n",
    "\"\"\" Data Analysis Scenario:\n",
    "You have the lists containing exan scores\n",
    "of students from two different classes.\n",
    "The lists are classi scores and class2 scores.\n",
    "You need to analyze the performance\n",
    "of the classes by calculating the average score for each class.\n",
    "Write Python code to calculate the average score for each class.\n",
    "classi scores [85, 90, 88, 92, 78]\n",
    "class2 scores [75, 82, 80, 85, 79]\n",
    "\"\"\""
   ]
  },
  {
   "cell_type": "code",
   "execution_count": 4,
   "id": "cc4fed45-79bc-4ef0-b3b6-65a698db9c25",
   "metadata": {},
   "outputs": [
    {
     "name": "stdout",
     "output_type": "stream",
     "text": [
      "The average score of class 1 is:  86.6\n",
      "The average score of class 2 is:  80.2\n"
     ]
    }
   ],
   "source": [
    "class1_scores = [85,90,88,92,78]\n",
    "class2_scores = [75,82,80,85,79]\n",
    "\n",
    "class1_avg = sum(class1_scores)/len(class1_scores)\n",
    "class2_avg = sum(class2_scores)/len(class2_scores)\n",
    "\n",
    "print(\"The average score of class 1 is: \",class1_avg)\n",
    "print(\"The average score of class 2 is: \",class2_avg)"
   ]
  },
  {
   "cell_type": "markdown",
   "id": "f2727339-fe2a-4d8f-ae3a-7ca203d8bfca",
   "metadata": {
    "jp-MarkdownHeadingCollapsed": true
   },
   "source": [
    "# Tuples in python"
   ]
  },
  {
   "cell_type": "code",
   "execution_count": null,
   "id": "63e4537d-43cb-4877-b878-ac911e70995b",
   "metadata": {},
   "outputs": [],
   "source": [
    "A tuple in Python is an immutable ordered collection of elements. Tuples are similar to lists, but unlike lists, \n",
    "they cannot be changed after their creation (i.e., they are immutable). Tuples can hold elements of different data types.\n",
    "The main characteristics of tuples are being ordered , heterogeneous and immutable.\n",
    "\n",
    "Tuples in Python are ordered, immutable collections of items. They are similar to lists, but with key differences:\n",
    "\n",
    "Key Characteristics:\n",
    "1) Ordered: Elements in a tuple maintain their order.\n",
    "2) Immutable: Once created, a tuple cannot be changed (elements cannot be added, removed, or modified).\n",
    "3) Defined with Parentheses: Tuples are typically created using parentheses (), with elements separated by commas.\n",
    "                             However, parentheses are optional, and tuples can also be created by simply separating values with commas.\n",
    "Example: my_tuple = (1, 2, \"hello\") or my_tuple = 1, 2, \"hello\"\n",
    "4) Heterogeneous: Tuples can contain elements of different data types.\n",
    "5) Indexing: Elements can be accessed using zero-based indexing (e.g., my_tuple[0] accesses the first element).\n",
    "6) Slicing: Tuples support slicing to access a range of elements (e.g., my_tuple[1:3] accesses the second and third elements)."
   ]
  },
  {
   "cell_type": "code",
   "execution_count": null,
   "id": "15d89a0a-c120-4920-9cbb-6773a78e3a44",
   "metadata": {},
   "outputs": [],
   "source": [
    "Creating Tuples:\n",
    ".) Empty Tuple: empty_tuple = ()\n",
    ".) Single-Element Tuple: single_tuple = (5,) (note the trailing comma). The comma is crucial for Python to recognize \n",
    "                         this as a tuple, not just a parenthesized value.\n",
    ".) Multiple Elements: multi_tuple = (1, \"apple\", 3.14)\n",
    ".) Tuple Packing: tuple_packing = (1, 2, 3)\n",
    "\n",
    "\n",
    "Tuple Operations:\n",
    "1) Concatenation: Tuples can be combined using the + operator, creating a new tuple.\n",
    "Example: new_tuple = (1, 2) + (3, 4)\n",
    "2) Repetition: Tuples can be repeated using the * operator.\n",
    "Example: repeated_tuple = (1, 2) * 3\n",
    "3) Membership: The in operator can be used to check if an item exists in a tuple.\n",
    "Example: 1 in (1, 2, 3) returns True.                                                                                            "
   ]
  },
  {
   "cell_type": "code",
   "execution_count": 1,
   "id": "2fb885b1-d0aa-44a4-acaf-b11f4723d7c5",
   "metadata": {},
   "outputs": [
    {
     "name": "stdout",
     "output_type": "stream",
     "text": [
      "(10, 20, 30)\n",
      "<class 'tuple'>\n"
     ]
    }
   ],
   "source": [
    "a = (10,20,30)\n",
    "print(a)\n",
    "print(type(a))"
   ]
  },
  {
   "cell_type": "code",
   "execution_count": 5,
   "id": "91e281dd-f50e-4562-af17-c70236f19e59",
   "metadata": {},
   "outputs": [
    {
     "name": "stdout",
     "output_type": "stream",
     "text": [
      "()\n",
      "<class 'tuple'>\n"
     ]
    }
   ],
   "source": [
    "# empty tuple\n",
    "\n",
    "tup = ()\n",
    "print(tup)\n",
    "print(type(tup))"
   ]
  },
  {
   "cell_type": "code",
   "execution_count": 7,
   "id": "8004ca14-5500-449a-a897-681adddf2c94",
   "metadata": {},
   "outputs": [
    {
     "name": "stdout",
     "output_type": "stream",
     "text": [
      "5\n",
      "<class 'int'>\n"
     ]
    }
   ],
   "source": [
    "# single element\n",
    "\n",
    "b = (5)\n",
    "print(b)\n",
    "print(type(b))"
   ]
  },
  {
   "cell_type": "code",
   "execution_count": 9,
   "id": "5c7a2a83-ac2f-4cf1-93cc-d706af280785",
   "metadata": {},
   "outputs": [
    {
     "name": "stdout",
     "output_type": "stream",
     "text": [
      "(5,)\n",
      "<class 'tuple'>\n"
     ]
    }
   ],
   "source": [
    "b = (5,)\n",
    "print(b)\n",
    "print(type(b))"
   ]
  },
  {
   "cell_type": "code",
   "execution_count": 11,
   "id": "856307bb-9159-4134-990e-d4f8a8b0be74",
   "metadata": {},
   "outputs": [
    {
     "name": "stdout",
     "output_type": "stream",
     "text": [
      "(1, 2.3, 'hello', 'world', True)\n",
      "<class 'tuple'>\n"
     ]
    }
   ],
   "source": [
    "# mixed data type tuple\n",
    "\n",
    "v = (1,2.3,\"hello\",\"world\",True)\n",
    "print(v)\n",
    "print(type(v))"
   ]
  },
  {
   "cell_type": "code",
   "execution_count": 13,
   "id": "2e6c948d-16fc-42cb-baef-dc8621068dfa",
   "metadata": {},
   "outputs": [
    {
     "name": "stdout",
     "output_type": "stream",
     "text": [
      "('mouse', 2.3, (21, 12, 49), 'keyboard')\n",
      "<class 'tuple'>\n"
     ]
    }
   ],
   "source": [
    "# nested tuple\n",
    "\n",
    "a = (\"mouse\",2.3,(21,12,49),\"keyboard\")\n",
    "print(a)\n",
    "print(type(a))"
   ]
  },
  {
   "cell_type": "code",
   "execution_count": 15,
   "id": "b0693678-c0cc-4af9-acf3-eaef2def65cc",
   "metadata": {},
   "outputs": [
    {
     "name": "stdout",
     "output_type": "stream",
     "text": [
      "([12, 14, 16], [10, 20], [14, 17, 23])\n",
      "<class 'tuple'>\n"
     ]
    }
   ],
   "source": [
    "num = ([12,14,16],[10,20],[14,17,23])\n",
    "print(num)\n",
    "print(type(num))"
   ]
  },
  {
   "cell_type": "code",
   "execution_count": 17,
   "id": "442c5b91-03b3-48be-8949-ceed73062960",
   "metadata": {},
   "outputs": [
    {
     "name": "stdout",
     "output_type": "stream",
     "text": [
      "()\n",
      "<class 'tuple'>\n"
     ]
    }
   ],
   "source": [
    "# Tuple Constructor\n",
    "\n",
    "empty = tuple()\n",
    "print(empty)\n",
    "print(type(empty))"
   ]
  },
  {
   "cell_type": "code",
   "execution_count": 21,
   "id": "88b2eae0-5258-49b8-874b-bf4bbddeb327",
   "metadata": {},
   "outputs": [
    {
     "name": "stdout",
     "output_type": "stream",
     "text": [
      "[1, 2, 3, 4]\n",
      "<class 'list'>\n",
      "(1, 2, 3, 4)\n",
      "<class 'tuple'>\n"
     ]
    }
   ],
   "source": [
    "# converting list into tuple\n",
    "\n",
    "list = [1,2,3,4]\n",
    "print(list)\n",
    "print(type(list))\n",
    "\n",
    "number = tuple(list)\n",
    "print(number)\n",
    "print(type(number))"
   ]
  },
  {
   "cell_type": "code",
   "execution_count": 27,
   "id": "8ee3a5e1-196f-4985-bef5-1998dcc48266",
   "metadata": {},
   "outputs": [
    {
     "name": "stdout",
     "output_type": "stream",
     "text": [
      "hello\n",
      "<class 'str'>\n",
      "('h', 'e', 'l', 'l', 'o')\n",
      "<class 'tuple'>\n"
     ]
    }
   ],
   "source": [
    "# converting string into tuple\n",
    "\n",
    "string = \"hello\"\n",
    "print(string)\n",
    "print(type(string))\n",
    "\n",
    "tupel1 = tuple(string)\n",
    "print(tupel1)\n",
    "print(type(tupel1))"
   ]
  },
  {
   "cell_type": "code",
   "execution_count": 29,
   "id": "cfe1fb83-06e6-41df-80f4-4eea2c28d966",
   "metadata": {},
   "outputs": [
    {
     "name": "stdout",
     "output_type": "stream",
     "text": [
      "{'a': 1, 'b': 2, 'c': 3}\n",
      "<class 'dict'>\n",
      "('a', 'b', 'c')\n",
      "<class 'tuple'>\n"
     ]
    }
   ],
   "source": [
    "# converting a dictionary into tuple\n",
    "\n",
    "dictionary = {'a':1,'b':2,'c':3}\n",
    "print(dictionary)\n",
    "print(type(dictionary))\n",
    "\n",
    "tup = tuple(dictionary)\n",
    "print(tup)\n",
    "print(type(tup))"
   ]
  },
  {
   "cell_type": "code",
   "execution_count": 33,
   "id": "a2dce766-5dca-4ee0-88fc-d8fd5bb3e5a4",
   "metadata": {},
   "outputs": [
    {
     "name": "stdout",
     "output_type": "stream",
     "text": [
      "{1, 2, 3, 4}\n",
      "<class 'set'>\n",
      "(1, 2, 3, 4)\n",
      "<class 'tuple'>\n"
     ]
    }
   ],
   "source": [
    "# converting a set into tuple\n",
    "\n",
    "set1 = {1,2,3,4}\n",
    "print(set1)\n",
    "print(type(set1))\n",
    "\n",
    "tup1 = tuple(set1)\n",
    "print(tup1)\n",
    "print(type(tup1))"
   ]
  },
  {
   "cell_type": "code",
   "execution_count": 37,
   "id": "36391ce6-b6f4-4086-a7b5-a37bf8ac5fd3",
   "metadata": {},
   "outputs": [
    {
     "name": "stdout",
     "output_type": "stream",
     "text": [
      "mango\n",
      "banana\n"
     ]
    }
   ],
   "source": [
    "# Positive Indexing in Tuple\n",
    "\n",
    "my_tuple = (\"mango\",\"apple\",\"banana\",\"date\")\n",
    "print(my_tuple[0])\n",
    "print(my_tuple[2])"
   ]
  },
  {
   "cell_type": "code",
   "execution_count": 39,
   "id": "8ff4406b-313f-4d67-b660-19b09848a565",
   "metadata": {},
   "outputs": [
    {
     "name": "stdout",
     "output_type": "stream",
     "text": [
      "date\n",
      "apple\n"
     ]
    }
   ],
   "source": [
    "# Negative indexing in tuple\n",
    "\n",
    "my_tuple = (\"mango\",\"apple\",\"banana\",\"date\")\n",
    "print(my_tuple[-1])\n",
    "print(my_tuple[-3])\n"
   ]
  },
  {
   "cell_type": "code",
   "execution_count": 41,
   "id": "f0191fe9-1e9c-458b-8678-6af697f5d3c2",
   "metadata": {},
   "outputs": [
    {
     "name": "stdout",
     "output_type": "stream",
     "text": [
      "('mango', 'apple', 'banana', 'date')\n",
      "('mango', 'apple')\n"
     ]
    }
   ],
   "source": [
    "# Slicing in Tuple\n",
    "\n",
    "my_tuple = (\"mango\",\"apple\",\"banana\",\"date\")\n",
    "print(my_tuple[0:])\n",
    "print(my_tuple[:2])"
   ]
  },
  {
   "cell_type": "code",
   "execution_count": 47,
   "id": "654bb5ee-fb08-4f0e-85d2-02352b161a55",
   "metadata": {},
   "outputs": [
    {
     "name": "stdout",
     "output_type": "stream",
     "text": [
      "('b', 'c', 'd')\n",
      "('a', 'b', 'c', 'd')\n",
      "('b', 'c', 'd', 'e', 'f')\n"
     ]
    }
   ],
   "source": [
    "my_tup = ('a','b','c','d','e','f')\n",
    "print(my_tup[1:4])\n",
    "print(my_tup[:4])\n",
    "print(my_tup[1:])"
   ]
  },
  {
   "cell_type": "code",
   "execution_count": 49,
   "id": "4e51f324-39d9-417e-a44e-b5f55c423670",
   "metadata": {},
   "outputs": [
    {
     "name": "stdout",
     "output_type": "stream",
     "text": [
      "('a', 'c', 'e')\n"
     ]
    }
   ],
   "source": [
    "# steps in slicing in tuple\n",
    "\n",
    "my_tup = ('a','b','c','d','e','f')\n",
    "print(my_tup[::2])"
   ]
  },
  {
   "cell_type": "code",
   "execution_count": 53,
   "id": "06d486f9-14cc-4529-bc93-227abfec249e",
   "metadata": {},
   "outputs": [
    {
     "name": "stdout",
     "output_type": "stream",
     "text": [
      "(5.6, False)\n",
      "('apple', 'banana', 12)\n"
     ]
    }
   ],
   "source": [
    "# Slicing with negative indexing\n",
    "\n",
    "tup2 = (\"apple\",\"banana\",12,34,5.6,False)\n",
    "print(tup2[-2:])\n",
    "print(tup2[:-3])"
   ]
  },
  {
   "cell_type": "code",
   "execution_count": 57,
   "id": "dbf94597-40d2-4cfc-a298-52fb02dc832b",
   "metadata": {},
   "outputs": [
    {
     "name": "stdout",
     "output_type": "stream",
     "text": [
      "(74, 94, 3, 79, 65, 45, 223, 81, 45)\n"
     ]
    }
   ],
   "source": [
    "# Reversing the Tuple\n",
    "\n",
    "a = (45,81,223,45,65,79,3,94,74)\n",
    "print(a[::-1])"
   ]
  },
  {
   "cell_type": "code",
   "execution_count": 61,
   "id": "dda12cd0-fa60-42b1-a376-fac0e9866a92",
   "metadata": {},
   "outputs": [
    {
     "name": "stdout",
     "output_type": "stream",
     "text": [
      "(9, 8, 7, 6, 5, 4, 3, 2, 1)\n",
      "(1, 2, 3, 4, 5, 6, 7, 8, 9)\n",
      "(4, 5, 6, 7, 8, 9)\n",
      "(1, 2, 3, 4)\n"
     ]
    }
   ],
   "source": [
    "T = (1,2,3,4,5,6,7,8,9)\n",
    "print(T[::-1])\n",
    "print(T[::])\n",
    "print(T[3:])\n",
    "print(T[:4])"
   ]
  },
  {
   "cell_type": "code",
   "execution_count": 63,
   "id": "8fca1901-3332-463a-a695-5f46303dcb37",
   "metadata": {},
   "outputs": [
    {
     "name": "stdout",
     "output_type": "stream",
     "text": [
      "(12, 14, 15, 12, 14, 53, 14, 15, 89)\n"
     ]
    }
   ],
   "source": [
    "# Duplicates values are allow in tuple\n",
    "\n",
    "a = (12,14,15,12,14,53,14,15,89)\n",
    "print(a)"
   ]
  },
  {
   "cell_type": "code",
   "execution_count": null,
   "id": "68b8b7f3-b3b0-455c-b22a-11a0dc3f2566",
   "metadata": {},
   "outputs": [],
   "source": [
    "Method's in Tuple"
   ]
  },
  {
   "cell_type": "code",
   "execution_count": 68,
   "id": "45dfb586-091d-485c-bb28-5725277cf909",
   "metadata": {},
   "outputs": [
    {
     "name": "stdout",
     "output_type": "stream",
     "text": [
      "3\n"
     ]
    }
   ],
   "source": [
    "# Count Method\n",
    "\n",
    "a = (12,14,15,12,14,53,14,15,89)\n",
    "print(a.count(14))"
   ]
  },
  {
   "cell_type": "code",
   "execution_count": 72,
   "id": "259516ba-7030-48f4-b283-6622aad319d2",
   "metadata": {},
   "outputs": [
    {
     "name": "stdout",
     "output_type": "stream",
     "text": [
      "3\n"
     ]
    }
   ],
   "source": [
    "b = (\"hello\",\"akash\",\"rahul\",\"ayush\",\"akash\",\"akash\")\n",
    "print(b.count(\"akash\"))"
   ]
  },
  {
   "cell_type": "code",
   "execution_count": 76,
   "id": "f0abe150-06ad-4d73-9741-dc3d9dfff5e9",
   "metadata": {},
   "outputs": [
    {
     "name": "stdout",
     "output_type": "stream",
     "text": [
      "1\n",
      "2\n"
     ]
    }
   ],
   "source": [
    "# Index Method\n",
    "\n",
    "b = (\"hello\",\"akash\",\"rahul\",\"ayush\",\"akash\",\"akash\")\n",
    "print(b.index(\"akash\"))\n",
    "print(b.index(\"rahul\"))"
   ]
  },
  {
   "cell_type": "code",
   "execution_count": 23,
   "id": "483d507b-5713-43db-bf30-1ad39ddfe607",
   "metadata": {},
   "outputs": [],
   "source": [
    "# Delete keyword\n",
    "\n",
    "x = (12,2,2.4,5,7,8,9)\n",
    "del x"
   ]
  },
  {
   "cell_type": "code",
   "execution_count": null,
   "id": "8e693448-c225-4e72-a75a-98282c760024",
   "metadata": {},
   "outputs": [],
   "source": [
    "# Immutable: Once created, a tuple cannot be changed (elements cannot be added, removed, or modified).\n",
    "\n",
    "# Converting Tuple into List for adding , removing and modified an tuple items."
   ]
  },
  {
   "cell_type": "code",
   "execution_count": 1,
   "id": "5169e050-36fa-4a01-bd26-df6abf5addf9",
   "metadata": {},
   "outputs": [
    {
     "name": "stdout",
     "output_type": "stream",
     "text": [
      "('data', 'python', 'science', 'rahul')\n",
      "<class 'tuple'>\n",
      "['data', 'python', 'science', 'rahul']\n",
      "<class 'list'>\n"
     ]
    }
   ],
   "source": [
    "# Converting Tuple into List \n",
    "\n",
    "x = (\"data\",\"python\",\"science\",\"rahul\")\n",
    "print(x)\n",
    "print(type(x))\n",
    "\n",
    "y = list(x)\n",
    "print(y)\n",
    "print(type(y))"
   ]
  },
  {
   "cell_type": "code",
   "execution_count": 3,
   "id": "f9a00a50-05d7-4a07-82d9-750c9b3b45f5",
   "metadata": {},
   "outputs": [
    {
     "name": "stdout",
     "output_type": "stream",
     "text": [
      "Original Tuple: (10, 20, 30, 40, 50)\n",
      "Converted List: [10, 20, 30, 40, 50]\n"
     ]
    }
   ],
   "source": [
    "my_tuple = (10, 20, 30, 40, 50)\n",
    "\n",
    "# Converting tuple into list\n",
    "my_list = list(my_tuple)\n",
    "\n",
    "# Print the result\n",
    "print(\"Original Tuple:\", my_tuple)\n",
    "print(\"Converted List:\", my_list)"
   ]
  },
  {
   "cell_type": "code",
   "execution_count": 13,
   "id": "bd5be0c6-0f2b-4bbe-bd15-ae97c54bc884",
   "metadata": {},
   "outputs": [
    {
     "name": "stdout",
     "output_type": "stream",
     "text": [
      "[10, 20, 30, 40, 50]\n",
      "<class 'list'>\n",
      "The new list is:  [10, 20, 30, 40, 50, 60]\n",
      "The new tuple is:  (10, 20, 30, 40, 50, 60)\n"
     ]
    }
   ],
   "source": [
    "# Add Items\n",
    "\n",
    "my_tuple = (10, 20, 30, 40, 50)\n",
    " # my_tuple.append(60)\n",
    "my_list = list(my_tuple)\n",
    "print(my_list)\n",
    "print(type(my_list))\n",
    "\n",
    "my_list.append(60)\n",
    "print(\"The new list is: \",my_list)\n",
    "\n",
    "new_tuple = tuple(my_list)\n",
    "print(\"The new tuple is: \",new_tuple)"
   ]
  },
  {
   "cell_type": "code",
   "execution_count": 15,
   "id": "ae34db73-774b-43dc-b071-a87d4bec3efb",
   "metadata": {},
   "outputs": [
    {
     "name": "stdout",
     "output_type": "stream",
     "text": [
      "(1, 2, 3, 5, 67, 'rahul', 'a', 5, 63, 'bairwa', 'b')\n"
     ]
    }
   ],
   "source": [
    "# Add tuple to a tuple\n",
    "\n",
    "tup1 = (1,2,3,5,67,\"rahul\",\"a\")\n",
    "tup2 = (5,63,\"bairwa\",\"b\")\n",
    "tup1 += tup2\n",
    "print(tup1)"
   ]
  },
  {
   "cell_type": "code",
   "execution_count": 19,
   "id": "fc34c163-17f8-4ce3-98f0-29a28c9a649a",
   "metadata": {},
   "outputs": [
    {
     "name": "stdout",
     "output_type": "stream",
     "text": [
      "['apple', 'banana', 'cherry', 'date', 'mango']\n",
      "['apple', 'banana', 'cherry', 'mango']\n",
      "('apple', 'banana', 'cherry', 'mango')\n"
     ]
    }
   ],
   "source": [
    "# Remove Items into Tuple\n",
    "\n",
    "fruits = (\"apple\",\"banana\",\"cherry\",\"date\",\"mango\")\n",
    "fruit_list = list(fruits)\n",
    "print(fruit_list)\n",
    "\n",
    "fruit_list.remove(\"date\")\n",
    "print(fruit_list)\n",
    "\n",
    "new_fruits = tuple(fruit_list)\n",
    "print(new_fruits)"
   ]
  },
  {
   "cell_type": "code",
   "execution_count": 21,
   "id": "2162db4c-1e9e-439e-9415-2484bb6305ab",
   "metadata": {},
   "outputs": [
    {
     "name": "stdout",
     "output_type": "stream",
     "text": [
      "['apple', 'banana', 'cherry', 'date', 'mango']\n",
      "['apple', 'banana', 'cherry', 'blueberry', 'mango']\n",
      "('apple', 'banana', 'cherry', 'blueberry', 'mango')\n"
     ]
    }
   ],
   "source": [
    "# Changing the item in Tuple\n",
    "\n",
    "fruits = (\"apple\",\"banana\",\"cherry\",\"date\",\"mango\")\n",
    "fruit_list = list(fruits)\n",
    "print(fruit_list)\n",
    "\n",
    "fruit_list[3] = \"blueberry\"\n",
    "print(fruit_list)\n",
    "\n",
    "new_fruits = tuple(fruit_list)\n",
    "print(new_fruits)"
   ]
  },
  {
   "cell_type": "code",
   "execution_count": 25,
   "id": "f66c8d07-9bf8-4683-b539-f3d1962c4546",
   "metadata": {},
   "outputs": [
    {
     "name": "stdout",
     "output_type": "stream",
     "text": [
      "a\n",
      "b\n",
      "c\n"
     ]
    }
   ],
   "source": [
    "# Toop in a Tuple\n",
    "\n",
    "thistuple = (\"a\",\"b\",\"c\")\n",
    "for x in thistuple:\n",
    "    print(x)"
   ]
  },
  {
   "cell_type": "code",
   "execution_count": 27,
   "id": "9dc133d5-df98-405b-bf6a-cc33b1127841",
   "metadata": {},
   "outputs": [
    {
     "name": "stdout",
     "output_type": "stream",
     "text": [
      "('a', 'b', 'c', 1, 2, 3)\n"
     ]
    }
   ],
   "source": [
    "# Join two Tuples\n",
    "\n",
    "tup1 = ('a','b','c')\n",
    "tup2 = (1,2,3)\n",
    "tup3 = tup1 + tup2\n",
    "print(tup3)"
   ]
  },
  {
   "cell_type": "code",
   "execution_count": 29,
   "id": "1d7077d5-4cdb-4fb8-8bbb-2ac159a50f09",
   "metadata": {},
   "outputs": [
    {
     "name": "stdout",
     "output_type": "stream",
     "text": [
      "('apple', 'banana', 'cherry', 'date', 'mango', 'apple', 'banana', 'cherry', 'date', 'mango')\n"
     ]
    }
   ],
   "source": [
    "# Multiply Tuples\n",
    "\n",
    "fruits = (\"apple\",\"banana\",\"cherry\",\"date\",\"mango\")\n",
    "mytup = fruits *2\n",
    "print(mytup)"
   ]
  },
  {
   "cell_type": "code",
   "execution_count": 31,
   "id": "5221f14d-fe7c-4c5e-8a6d-f806a56d4847",
   "metadata": {},
   "outputs": [
    {
     "name": "stdout",
     "output_type": "stream",
     "text": [
      "('apple', 'banana', 'cherry', 'date', 'mango', 'apple', 'banana', 'cherry', 'date', 'mango', 'apple', 'banana', 'cherry', 'date', 'mango')\n"
     ]
    }
   ],
   "source": [
    "fruits = (\"apple\",\"banana\",\"cherry\",\"date\",\"mango\")\n",
    "mytup = fruits *3\n",
    "print(mytup)"
   ]
  },
  {
   "cell_type": "markdown",
   "id": "b97a3aac-5902-445b-ad7c-fbab40b7e013",
   "metadata": {
    "jp-MarkdownHeadingCollapsed": true
   },
   "source": [
    "# Sets in Python"
   ]
  },
  {
   "cell_type": "code",
   "execution_count": null,
   "id": "c4f5416e-e960-40f6-a990-71fed9ec5cca",
   "metadata": {},
   "outputs": [],
   "source": [
    "In Python, a set is a built-in data type used to store a collection of unique elements. Sets are unordered, meaning the elements \n",
    "do not have a specific index, and they are mutable, allowing you to add or remove elements after creation.\n",
    "\n",
    "In python, a set is an unordered collection of unique elements. This means that within a set, no element can be duplicated\n",
    "We use curly bracket {} to create a set in python.\n",
    "\n",
    "Key characteristics of sets:\n",
    "1) Uniqueness: Sets only store unique elements. If you try to add a duplicate, it will be ignored.\n",
    "2) Unordered: The elements in a set do not have a specific order.\n",
    "3) Mutable: You can add or remove elements from a set after it's created, but individual elements cannot be changed directly.\n",
    "4) Mathematical operations: Sets support mathematical operations like union, intersection, and difference.\n",
    "5) Hashing: Sets internally use hashing, which makes them efficient for searching, inserting, and deleting elements.\n",
    "            Only hashable objects(objects with fixed hash value) can be added to set. This means that sets cannot contain \n",
    "            mutable types like lists or dictionaries.\n",
    "6) Iterable: Sets can be iterated over, meaning you can loop through the elements in set."
   ]
  },
  {
   "cell_type": "code",
   "execution_count": null,
   "id": "d8d02a76-ea2c-48c9-b37c-b257fc0f18e0",
   "metadata": {},
   "outputs": [],
   "source": [
    "Common set operations:\n",
    "1) Adding elements: Use the add() method for single elements or update() for multiple elements.\n",
    "2) Removing elements: Use remove() to remove a specific element (raises an error if not found) or discard() (does not raise an error if not found).\n",
    "3) Union: Combines elements from two sets (| operator or union() method).\n",
    "4) Intersection: Returns common elements between two sets (& operator or intersection() method).\n",
    "5) Difference: Returns elements present in the first set but not in the second (- operator or difference() method).\n",
    "\n",
    "Use cases for sets:\n",
    "Removing duplicate elements from a list, Checking for membership efficiently, and Performing mathematical set operations."
   ]
  },
  {
   "cell_type": "code",
   "execution_count": 1,
   "id": "194a8322-f15a-4466-a17f-9679c3718465",
   "metadata": {},
   "outputs": [
    {
     "name": "stdout",
     "output_type": "stream",
     "text": [
      "{1, 2, 3, 4}\n",
      "<class 'set'>\n"
     ]
    }
   ],
   "source": [
    "# creating Set's\n",
    "\n",
    "my_var = {1,2,3,4}\n",
    "print(my_var)\n",
    "print(type(my_var))"
   ]
  },
  {
   "cell_type": "code",
   "execution_count": 5,
   "id": "f61e91c0-17c5-4c7b-9fbe-ac4644a062be",
   "metadata": {},
   "outputs": [
    {
     "name": "stdout",
     "output_type": "stream",
     "text": [
      "{40, 10, 20, 30}\n",
      "<class 'set'>\n"
     ]
    }
   ],
   "source": [
    "# creating set using set() method\n",
    "\n",
    "set1 = set([10,20,30,40])\n",
    "print(set1)\n",
    "print(type(set1))"
   ]
  },
  {
   "cell_type": "code",
   "execution_count": 7,
   "id": "6b61e593-eb80-42c6-942f-ca5a0c0484e3",
   "metadata": {},
   "outputs": [
    {
     "name": "stdout",
     "output_type": "stream",
     "text": [
      "{}\n",
      "<class 'dict'>\n"
     ]
    }
   ],
   "source": [
    "# Empty set\n",
    "\n",
    "empty = {}\n",
    "print(empty)\n",
    "print(type(empty))"
   ]
  },
  {
   "cell_type": "code",
   "execution_count": 9,
   "id": "90f4d0d9-40e7-4bb0-81f6-a1d670acf10e",
   "metadata": {},
   "outputs": [
    {
     "name": "stdout",
     "output_type": "stream",
     "text": [
      "set()\n",
      "<class 'set'>\n"
     ]
    }
   ],
   "source": [
    "xyz = set()\n",
    "print(xyz)\n",
    "print(type(xyz))"
   ]
  },
  {
   "cell_type": "code",
   "execution_count": 11,
   "id": "3c2091e6-6132-4a7d-91ca-fca63e7cba63",
   "metadata": {},
   "outputs": [
    {
     "name": "stdout",
     "output_type": "stream",
     "text": [
      "{1, 2, 3, 4}\n"
     ]
    }
   ],
   "source": [
    "# Properties of Set\n",
    "# 1) Unordered\n",
    "\n",
    "my_set = {3,1,2,4}\n",
    "print(my_set)"
   ]
  },
  {
   "cell_type": "code",
   "execution_count": 13,
   "id": "898bc002-7a59-4e4a-98c5-378a8680d582",
   "metadata": {},
   "outputs": [
    {
     "ename": "TypeError",
     "evalue": "'set' object is not subscriptable",
     "output_type": "error",
     "traceback": [
      "\u001b[1;31m---------------------------------------------------------------------------\u001b[0m",
      "\u001b[1;31mTypeError\u001b[0m                                 Traceback (most recent call last)",
      "Cell \u001b[1;32mIn[13], line 4\u001b[0m\n\u001b[0;32m      1\u001b[0m \u001b[38;5;66;03m# 2) No indexing/slicing\u001b[39;00m\n\u001b[0;32m      3\u001b[0m animels \u001b[38;5;241m=\u001b[39m {\u001b[38;5;124m\"\u001b[39m\u001b[38;5;124mcat\u001b[39m\u001b[38;5;124m\"\u001b[39m,\u001b[38;5;124m\"\u001b[39m\u001b[38;5;124mdog\u001b[39m\u001b[38;5;124m\"\u001b[39m,\u001b[38;5;124m\"\u001b[39m\u001b[38;5;124mmonkey\u001b[39m\u001b[38;5;124m\"\u001b[39m}\n\u001b[1;32m----> 4\u001b[0m \u001b[38;5;28mprint\u001b[39m(animels[\u001b[38;5;241m0\u001b[39m])\n",
      "\u001b[1;31mTypeError\u001b[0m: 'set' object is not subscriptable"
     ]
    }
   ],
   "source": [
    "# 2) No indexing/slicing\n",
    "\n",
    "animels = {\"cat\",\"dog\",\"monkey\"}\n",
    "print(animels[0])"
   ]
  },
  {
   "cell_type": "code",
   "execution_count": 15,
   "id": "d97ded12-4997-431f-a2f6-4685515dfd62",
   "metadata": {},
   "outputs": [
    {
     "ename": "TypeError",
     "evalue": "'set' object is not subscriptable",
     "output_type": "error",
     "traceback": [
      "\u001b[1;31m---------------------------------------------------------------------------\u001b[0m",
      "\u001b[1;31mTypeError\u001b[0m                                 Traceback (most recent call last)",
      "Cell \u001b[1;32mIn[15], line 2\u001b[0m\n\u001b[0;32m      1\u001b[0m animels \u001b[38;5;241m=\u001b[39m {\u001b[38;5;124m\"\u001b[39m\u001b[38;5;124mcat\u001b[39m\u001b[38;5;124m\"\u001b[39m,\u001b[38;5;124m\"\u001b[39m\u001b[38;5;124mdog\u001b[39m\u001b[38;5;124m\"\u001b[39m,\u001b[38;5;124m\"\u001b[39m\u001b[38;5;124mmonkey\u001b[39m\u001b[38;5;124m\"\u001b[39m}\n\u001b[1;32m----> 2\u001b[0m \u001b[38;5;28mprint\u001b[39m(animels[\u001b[38;5;241m0\u001b[39m:\u001b[38;5;241m2\u001b[39m])\n",
      "\u001b[1;31mTypeError\u001b[0m: 'set' object is not subscriptable"
     ]
    }
   ],
   "source": [
    "animels = {\"cat\",\"dog\",\"monkey\"}\n",
    "print(animels[0:2])"
   ]
  },
  {
   "cell_type": "code",
   "execution_count": 17,
   "id": "15671eff-7f10-4d0f-8f9e-eee2b8a234a0",
   "metadata": {},
   "outputs": [
    {
     "name": "stdout",
     "output_type": "stream",
     "text": [
      "{8, 10, 12, 14, 15, 17, 18, 89}\n",
      "8\n"
     ]
    }
   ],
   "source": [
    "# 3) Unique Elements\n",
    "\n",
    "my_set2 = {8,12,10,14,15,12,17,18,14,15,12,89}\n",
    "print(my_set2)\n",
    "print(len(my_set2))"
   ]
  },
  {
   "cell_type": "code",
   "execution_count": 19,
   "id": "635353a6-23fe-45ab-8af1-98e7e65a3401",
   "metadata": {},
   "outputs": [
    {
     "name": "stdout",
     "output_type": "stream",
     "text": [
      "25\n",
      "37\n",
      "23\n",
      "41\n",
      "14\n"
     ]
    }
   ],
   "source": [
    "# 4) Iterable\n",
    "\n",
    "my_set3 = {14,25,37,41,23}\n",
    "for element in my_set3:\n",
    "    print(element)"
   ]
  },
  {
   "cell_type": "code",
   "execution_count": 21,
   "id": "5b79e15b-c094-4921-9a36-e6a619d64728",
   "metadata": {},
   "outputs": [
    {
     "name": "stdout",
     "output_type": "stream",
     "text": [
      "{1, 2, 3, 'hii', 43.2, (10, 20)}\n"
     ]
    }
   ],
   "source": [
    "# 5) Hashable Elements\n",
    "\n",
    "my_set4 = {1,2,3,\"hii\",43.20,(10,20)}\n",
    "print(my_set4)"
   ]
  },
  {
   "cell_type": "code",
   "execution_count": 25,
   "id": "4c66298e-befb-4dc6-a967-7f454e8d1fdd",
   "metadata": {},
   "outputs": [
    {
     "ename": "TypeError",
     "evalue": "unhashable type: 'list'",
     "output_type": "error",
     "traceback": [
      "\u001b[1;31m---------------------------------------------------------------------------\u001b[0m",
      "\u001b[1;31mTypeError\u001b[0m                                 Traceback (most recent call last)",
      "Cell \u001b[1;32mIn[25], line 1\u001b[0m\n\u001b[1;32m----> 1\u001b[0m my_set5 \u001b[38;5;241m=\u001b[39m {\u001b[38;5;241m1\u001b[39m,\u001b[38;5;241m2\u001b[39m,\u001b[38;5;241m3\u001b[39m,\u001b[38;5;124m\"\u001b[39m\u001b[38;5;124mhii\u001b[39m\u001b[38;5;124m\"\u001b[39m,\u001b[38;5;241m43.20\u001b[39m,[\u001b[38;5;241m10\u001b[39m,\u001b[38;5;241m20\u001b[39m]}\n\u001b[0;32m      2\u001b[0m \u001b[38;5;28mprint\u001b[39m(my_set5)\n",
      "\u001b[1;31mTypeError\u001b[0m: unhashable type: 'list'"
     ]
    }
   ],
   "source": [
    "my_set5 = {1,2,3,\"hii\",43.20,[10,20]}\n",
    "print(my_set5)"
   ]
  },
  {
   "cell_type": "code",
   "execution_count": 29,
   "id": "ab0eb49f-a5a6-47c3-957c-ac81ac816353",
   "metadata": {},
   "outputs": [
    {
     "ename": "TypeError",
     "evalue": "unhashable type: 'dict'",
     "output_type": "error",
     "traceback": [
      "\u001b[1;31m---------------------------------------------------------------------------\u001b[0m",
      "\u001b[1;31mTypeError\u001b[0m                                 Traceback (most recent call last)",
      "Cell \u001b[1;32mIn[29], line 1\u001b[0m\n\u001b[1;32m----> 1\u001b[0m my_set6 \u001b[38;5;241m=\u001b[39m {\u001b[38;5;241m1\u001b[39m,\u001b[38;5;241m2\u001b[39m,\u001b[38;5;241m3\u001b[39m,\u001b[38;5;124m\"\u001b[39m\u001b[38;5;124mhii\u001b[39m\u001b[38;5;124m\"\u001b[39m,\u001b[38;5;241m43.20\u001b[39m,{\u001b[38;5;124m'\u001b[39m\u001b[38;5;124ma\u001b[39m\u001b[38;5;124m'\u001b[39m:\u001b[38;5;241m10\u001b[39m,\u001b[38;5;124m'\u001b[39m\u001b[38;5;124mb\u001b[39m\u001b[38;5;124m'\u001b[39m:\u001b[38;5;241m20\u001b[39m}}\n\u001b[0;32m      2\u001b[0m \u001b[38;5;28mprint\u001b[39m(my_set6)\n",
      "\u001b[1;31mTypeError\u001b[0m: unhashable type: 'dict'"
     ]
    }
   ],
   "source": [
    "my_set6 = {1,2,3,\"hii\",43.20,{'a':10,'b':20}}\n",
    "print(my_set6)"
   ]
  },
  {
   "cell_type": "code",
   "execution_count": 31,
   "id": "8960c86b-1131-45d1-bdc4-15555f378f84",
   "metadata": {},
   "outputs": [
    {
     "name": "stdout",
     "output_type": "stream",
     "text": [
      "{1, 2, 3, 4, 'hii', 5, 7, 'animel'}\n"
     ]
    }
   ],
   "source": [
    "# Set consider True and 1 as same value, or consider False and 0 as same value\n",
    "\n",
    "a = {\"animel\",\"hii\",1,3,4,5,2,7,True}\n",
    "print(a)"
   ]
  },
  {
   "cell_type": "code",
   "execution_count": 37,
   "id": "696a122b-0468-4a71-9845-1b8c0d4be917",
   "metadata": {},
   "outputs": [
    {
     "name": "stdout",
     "output_type": "stream",
     "text": [
      "{0, 1, 2, 3, 'hii', 4, 5, 7, 'animel'}\n"
     ]
    }
   ],
   "source": [
    "b = {\"animel\",\"hii\",1,3,4,5,2,7,0,True,False}\n",
    "print(b)"
   ]
  },
  {
   "cell_type": "code",
   "execution_count": 39,
   "id": "1414875a-ca24-4865-9b22-5fc99060297a",
   "metadata": {},
   "outputs": [
    {
     "name": "stdout",
     "output_type": "stream",
     "text": [
      "{True, 2, 3, 'hii', 5, 4, 7, 'animel'}\n"
     ]
    }
   ],
   "source": [
    "c = {\"animel\",\"hii\",3,4,5,2,7,True}\n",
    "print(c)"
   ]
  },
  {
   "cell_type": "code",
   "execution_count": 41,
   "id": "4393b0fb-6777-4a2c-842d-ac03b1fbd942",
   "metadata": {},
   "outputs": [
    {
     "name": "stdout",
     "output_type": "stream",
     "text": [
      "{False, 1, 2, 3, 'hii', 4, 5, 7, 'animel'}\n"
     ]
    }
   ],
   "source": [
    "d = {\"animel\",\"hii\",1,3,4,5,2,7,True,False}\n",
    "print(d)"
   ]
  },
  {
   "cell_type": "code",
   "execution_count": 43,
   "id": "07697cc2-6571-4904-825f-46172465e58b",
   "metadata": {},
   "outputs": [
    {
     "ename": "TypeError",
     "evalue": "unhashable type: 'set'",
     "output_type": "error",
     "traceback": [
      "\u001b[1;31m---------------------------------------------------------------------------\u001b[0m",
      "\u001b[1;31mTypeError\u001b[0m                                 Traceback (most recent call last)",
      "Cell \u001b[1;32mIn[43], line 3\u001b[0m\n\u001b[0;32m      1\u001b[0m \u001b[38;5;66;03m# Nested is not a property of the set\u001b[39;00m\n\u001b[1;32m----> 3\u001b[0m e \u001b[38;5;241m=\u001b[39m {{\u001b[38;5;241m10\u001b[39m,\u001b[38;5;241m20\u001b[39m},{\u001b[38;5;241m34\u001b[39m,\u001b[38;5;241m56\u001b[39m}}\n\u001b[0;32m      4\u001b[0m \u001b[38;5;28mprint\u001b[39m(e)\n",
      "\u001b[1;31mTypeError\u001b[0m: unhashable type: 'set'"
     ]
    }
   ],
   "source": [
    "# Nested is not a property of the set\n",
    "\n",
    "e = {{10,20},{34,56}}\n",
    "print(e)"
   ]
  },
  {
   "cell_type": "code",
   "execution_count": 47,
   "id": "09ee35ca-30da-486f-b911-e23ba6b97ce1",
   "metadata": {},
   "outputs": [
    {
     "name": "stdout",
     "output_type": "stream",
     "text": [
      "True\n",
      "False\n"
     ]
    }
   ],
   "source": [
    "# check if item is present in the set or not\n",
    "\n",
    "a = {\"data\",\"bhupendra\",\"python\"}\n",
    "print(\"bhupendra\" in a)\n",
    "\n",
    "b = {\"data\",\"bhupendra\",\"python\"}\n",
    "print(\"hello\" in b)"
   ]
  },
  {
   "cell_type": "code",
   "execution_count": 49,
   "id": "adb85fd3-c4bb-4511-aee7-ed047a38cb55",
   "metadata": {},
   "outputs": [
    {
     "name": "stdout",
     "output_type": "stream",
     "text": [
      "{1, 2, 3, 6.7, 45, 78, 'i', 'hi', 'boy'}\n",
      "9\n"
     ]
    }
   ],
   "source": [
    "# Length Method\n",
    "\n",
    "x = {1,2,3,45,6.7,78,\"hi\",\"i\",\"boy\"}\n",
    "print(x)\n",
    "print(len(x))"
   ]
  },
  {
   "cell_type": "code",
   "execution_count": 51,
   "id": "3bfef2fc-70f8-40c5-90e9-61635083e367",
   "metadata": {},
   "outputs": [
    {
     "name": "stdout",
     "output_type": "stream",
     "text": [
      "{'even', 1, '23', 4, 23, 78}\n"
     ]
    }
   ],
   "source": [
    "# Adding Items in Set \n",
    "# Once a set is created, you cannot change the item but you can add the new item in set.\n",
    "\n",
    "a = {1,4,23,\"even\",\"23\"}\n",
    "a.add(78)\n",
    "print(a)"
   ]
  },
  {
   "cell_type": "code",
   "execution_count": 53,
   "id": "e9c73847-df12-4e1f-a0dc-6dd7f2a7724d",
   "metadata": {},
   "outputs": [
    {
     "name": "stdout",
     "output_type": "stream",
     "text": [
      "{40, 10, 'data', 50, 'python', 20, 'science', 30}\n"
     ]
    }
   ],
   "source": [
    "# Update Method\n",
    "\n",
    "x = {\"data\",\"python\",\"science\"}\n",
    "y = {10,20,30,40,50}\n",
    "x.update(y)\n",
    "print(x)"
   ]
  },
  {
   "cell_type": "code",
   "execution_count": 55,
   "id": "97c67492-f725-4cfb-8756-2b46d7311c62",
   "metadata": {},
   "outputs": [
    {
     "name": "stdout",
     "output_type": "stream",
     "text": [
      "{0.1, 98, 7.89, 10, 79, 17, 'hello', 'a', 'b', 'code'}\n"
     ]
    }
   ],
   "source": [
    "# Remove Items from set\n",
    "# Remove Method\n",
    "\n",
    "n = {17,14,10,\"code\",\"hello\",7.89,00.1,98,79,\"a\",\"b\"}\n",
    "n.remove(14)\n",
    "print(n)"
   ]
  },
  {
   "cell_type": "code",
   "execution_count": 57,
   "id": "cbb238a6-abdb-4adc-badb-2caeb9c6cd74",
   "metadata": {},
   "outputs": [
    {
     "name": "stdout",
     "output_type": "stream",
     "text": [
      "{0.1, 98, 7.89, 10, 14, 79, 17, 'hello', 'a', 'b'}\n"
     ]
    }
   ],
   "source": [
    "n = {17,14,10,\"code\",\"hello\",7.89,00.1,98,79,\"a\",\"b\"}\n",
    "n.remove(\"code\")\n",
    "print(n)"
   ]
  },
  {
   "cell_type": "code",
   "execution_count": 65,
   "id": "4984d763-96bc-4590-b129-c97ae2830cb8",
   "metadata": {},
   "outputs": [
    {
     "name": "stdout",
     "output_type": "stream",
     "text": [
      "{0.1, 98, 7.89, 10, 14, 79, 17, 'hello', 'a', 'b', 'code'}\n",
      "0.1\n",
      "{98, 7.89, 10, 14, 79, 17, 'hello', 'a', 'b', 'code'}\n"
     ]
    }
   ],
   "source": [
    "# Pop Method :- rendamly remove a item from set\n",
    "\n",
    "x = {17,14,10,\"code\",\"hello\",7.89,00.1,98,79,\"a\",\"b\"}\n",
    "print(x)\n",
    "c = x.pop()\n",
    "print(c)\n",
    "print(x)"
   ]
  },
  {
   "cell_type": "code",
   "execution_count": 67,
   "id": "2da5ce93-9216-478f-a473-e62fbd464686",
   "metadata": {},
   "outputs": [
    {
     "name": "stdout",
     "output_type": "stream",
     "text": [
      "set()\n"
     ]
    }
   ],
   "source": [
    "# Clear Method :- Clear all the value from set\n",
    "\n",
    "x = {17,14,10,\"code\",\"hello\",7.89,00.1,98,79,\"a\",\"b\"}\n",
    "x.clear()\n",
    "print(x)"
   ]
  },
  {
   "cell_type": "code",
   "execution_count": 69,
   "id": "a4c9f833-ac18-4830-8d03-1e75fd5697ba",
   "metadata": {},
   "outputs": [
    {
     "ename": "NameError",
     "evalue": "name 'x' is not defined",
     "output_type": "error",
     "traceback": [
      "\u001b[1;31m---------------------------------------------------------------------------\u001b[0m",
      "\u001b[1;31mNameError\u001b[0m                                 Traceback (most recent call last)",
      "Cell \u001b[1;32mIn[69], line 5\u001b[0m\n\u001b[0;32m      3\u001b[0m x \u001b[38;5;241m=\u001b[39m {\u001b[38;5;241m17\u001b[39m,\u001b[38;5;241m14\u001b[39m,\u001b[38;5;241m10\u001b[39m,\u001b[38;5;124m\"\u001b[39m\u001b[38;5;124mcode\u001b[39m\u001b[38;5;124m\"\u001b[39m,\u001b[38;5;124m\"\u001b[39m\u001b[38;5;124mhello\u001b[39m\u001b[38;5;124m\"\u001b[39m,\u001b[38;5;241m7.89\u001b[39m,\u001b[38;5;241m00.1\u001b[39m,\u001b[38;5;241m98\u001b[39m,\u001b[38;5;241m79\u001b[39m,\u001b[38;5;124m\"\u001b[39m\u001b[38;5;124ma\u001b[39m\u001b[38;5;124m\"\u001b[39m,\u001b[38;5;124m\"\u001b[39m\u001b[38;5;124mb\u001b[39m\u001b[38;5;124m\"\u001b[39m}\n\u001b[0;32m      4\u001b[0m \u001b[38;5;28;01mdel\u001b[39;00m x\n\u001b[1;32m----> 5\u001b[0m \u001b[38;5;28mprint\u001b[39m(x)\n",
      "\u001b[1;31mNameError\u001b[0m: name 'x' is not defined"
     ]
    }
   ],
   "source": [
    "# Delete Method :- Delete the whole set\n",
    "\n",
    "x = {17,14,10,\"code\",\"hello\",7.89,00.1,98,79,\"a\",\"b\"}\n",
    "del x\n",
    "print(x)"
   ]
  },
  {
   "cell_type": "code",
   "execution_count": 71,
   "id": "f96040cb-0860-44ef-a969-1089374f8de1",
   "metadata": {},
   "outputs": [
    {
     "name": "stdout",
     "output_type": "stream",
     "text": [
      "{1, 2, 3, 'c', 'a', 'b'}\n"
     ]
    }
   ],
   "source": [
    "# Join Two Sets\n",
    "\n",
    "x = {'a','b','c'}\n",
    "y = {1,2,3}\n",
    "z = x.union(y)\n",
    "print(z)"
   ]
  },
  {
   "cell_type": "code",
   "execution_count": 73,
   "id": "9e6e4d18-9040-429e-916f-ae7e022b2c99",
   "metadata": {},
   "outputs": [
    {
     "name": "stdout",
     "output_type": "stream",
     "text": [
      "The maximum value in this set is\n",
      "9872979\n",
      "The minimum value in this set is\n",
      "0\n"
     ]
    }
   ],
   "source": [
    "# Max() and Min() method\n",
    "\n",
    "set1 = {1,23,46,67,98,999,79798,9872979,26,8932,0,92893}\n",
    "print(\"The maximum value in this set is\")\n",
    "print(max(set1))\n",
    "\n",
    "print(\"The minimum value in this set is\")\n",
    "print(min(set1))"
   ]
  },
  {
   "cell_type": "code",
   "execution_count": null,
   "id": "bf2c20b3-1a22-4f4f-a767-201dbb09575d",
   "metadata": {},
   "outputs": [],
   "source": [
    "#SET OPERATION"
   ]
  },
  {
   "cell_type": "code",
   "execution_count": 77,
   "id": "8daa500a-cab1-4578-b2bc-0d7e761462fb",
   "metadata": {},
   "outputs": [
    {
     "name": "stdout",
     "output_type": "stream",
     "text": [
      "{1, 2, 3, 4, 5, 6}\n"
     ]
    }
   ],
   "source": [
    "# UNION METHOD\n",
    "\n",
    "set1 = {1,2,3}\n",
    "set2 = {4,5,6}\n",
    "union = set1.union(set2)\n",
    "print(union)"
   ]
  },
  {
   "cell_type": "code",
   "execution_count": 79,
   "id": "6b0f167d-f6eb-40f7-ad9b-cb796ed5c32a",
   "metadata": {},
   "outputs": [
    {
     "name": "stdout",
     "output_type": "stream",
     "text": [
      "{53}\n"
     ]
    }
   ],
   "source": [
    "# INTERSECTION METHOD\n",
    "\n",
    "set1 = {52,53,78,98}\n",
    "set2 = {23,53,79,99}\n",
    "inter = set1.intersection(set2)\n",
    "print(inter)"
   ]
  },
  {
   "cell_type": "code",
   "execution_count": 91,
   "id": "afc1bdfd-e296-4866-8ae7-60549d55333b",
   "metadata": {},
   "outputs": [
    {
     "name": "stdout",
     "output_type": "stream",
     "text": [
      "{98, 52, 78}\n",
      "{99, 79, 23}\n"
     ]
    }
   ],
   "source": [
    "# DIFFERENCE METHOD\n",
    "\n",
    "set1 = {52,53,78,98}\n",
    "set2 = {23,53,79,99}\n",
    "diff = set1.difference(set2)\n",
    "diff2 = set2.difference(set1)\n",
    "print(diff)\n",
    "print(diff2)"
   ]
  },
  {
   "cell_type": "code",
   "execution_count": 107,
   "id": "32d8c823-a51a-424d-8778-036bc8dedebf",
   "metadata": {},
   "outputs": [
    {
     "name": "stdout",
     "output_type": "stream",
     "text": [
      "True\n"
     ]
    }
   ],
   "source": [
    "# SUBSET METHOD\n",
    "\n",
    "set1 = {1,2,3,4,5,6,7,8,9}\n",
    "set2 = {2,4,6,8}\n",
    "sub = set2.issubset(set1)\n",
    "print(sub)"
   ]
  },
  {
   "cell_type": "code",
   "execution_count": 109,
   "id": "3c4952d3-a33f-400c-8351-726455aab341",
   "metadata": {},
   "outputs": [
    {
     "name": "stdout",
     "output_type": "stream",
     "text": [
      "False\n"
     ]
    }
   ],
   "source": [
    "set1 = {1,2,3,4,5,6,7,8,9}\n",
    "set2 = {2,4,6,8}\n",
    "sub = set1.issubset(set2)\n",
    "print(sub)"
   ]
  },
  {
   "cell_type": "code",
   "execution_count": 113,
   "id": "a69497b4-b129-437c-8459-db501a0cf8f9",
   "metadata": {},
   "outputs": [
    {
     "name": "stdout",
     "output_type": "stream",
     "text": [
      "True\n"
     ]
    }
   ],
   "source": [
    "# SUPERSET METHOD\n",
    "\n",
    "set1 = {1,2,3,4,5,6,7,8,9}\n",
    "set2 = {2,4,6,8}\n",
    "sub = set1.issuperset(set2)\n",
    "print(sub)"
   ]
  },
  {
   "cell_type": "code",
   "execution_count": 115,
   "id": "4367a7a1-0671-4806-b6d4-91bd131c3a67",
   "metadata": {},
   "outputs": [
    {
     "name": "stdout",
     "output_type": "stream",
     "text": [
      "False\n"
     ]
    }
   ],
   "source": [
    "set1 = {1,2,3,4,5,6,7,8,9}\n",
    "set2 = {2,4,6,8}\n",
    "sub = set2.issuperset(set1)\n",
    "print(sub)"
   ]
  },
  {
   "cell_type": "code",
   "execution_count": 117,
   "id": "497b1c83-0953-4d5e-9577-134361c5617e",
   "metadata": {},
   "outputs": [
    {
     "name": "stdout",
     "output_type": "stream",
     "text": [
      "The students id's of those student who have pass in both math and science:  {104, 105, 103}\n",
      "Total students pass in both maths and science:  3\n",
      "Those students only pass in maths:  {101, 102}\n",
      "Those students only pass in science:  {106, 107}\n",
      "is student pass in maths is a subset of student pass in science:  False\n",
      "is student pass in maths is a superset of student pass in science:  False\n"
     ]
    }
   ],
   "source": [
    "# Define two set\n",
    "student_pass_maths = {101,102,103,104,105}\n",
    "student_pass_science = {103,104,105,106,107}\n",
    "\n",
    "both_pass = student_pass_maths.intersection(student_pass_science)\n",
    "print(\"The students id's of those student who have pass in both math and science: \",both_pass)\n",
    "print(\"Total students pass in both maths and science: \",len(both_pass))\n",
    "\n",
    "only_maths = student_pass_maths.difference(student_pass_science)\n",
    "print(\"Those students only pass in maths: \",only_maths)\n",
    "\n",
    "only_science = student_pass_science.difference(student_pass_maths)\n",
    "print(\"Those students only pass in science: \",only_science)\n",
    "\n",
    "sub = student_pass_maths.issubset(student_pass_science)\n",
    "print(\"is student pass in maths is a subset of student pass in science: \",sub)\n",
    "\n",
    "superset = student_pass_maths.issuperset(student_pass_science)\n",
    "print(\"is student pass in maths is a superset of student pass in science: \",superset)"
   ]
  },
  {
   "cell_type": "markdown",
   "id": "956c41b1-639b-4241-b951-9df7a47e0757",
   "metadata": {
    "jp-MarkdownHeadingCollapsed": true
   },
   "source": [
    "# Dictionary in Python"
   ]
  },
  {
   "cell_type": "code",
   "execution_count": null,
   "id": "f96b32ba-351f-49c8-975f-93eeb1e5c23c",
   "metadata": {},
   "outputs": [],
   "source": [
    "A dictionary in Python is a versatile data structure that stores data in key-value pairs. It allows you to quickly \n",
    "access values using their associated keys. Here's a breakdown of how to work with dictionaries:\n",
    "\n",
    "Creating a Dictionary:\n",
    ". You can create a dictionary using curly braces {} or the dict() constructor.\n",
    ". Inside the curly braces, key-value pairs are separated by commas. Each pair is written as key: value.\n",
    ". Keys must be immutable (e.g., strings, numbers, tuples), and they should be unique within the dictionary.\n",
    "\n",
    "    # Using curly braces\n",
    "    my_dict = {\"name\": \"Alice\", \"age\": 30, \"city\": \"New York\"}\n",
    "\n",
    "    # Using dict() constructor\n",
    "    my_dict = dict(name=\"Alice\", age=30, city=\"New York\")"
   ]
  },
  {
   "cell_type": "code",
   "execution_count": null,
   "id": "b8e81e4d-5064-4777-aed5-09b23d5391b0",
   "metadata": {},
   "outputs": [],
   "source": [
    "Accessing Values:\n",
    ". You can access values using their keys within square brackets [].\n",
    ". If a key is not found, it will raise a KeyError.\n",
    ". To avoid KeyError, you can use the get() method, which returns None if the key is not found or a default value you specify.\n",
    "\n",
    "print(my_dict[\"name\"])  # Output: Alice\n",
    "print(my_dict.get(\"age\"))  # Output: 30\n",
    "print(my_dict.get(\"country\", \"Unknown\"))  # Output: Unknown\n",
    "\n",
    "Use Cases:\n",
    "1. Storing and managing data with labels (e.g., user profiles, product information).\n",
    "2. Counting frequencies of items (e.g., word counts in a text).\n",
    "3. Implementing lookup tables and mappings.\n",
    "4. Representing complex data structures.\n",
    "5. Flexible key types: While keys in dictionaries must be unique, they can be of variable data types, includes strings, floats, and\n",
    "                        tuples(if they contain only hashable objects)."
   ]
  },
  {
   "cell_type": "code",
   "execution_count": null,
   "id": "4439a2de-b97b-4d07-840e-e33ff1db8aa0",
   "metadata": {},
   "outputs": [],
   "source": [
    "Dictionary Methods:\n",
    "1. keys(): Returns a view object that displays a list of all the keys in the dictionary.\n",
    "2. values(): Returns a view object that displays a list of all the values in the dictionary.\n",
    "3. items(): Returns a view object that displays a list of a dictionary's key-value tuple pairs.\n",
    "4. update(): Updates the dictionary with the key-value pairs from another dictionary or iterable.\n",
    "5. pop(): Removes and returns the value associated with the specified key.\n",
    "6. clear(): Removes all items from the dictionary."
   ]
  },
  {
   "cell_type": "code",
   "execution_count": 120,
   "id": "c90cbb9c-95ca-4c3a-aa20-6ba6f10d7546",
   "metadata": {},
   "outputs": [
    {
     "name": "stdout",
     "output_type": "stream",
     "text": [
      "{'name': 'Bhupendra', 'age': 30, 'city': 'jaipur'}\n",
      "<class 'dict'>\n"
     ]
    }
   ],
   "source": [
    "# creating dictionary\n",
    "\n",
    "person = {'name':'Bhupendra','age':30,'city':'jaipur'}\n",
    "print(person)\n",
    "print(type(person))"
   ]
  },
  {
   "cell_type": "code",
   "execution_count": 126,
   "id": "d985cde6-6c88-4abe-9c26-de8adc2263c1",
   "metadata": {},
   "outputs": [
    {
     "name": "stdout",
     "output_type": "stream",
     "text": [
      "{'name': 'Bob', 'age': 40, 'student': True, 'courses': ['datascience', 'python', 'machine learning'], 'address': {'street': '123 main st', 'city': 'jaipur', 'zipcode': 12345}}\n",
      "<class 'dict'>\n"
     ]
    }
   ],
   "source": [
    "# mixed dictionary\n",
    "\n",
    "mixed_dict = {'name':'Bob','age':40,'student':True,\n",
    "             'courses':['datascience','python','machine learning'],\n",
    "             'address':{'street':'123 main st','city':'jaipur','zipcode':12345}\n",
    "             }\n",
    "\n",
    "print(mixed_dict)\n",
    "print(type(mixed_dict))"
   ]
  },
  {
   "cell_type": "code",
   "execution_count": 128,
   "id": "c550d240-6d5f-427a-91b2-baa6f206315a",
   "metadata": {},
   "outputs": [
    {
     "name": "stdout",
     "output_type": "stream",
     "text": [
      "{}\n",
      "<class 'dict'>\n"
     ]
    }
   ],
   "source": [
    "# empty dictionary\n",
    "\n",
    "empty1 = {}\n",
    "print(empty1)\n",
    "print(type(empty1))"
   ]
  },
  {
   "cell_type": "code",
   "execution_count": 130,
   "id": "316979c7-fb57-44f7-a915-a510397edae7",
   "metadata": {},
   "outputs": [
    {
     "name": "stdout",
     "output_type": "stream",
     "text": [
      "{'name': 'rahul', 'age': 30, 'city': 'jaipur'}\n",
      "<class 'dict'>\n"
     ]
    }
   ],
   "source": [
    "# Using dict() constructor\n",
    "\n",
    "person = dict(name='rahul',age=30,city='jaipur')\n",
    "print(person)\n",
    "print(type(person))"
   ]
  },
  {
   "cell_type": "code",
   "execution_count": 132,
   "id": "9f6e4931-3b54-469a-a1cd-56c592c87828",
   "metadata": {},
   "outputs": [
    {
     "name": "stdout",
     "output_type": "stream",
     "text": [
      "{0: 0, 1: 1, 2: 4, 3: 9, 4: 16, 5: 25}\n"
     ]
    }
   ],
   "source": [
    "# Dictionary Comprehension\n",
    "\n",
    "square = {x: x*x for x in range(6)}\n",
    "print(square)"
   ]
  },
  {
   "cell_type": "code",
   "execution_count": null,
   "id": "b28b3244-d602-40f8-8c68-c8f7aa1df6f3",
   "metadata": {},
   "outputs": [],
   "source": [
    "# Characterstics of Dictionary"
   ]
  },
  {
   "cell_type": "code",
   "execution_count": 134,
   "id": "479d9489-8ee1-4ddf-acd6-b4dc1417de72",
   "metadata": {},
   "outputs": [
    {
     "name": "stdout",
     "output_type": "stream",
     "text": [
      "{'name': 'rahul', 'age': 30, 'city': 'jaipur'}\n",
      "rahul\n"
     ]
    }
   ],
   "source": [
    "# 1) Accessing values using keys\n",
    "\n",
    "person = dict(name='rahul',age=30,city='jaipur')\n",
    "print(person)\n",
    "print(person['name'])"
   ]
  },
  {
   "cell_type": "code",
   "execution_count": 136,
   "id": "bd1cf6db-a3e1-466f-9d84-a6403ac69bd0",
   "metadata": {},
   "outputs": [
    {
     "name": "stdout",
     "output_type": "stream",
     "text": [
      "{'name': 'Bhupendra', 'age': 30, 'city': 'jaipur'}\n",
      "30\n"
     ]
    }
   ],
   "source": [
    "person = {'name':'Bhupendra','age':30,'city':'jaipur'}\n",
    "print(person)\n",
    "print(person['age'])"
   ]
  },
  {
   "cell_type": "code",
   "execution_count": 138,
   "id": "654c13e1-cab0-40f1-bfbd-6969b0c33d7b",
   "metadata": {},
   "outputs": [
    {
     "name": "stdout",
     "output_type": "stream",
     "text": [
      "{'name': 'Bhupendra', 'age': 30, 'city': 'jaipur'}\n"
     ]
    }
   ],
   "source": [
    "# 2) Ordered key value\n",
    "\n",
    "person = {'name':'Bhupendra','age':30,'city':'jaipur'}\n",
    "print(person)"
   ]
  },
  {
   "cell_type": "code",
   "execution_count": 140,
   "id": "6fe2d0d6-ee2c-4984-bc25-f6087fb4f39e",
   "metadata": {},
   "outputs": [
    {
     "name": "stdout",
     "output_type": "stream",
     "text": [
      "{'name': 'Rahul', 'age': 30}\n"
     ]
    }
   ],
   "source": [
    "# 3) Flexible key types\n",
    "\n",
    "person = {'name':'Bhupendra',\n",
    "          'age':30,\n",
    "          'name':'Rahul'}\n",
    "print(person)"
   ]
  },
  {
   "cell_type": "code",
   "execution_count": 142,
   "id": "af7ee862-ce29-4aab-8193-8e630ddb4ac1",
   "metadata": {},
   "outputs": [
    {
     "name": "stdout",
     "output_type": "stream",
     "text": [
      "{'name': 'Bhupendra', 'age': 30, 'name2': 'Rahul'}\n"
     ]
    }
   ],
   "source": [
    "person = {'name':'Bhupendra',\n",
    "          'age':30,\n",
    "          'name2':'Rahul'}\n",
    "print(person)"
   ]
  },
  {
   "cell_type": "code",
   "execution_count": 144,
   "id": "9a28befc-c2a8-4564-be48-8f3c2804e60b",
   "metadata": {},
   "outputs": [
    {
     "name": "stdout",
     "output_type": "stream",
     "text": [
      "{'name': 'john', 123: 'integer key', (1, 2): 'tuple key', 2.3: 'float key'}\n"
     ]
    }
   ],
   "source": [
    "data = {'name':'john',\n",
    "        123:'integer key',\n",
    "        (1,2):'tuple key',\n",
    "        2.3:'float key'\n",
    "       }\n",
    "print(data)"
   ]
  },
  {
   "cell_type": "code",
   "execution_count": 146,
   "id": "adbce39e-c0ef-445f-b379-e711a0f3eeb9",
   "metadata": {},
   "outputs": [
    {
     "ename": "TypeError",
     "evalue": "unhashable type: 'list'",
     "output_type": "error",
     "traceback": [
      "\u001b[1;31m---------------------------------------------------------------------------\u001b[0m",
      "\u001b[1;31mTypeError\u001b[0m                                 Traceback (most recent call last)",
      "Cell \u001b[1;32mIn[146], line 1\u001b[0m\n\u001b[1;32m----> 1\u001b[0m data \u001b[38;5;241m=\u001b[39m {\u001b[38;5;124m'\u001b[39m\u001b[38;5;124mname\u001b[39m\u001b[38;5;124m'\u001b[39m:\u001b[38;5;124m'\u001b[39m\u001b[38;5;124mjohn\u001b[39m\u001b[38;5;124m'\u001b[39m,\n\u001b[0;32m      2\u001b[0m         \u001b[38;5;241m123\u001b[39m:\u001b[38;5;124m'\u001b[39m\u001b[38;5;124minteger key\u001b[39m\u001b[38;5;124m'\u001b[39m,\n\u001b[0;32m      3\u001b[0m         (\u001b[38;5;241m1\u001b[39m,\u001b[38;5;241m2\u001b[39m):\u001b[38;5;124m'\u001b[39m\u001b[38;5;124mtuple key\u001b[39m\u001b[38;5;124m'\u001b[39m,\n\u001b[0;32m      4\u001b[0m         \u001b[38;5;241m2.3\u001b[39m:\u001b[38;5;124m'\u001b[39m\u001b[38;5;124mfloat key\u001b[39m\u001b[38;5;124m'\u001b[39m,\n\u001b[0;32m      5\u001b[0m         [\u001b[38;5;241m1\u001b[39m,\u001b[38;5;241m2\u001b[39m,\u001b[38;5;241m3\u001b[39m]:\u001b[38;5;124m'\u001b[39m\u001b[38;5;124mlist key\u001b[39m\u001b[38;5;124m'\u001b[39m\n\u001b[0;32m      6\u001b[0m        }\n\u001b[0;32m      7\u001b[0m \u001b[38;5;28mprint\u001b[39m(data)\n",
      "\u001b[1;31mTypeError\u001b[0m: unhashable type: 'list'"
     ]
    }
   ],
   "source": [
    "data = {'name':'john',\n",
    "        123:'integer key',\n",
    "        (1,2):'tuple key',\n",
    "        2.3:'float key',\n",
    "        [1,2,3]:'list key'\n",
    "       }\n",
    "print(data)"
   ]
  },
  {
   "cell_type": "code",
   "execution_count": 148,
   "id": "9ff47500-9478-4bc0-bee5-1ba3d370641d",
   "metadata": {},
   "outputs": [
    {
     "ename": "TypeError",
     "evalue": "unhashable type: 'dict'",
     "output_type": "error",
     "traceback": [
      "\u001b[1;31m---------------------------------------------------------------------------\u001b[0m",
      "\u001b[1;31mTypeError\u001b[0m                                 Traceback (most recent call last)",
      "Cell \u001b[1;32mIn[148], line 1\u001b[0m\n\u001b[1;32m----> 1\u001b[0m data \u001b[38;5;241m=\u001b[39m {\u001b[38;5;124m'\u001b[39m\u001b[38;5;124mname\u001b[39m\u001b[38;5;124m'\u001b[39m:\u001b[38;5;124m'\u001b[39m\u001b[38;5;124mjohn\u001b[39m\u001b[38;5;124m'\u001b[39m,\n\u001b[0;32m      2\u001b[0m         \u001b[38;5;241m123\u001b[39m:\u001b[38;5;124m'\u001b[39m\u001b[38;5;124minteger key\u001b[39m\u001b[38;5;124m'\u001b[39m,\n\u001b[0;32m      3\u001b[0m         (\u001b[38;5;241m1\u001b[39m,\u001b[38;5;241m2\u001b[39m):\u001b[38;5;124m'\u001b[39m\u001b[38;5;124mtuple key\u001b[39m\u001b[38;5;124m'\u001b[39m,\n\u001b[0;32m      4\u001b[0m         \u001b[38;5;241m2.3\u001b[39m:\u001b[38;5;124m'\u001b[39m\u001b[38;5;124mfloat key\u001b[39m\u001b[38;5;124m'\u001b[39m,\n\u001b[0;32m      5\u001b[0m         {\u001b[38;5;124m'\u001b[39m\u001b[38;5;124mage\u001b[39m\u001b[38;5;124m'\u001b[39m:\u001b[38;5;241m34\u001b[39m}:\u001b[38;5;124m'\u001b[39m\u001b[38;5;124mdictionary key\u001b[39m\u001b[38;5;124m'\u001b[39m\n\u001b[0;32m      6\u001b[0m        }\n\u001b[0;32m      7\u001b[0m \u001b[38;5;28mprint\u001b[39m(data)\n",
      "\u001b[1;31mTypeError\u001b[0m: unhashable type: 'dict'"
     ]
    }
   ],
   "source": [
    "data = {'name':'john',\n",
    "        123:'integer key',\n",
    "        (1,2):'tuple key',\n",
    "        2.3:'float key',\n",
    "        {'age':34}:'dictionary key'\n",
    "       }\n",
    "print(data)"
   ]
  },
  {
   "cell_type": "code",
   "execution_count": 150,
   "id": "ad3ec616-6966-4195-9cb2-54cdefb846cb",
   "metadata": {},
   "outputs": [
    {
     "name": "stdout",
     "output_type": "stream",
     "text": [
      "{'Id': '12345Q', 'color': 'red', 'year': 2025}\n"
     ]
    }
   ],
   "source": [
    "# 4) Duplicates not allow\n",
    "\n",
    "dict1 = {'Id':'12345Q',\n",
    "         'color':'red',\n",
    "         'year':2024,\n",
    "         'year':2025\n",
    "        }\n",
    "print(dict1)"
   ]
  },
  {
   "cell_type": "code",
   "execution_count": 156,
   "id": "0f67de79-a78f-45f5-8c59-73e0bb20f703",
   "metadata": {},
   "outputs": [
    {
     "name": "stdout",
     "output_type": "stream",
     "text": [
      "True\n",
      "False\n",
      "False\n"
     ]
    }
   ],
   "source": [
    "# MEMBERSHIP TESTING :- only on keys\n",
    "\n",
    "person = {'name':'Bhupendra',\n",
    "          'age':30,\n",
    "          'name2':'Rahul'}\n",
    "print('name' in person)\n",
    "print('email' in person)\n",
    "\n",
    "print(30 in person)"
   ]
  },
  {
   "cell_type": "code",
   "execution_count": 158,
   "id": "8ebb2fcd-8386-4f9e-9e2b-0f044c31ab9c",
   "metadata": {},
   "outputs": [
    {
     "name": "stdout",
     "output_type": "stream",
     "text": [
      "{'emp1': {'name': 'Bhupendra', 'age': 30}, 'emp2': {'name': 'Rahul', 'age': 21}}\n"
     ]
    }
   ],
   "source": [
    "# NESTED DICTIONARY\n",
    "\n",
    "employ = {'emp1':{'name':'Bhupendra',\n",
    "                  'age':30},\n",
    "          'emp2':{'name':'Rahul',\n",
    "                  'age':21}\n",
    "         }\n",
    "print(employ)"
   ]
  },
  {
   "cell_type": "code",
   "execution_count": 160,
   "id": "bafe64ef-0150-4f74-87b4-638bd61bf471",
   "metadata": {},
   "outputs": [
    {
     "name": "stdout",
     "output_type": "stream",
     "text": [
      "{'name': 'Bhupendra', 'age': 30}\n"
     ]
    }
   ],
   "source": [
    "employ = {'emp1':{'name':'Bhupendra',\n",
    "                  'age':30},\n",
    "          'emp2':{'name':'Rahul',\n",
    "                  'age':21}\n",
    "         }\n",
    "print(employ['emp1'])"
   ]
  },
  {
   "cell_type": "code",
   "execution_count": 164,
   "id": "4cb57462-1b26-499f-8627-bd620b8a39be",
   "metadata": {},
   "outputs": [
    {
     "name": "stdout",
     "output_type": "stream",
     "text": [
      "Bhupendra\n",
      "Rahul\n"
     ]
    }
   ],
   "source": [
    "employ = {'emp1':{'name':'Bhupendra',\n",
    "                  'age':30},\n",
    "          'emp2':{'name':'Rahul',\n",
    "                  'age':21}\n",
    "         }\n",
    "print(employ['emp1']['name'])\n",
    "print(employ['emp2']['name'])"
   ]
  },
  {
   "cell_type": "code",
   "execution_count": null,
   "id": "64291787-52b1-465d-b78a-b5a7a7e50987",
   "metadata": {},
   "outputs": [],
   "source": [
    "# DICTIONARY METHODS"
   ]
  },
  {
   "cell_type": "code",
   "execution_count": 2,
   "id": "2e5068c1-e7e1-4854-9180-9a366ba0c1f9",
   "metadata": {},
   "outputs": [
    {
     "name": "stdout",
     "output_type": "stream",
     "text": [
      "{'ID': 1234, 'color': 'Red', 'Year': 2004}\n",
      "3\n"
     ]
    }
   ],
   "source": [
    "# Length Method\n",
    "\n",
    "dict = {\"ID\":1234,\"color\":\"Red\",\"Year\":2004}\n",
    "print(dict)\n",
    "print(len(dict))"
   ]
  },
  {
   "cell_type": "code",
   "execution_count": 6,
   "id": "55ef5d91-32c5-4d6f-9e29-64362d4a2795",
   "metadata": {},
   "outputs": [
    {
     "name": "stdout",
     "output_type": "stream",
     "text": [
      "dict_keys(['name', 'age', 'country'])\n"
     ]
    }
   ],
   "source": [
    "# Get Keys Method :- only provide key of the dictionary \n",
    "\n",
    "a = { \"name\":\"Rahul\",\"age\":21,\"country\":\"India\"}\n",
    "x = a.keys()\n",
    "print(x)"
   ]
  },
  {
   "cell_type": "code",
   "execution_count": 8,
   "id": "5dd020a8-dadc-4fcb-88c6-d883fa95593e",
   "metadata": {},
   "outputs": [
    {
     "name": "stdout",
     "output_type": "stream",
     "text": [
      "dict_values(['Rahul', 21, 'India'])\n"
     ]
    }
   ],
   "source": [
    "# Get Values Method :- only provide values of keys from dictionary\n",
    "\n",
    "a = { \"name\":\"Rahul\",\"age\":21,\"country\":\"India\"}\n",
    "y = a.values()\n",
    "print(y)"
   ]
  },
  {
   "cell_type": "code",
   "execution_count": 16,
   "id": "4a225e7b-c148-4190-8ee0-5a468f33ae9a",
   "metadata": {},
   "outputs": [
    {
     "name": "stdout",
     "output_type": "stream",
     "text": [
      "{'Name': 'Alice', 'Age': 32, 'Country': 'India', 'Gender': 'Male'}\n",
      "After update the dictionary {'Name': 'Alice', 'Age': 32, 'Country': 'India', 'Gender': 'Male', 'Phone number': 9999999999, 'email id': 'alice123@gmail.com'}\n"
     ]
    }
   ],
   "source": [
    "# Update Method\n",
    "\n",
    "person = {\"Name\":\"Alice\",\n",
    "          \"Age\":32,\n",
    "         \"Country\":\"India\",\n",
    "         \"Gender\":\"Male\"}\n",
    "print(person)\n",
    "\n",
    "person.update({\"Phone number\":9999999999,\"email id\":\"alice123@gmail.com\"})\n",
    "print(\"After update the dictionary\",person)"
   ]
  },
  {
   "cell_type": "code",
   "execution_count": 10,
   "id": "0ef3b2cf-8fab-43a3-98fa-d281c74a2f78",
   "metadata": {},
   "outputs": [
    {
     "name": "stdout",
     "output_type": "stream",
     "text": [
      "{'name': 'Rahul', 'age': 21, 'country': 'India'}\n",
      "After changing the value of country {'name': 'Rahul', 'age': 21, 'country': 'Bharat'}\n"
     ]
    }
   ],
   "source": [
    "# CHANGE VALUES\n",
    "\n",
    "a = { \"name\":\"Rahul\",\n",
    "     \"age\":21,\n",
    "     \"country\":\"India\"}\n",
    "print(a)\n",
    "a[\"country\"] = \"Bharat\"\n",
    "print(\"After changing the value of country\",a)"
   ]
  },
  {
   "cell_type": "code",
   "execution_count": 12,
   "id": "5af2ab96-9d11-42be-be72-e94c3c76a3f4",
   "metadata": {},
   "outputs": [
    {
     "name": "stdout",
     "output_type": "stream",
     "text": [
      "{'Name': 'Alice', 'Age': 32}\n",
      "After add key values pairs {'Name': 'Alice', 'Age': 32, 'City': 'New Delhi', 'email id': 'alice123@gmail.com'}\n"
     ]
    }
   ],
   "source": [
    "# ADDING ITEMS IN DICTIONARY\n",
    "\n",
    "person = {\"Name\":\"Alice\",\n",
    "          \"Age\":32}\n",
    "print(person)\n",
    "\n",
    "person[\"City\"] = \"New Delhi\"\n",
    "person[\"email id\"] = \"alice123@gmail.com\"\n",
    "print(\"After add key values pairs\",person)"
   ]
  },
  {
   "cell_type": "code",
   "execution_count": 18,
   "id": "9df47ca2-7d53-4b0d-acc7-0f5fe4a417ce",
   "metadata": {},
   "outputs": [
    {
     "name": "stdout",
     "output_type": "stream",
     "text": [
      "{'Name': 'Alice', 'Country': 'India', 'Gender': 'Male', 'Phone number': 9999999999, 'email id': 'alice123@gmail.com'}\n"
     ]
    }
   ],
   "source": [
    "# REMOVE ITEMS FROM DICTIONARY (Pop Method)\n",
    "\n",
    "A = {'Name': 'Alice', \n",
    "     'Age': 32, \n",
    "     'Country': 'India', \n",
    "     'Gender': 'Male', \n",
    "     'Phone number': 9999999999, \n",
    "     'email id': 'alice123@gmail.com'}\n",
    "A.pop(\"Age\")\n",
    "print(A)"
   ]
  },
  {
   "cell_type": "code",
   "execution_count": 20,
   "id": "81b58644-8a79-4d7a-843b-5dc1367ca629",
   "metadata": {},
   "outputs": [
    {
     "name": "stdout",
     "output_type": "stream",
     "text": [
      "{'Name': 'Alice', 'Country': 'India', 'Gender': 'Male', 'Phone number': 9999999999, 'email id': 'alice123@gmail.com'}\n"
     ]
    }
   ],
   "source": [
    "# DELETE METHOD\n",
    "\n",
    "person = {'Name': 'Alice', \n",
    "     'Age': 32, \n",
    "     'Country': 'India', \n",
    "     'Gender': 'Male', \n",
    "     'Phone number': 9999999999, \n",
    "     'email id': 'alice123@gmail.com'}\n",
    "del person[\"Age\"]\n",
    "print(person)"
   ]
  },
  {
   "cell_type": "code",
   "execution_count": 22,
   "id": "851b21f7-dda1-426e-b4da-3786838e130b",
   "metadata": {},
   "outputs": [
    {
     "name": "stdout",
     "output_type": "stream",
     "text": [
      "{'Name': 'Alice', 'Country': 'India', 'Phone number': 9999999999, 'email id': 'alice123@gmail.com'}\n"
     ]
    }
   ],
   "source": [
    "person = {'Name': 'Alice', \n",
    "     'Age': 32, \n",
    "     'Country': 'India', \n",
    "     'Gender': 'Male', \n",
    "     'Phone number': 9999999999, \n",
    "     'email id': 'alice123@gmail.com'}\n",
    "del person[\"Age\"],person[\"Gender\"]\n",
    "print(person)"
   ]
  },
  {
   "cell_type": "code",
   "execution_count": 24,
   "id": "63bac7e9-ffd5-494a-92bc-93168c0afb18",
   "metadata": {},
   "outputs": [
    {
     "ename": "NameError",
     "evalue": "name 'person' is not defined",
     "output_type": "error",
     "traceback": [
      "\u001b[1;31m---------------------------------------------------------------------------\u001b[0m",
      "\u001b[1;31mNameError\u001b[0m                                 Traceback (most recent call last)",
      "Cell \u001b[1;32mIn[24], line 8\u001b[0m\n\u001b[0;32m      1\u001b[0m person \u001b[38;5;241m=\u001b[39m {\u001b[38;5;124m'\u001b[39m\u001b[38;5;124mName\u001b[39m\u001b[38;5;124m'\u001b[39m: \u001b[38;5;124m'\u001b[39m\u001b[38;5;124mAlice\u001b[39m\u001b[38;5;124m'\u001b[39m, \n\u001b[0;32m      2\u001b[0m      \u001b[38;5;124m'\u001b[39m\u001b[38;5;124mAge\u001b[39m\u001b[38;5;124m'\u001b[39m: \u001b[38;5;241m32\u001b[39m, \n\u001b[0;32m      3\u001b[0m      \u001b[38;5;124m'\u001b[39m\u001b[38;5;124mCountry\u001b[39m\u001b[38;5;124m'\u001b[39m: \u001b[38;5;124m'\u001b[39m\u001b[38;5;124mIndia\u001b[39m\u001b[38;5;124m'\u001b[39m, \n\u001b[0;32m      4\u001b[0m      \u001b[38;5;124m'\u001b[39m\u001b[38;5;124mGender\u001b[39m\u001b[38;5;124m'\u001b[39m: \u001b[38;5;124m'\u001b[39m\u001b[38;5;124mMale\u001b[39m\u001b[38;5;124m'\u001b[39m, \n\u001b[0;32m      5\u001b[0m      \u001b[38;5;124m'\u001b[39m\u001b[38;5;124mPhone number\u001b[39m\u001b[38;5;124m'\u001b[39m: \u001b[38;5;241m9999999999\u001b[39m, \n\u001b[0;32m      6\u001b[0m      \u001b[38;5;124m'\u001b[39m\u001b[38;5;124memail id\u001b[39m\u001b[38;5;124m'\u001b[39m: \u001b[38;5;124m'\u001b[39m\u001b[38;5;124malice123@gmail.com\u001b[39m\u001b[38;5;124m'\u001b[39m}\n\u001b[0;32m      7\u001b[0m \u001b[38;5;28;01mdel\u001b[39;00m person\n\u001b[1;32m----> 8\u001b[0m \u001b[38;5;28mprint\u001b[39m(person)\n",
      "\u001b[1;31mNameError\u001b[0m: name 'person' is not defined"
     ]
    }
   ],
   "source": [
    "person = {'Name': 'Alice', \n",
    "     'Age': 32, \n",
    "     'Country': 'India', \n",
    "     'Gender': 'Male', \n",
    "     'Phone number': 9999999999, \n",
    "     'email id': 'alice123@gmail.com'}\n",
    "del person                        # delete whole dictionary\n",
    "print(person)"
   ]
  },
  {
   "cell_type": "code",
   "execution_count": 26,
   "id": "3a4ad261-95f8-490b-9728-80149c33a596",
   "metadata": {},
   "outputs": [
    {
     "name": "stdout",
     "output_type": "stream",
     "text": [
      "{'Name': 'Alice', 'Age': 32, 'Country': 'India', 'Gender': 'Male', 'Phone number': 9999999999, 'email id': 'alice123@gmail.com'}\n",
      "{}\n"
     ]
    }
   ],
   "source": [
    "# CLEAR METHOD\n",
    "\n",
    "person = {'Name': 'Alice', \n",
    "     'Age': 32, \n",
    "     'Country': 'India', \n",
    "     'Gender': 'Male', \n",
    "     'Phone number': 9999999999, \n",
    "     'email id': 'alice123@gmail.com'}\n",
    "print(person)\n",
    "\n",
    "person.clear()\n",
    "print(person)"
   ]
  },
  {
   "cell_type": "markdown",
   "id": "bc8e9c2f-b4d7-4125-a79d-6bc8edfff956",
   "metadata": {
    "jp-MarkdownHeadingCollapsed": true
   },
   "source": [
    "# Prectice Question of Dictionary"
   ]
  },
  {
   "cell_type": "code",
   "execution_count": null,
   "id": "bf190ce7-224b-4a2c-bc61-283262a34748",
   "metadata": {},
   "outputs": [],
   "source": [
    "# Question 1\n",
    "\n",
    "\"\"\" Write a python script to concatenate the following dictionaries to create a new one. \"\"\""
   ]
  },
  {
   "cell_type": "code",
   "execution_count": 37,
   "id": "b3461481-9fa4-429c-ace8-c5f0f0eeb8e2",
   "metadata": {},
   "outputs": [
    {
     "name": "stdout",
     "output_type": "stream",
     "text": [
      "The dictionary is:  {1: 10, 2: 20, 3: 30, 4: 40, 5: 50, 6: 60}\n"
     ]
    }
   ],
   "source": [
    "dic1 = {1:10,2:20}\n",
    "dic2 = {3:30,4:40}\n",
    "dic3 = {5:50,6:60}\n",
    "dic4 = {}\n",
    "\n",
    "for d in (dic1,dic2,dic3):\n",
    "    dic4.update(d)\n",
    "\n",
    "print(\"The dictionary is: \",dic4)"
   ]
  },
  {
   "cell_type": "code",
   "execution_count": null,
   "id": "996279f3-d71a-469a-8a58-5063bd6b1aa0",
   "metadata": {},
   "outputs": [],
   "source": [
    "# Question 2\n",
    "\n",
    "\"\"\" Print a dictionary where the keys are the number between 1 to 15 and the values are square of keys. \"\"\""
   ]
  },
  {
   "cell_type": "code",
   "execution_count": 35,
   "id": "eb3e7f9b-4240-4c3a-a144-b2a905142353",
   "metadata": {},
   "outputs": [
    {
     "name": "stdout",
     "output_type": "stream",
     "text": [
      "The dictionary is:  {1: 1, 2: 4, 3: 9, 4: 16, 5: 25, 6: 36, 7: 49, 8: 64, 9: 81, 10: 100, 11: 121, 12: 144, 13: 169, 14: 196, 15: 225}\n"
     ]
    }
   ],
   "source": [
    "square = {}\n",
    "for num in range(1,16):\n",
    "    square[num] = num**2\n",
    "print(\"The dictionary is: \",square)"
   ]
  },
  {
   "cell_type": "code",
   "execution_count": 39,
   "id": "cac569be-863f-4d77-a76e-5254b85462d4",
   "metadata": {},
   "outputs": [
    {
     "name": "stdout",
     "output_type": "stream",
     "text": [
      "The dictionary is:  {1: 1, 2: 4, 3: 9, 4: 16, 5: 25, 6: 36, 7: 49, 8: 64, 9: 81, 10: 100, 11: 121, 12: 144, 13: 169, 14: 196, 15: 225, 16: 256, 17: 289, 18: 324, 19: 361, 20: 400, 21: 441, 22: 484, 23: 529, 24: 576, 25: 625, 26: 676, 27: 729, 28: 784, 29: 841, 30: 900, 31: 961, 32: 1024, 33: 1089, 34: 1156, 35: 1225, 36: 1296, 37: 1369, 38: 1444, 39: 1521, 40: 1600, 41: 1681, 42: 1764, 43: 1849, 44: 1936, 45: 2025, 46: 2116, 47: 2209, 48: 2304, 49: 2401, 50: 2500, 51: 2601, 52: 2704, 53: 2809, 54: 2916, 55: 3025, 56: 3136, 57: 3249, 58: 3364, 59: 3481, 60: 3600, 61: 3721, 62: 3844, 63: 3969, 64: 4096, 65: 4225, 66: 4356, 67: 4489, 68: 4624, 69: 4761, 70: 4900, 71: 5041, 72: 5184, 73: 5329, 74: 5476, 75: 5625, 76: 5776, 77: 5929, 78: 6084, 79: 6241, 80: 6400, 81: 6561, 82: 6724, 83: 6889, 84: 7056, 85: 7225, 86: 7396, 87: 7569, 88: 7744, 89: 7921, 90: 8100, 91: 8281, 92: 8464, 93: 8649, 94: 8836, 95: 9025, 96: 9216, 97: 9409, 98: 9604, 99: 9801, 100: 10000}\n"
     ]
    }
   ],
   "source": [
    "square = {}\n",
    "for num in range(1,101):\n",
    "    square[num] = num**2\n",
    "print(\"The dictionary is: \",square)"
   ]
  },
  {
   "cell_type": "code",
   "execution_count": null,
   "id": "dd451fe0-fb59-4815-9cf8-3c66a4ed44bc",
   "metadata": {},
   "outputs": [],
   "source": [
    "# Question 3\n",
    "\n",
    "\"\"\" Check whether a given key already exists in a dictionary. \"\"\""
   ]
  },
  {
   "cell_type": "code",
   "execution_count": 45,
   "id": "1e087017-bce1-4bdd-845e-58d9236686bd",
   "metadata": {},
   "outputs": [
    {
     "name": "stdout",
     "output_type": "stream",
     "text": [
      "Key is present in the dictionary.\n"
     ]
    }
   ],
   "source": [
    "d = {1:10,2:20,3:30,4:40,5:50,6:60}\n",
    "\n",
    "def key_present(x):\n",
    "    if x in d:\n",
    "        print(\"Key is present in the dictionary.\")\n",
    "    else:\n",
    "        print(\"Key is not present in the dictionary.\")\n",
    "\n",
    "key_present(2)"
   ]
  },
  {
   "cell_type": "markdown",
   "id": "c508892c-f863-4c3d-a6f6-6e0fa866aa77",
   "metadata": {
    "jp-MarkdownHeadingCollapsed": true
   },
   "source": [
    "# OOPS in Python"
   ]
  },
  {
   "cell_type": "code",
   "execution_count": null,
   "id": "c61dc238-30d4-4938-bfea-3a693d4b6772",
   "metadata": {},
   "outputs": [],
   "source": [
    "# programming paradigm\n",
    "\n",
    "A programming paradigm is a fundamental style of computer programming. \n",
    "Its a way of thinking about and structuring the solution to a problem using a programming language.\n",
    "Different paradigms offer distinct approaches to organizing code, defining program execution, and structuring data. \n",
    "\n",
    "A programming paradigm is a relatively high-level way to conceptualize and structure the implementation of a computer program.\n",
    "A programming language can be classified as supporting one or more paradigms. \n",
    "Paradigms are separated along and described by different dimensions of programming.\n",
    "\n",
    "Examples of Programming Paradigms: \n",
    "1) Imperative Programming:- Focuses on how to achieve a result by providing a sequence of commands for the computer to execute. \n",
    "2) Declarative Programming:- Focuses on what result is desired, rather than specifying the steps to achieve it. \n",
    "3) Object-Oriented Programming (OOP):- Structures code around \"objects\" that contain data and methods to operate on that data. \n",
    "4) Functional Programming:- Treats computation as the evaluation of mathematical functions and avoids changing state or mutable data. \n",
    "5) Procedural Programming:- Breaks down code into procedures (functions) that perform specific tasks in a sequential manner. "
   ]
  },
  {
   "cell_type": "code",
   "execution_count": null,
   "id": "45c51159-4934-4525-a323-8287072838c8",
   "metadata": {},
   "outputs": [],
   "source": [
    "# Object-oriented programming (OOP) \n",
    "\n",
    "Object-oriented programming (OOP) is a programming paradigm that structures code around objects, \n",
    "which are instances of classes that encapsulate data (attributes) and methods (functions) that operate on that data.\n",
    "Its a way to organize software design by modeling real-world entities and their interactions. \n",
    "\n",
    "Key Concepts in OOP:\n",
    "1) Objects:- These are instances of classes, representing specific entities with their own attributes and behaviors. \n",
    "             For example, in a car simulation and \"blue car\" could be objects of a \"Car\" class. \n",
    "2) Classes:- A class acts as a blueprint or template for creating objects. \n",
    "             It defines the attributes (data) and methods (functions) that objects of that class will possess. \n",
    "3) Encapsulation:- This principle hides the internal details of an object and exposes only a public interface for interaction. \n",
    "                   This protects the object's data from unintended modification and makes the code more modular and maintainable. \n",
    "4) Inheritance:- Allows a class to inherit properties and behaviors from another class (parent or base class), \n",
    "                 promoting code reuse and establishing relationships between classes. For example, a \"SportsCar\"\n",
    "                 class could inherit from a \"Car\" class, adding specific attributes and methods for sports cars. \n",
    "5) Polymorphism:- Means many forms. In OOP, it allows objects of different classes to be treated as objects of a common type, \n",
    "                  enabling flexible and adaptable code. For example, a \"sound()\" method might behave differently for a \"Dog\" \n",
    "                  object and a \"Cat\" object, even though they both inherit from an \"Animal\" class. "
   ]
  },
  {
   "cell_type": "code",
   "execution_count": null,
   "id": "267bb04f-d275-42ca-a470-8a405aa37411",
   "metadata": {},
   "outputs": [],
   "source": [
    "Benefits of OOP:\n",
    "1) Code Reusability:- Inheritance and polymorphism allow developers to reuse code, reducing development time and effort. \n",
    "2) Modularity:- Encapsulation promotes modular design, making code easier to understand, maintain, and debug. \n",
    "3) Real-world Modeling:- OOP allows developers to model real-world entities and their interactions more naturally, \n",
    "                         leading to more intuitive and understandable software. \n",
    "4) Scalability:- OOP principles make it easier to scale and extend software systems as they grow in complexity. \n",
    "5) Maintainability:- OOP promotes code organization and structure, making it easier to maintain and update software over time. "
   ]
  },
  {
   "cell_type": "code",
   "execution_count": 50,
   "id": "bae91f82-e014-4e5f-9fde-81e9d99470b1",
   "metadata": {},
   "outputs": [
    {
     "name": "stdout",
     "output_type": "stream",
     "text": [
      "30\n"
     ]
    }
   ],
   "source": [
    "#  1. Procedural Programming\n",
    "\n",
    "num1 = 10\n",
    "num2 = 20\n",
    "sum = num1 + num2\n",
    "print(sum)"
   ]
  },
  {
   "cell_type": "code",
   "execution_count": 54,
   "id": "203bea47-4aaa-4d9f-a770-0c73ffe26da4",
   "metadata": {},
   "outputs": [
    {
     "name": "stdout",
     "output_type": "stream",
     "text": [
      "50\n",
      "12\n"
     ]
    }
   ],
   "source": [
    "# 2. Functional Programming\n",
    "\n",
    "def add_numbers(a,b):\n",
    "    print(a + b)\n",
    "\n",
    "def sub_numbers(a,b):\n",
    "    print(a - b)\n",
    "\n",
    "add_numbers(40,10)\n",
    "sub_numbers(90,78)"
   ]
  },
  {
   "cell_type": "code",
   "execution_count": 56,
   "id": "06e2c212-200e-4cf2-9a47-f89c117fa9ea",
   "metadata": {},
   "outputs": [
    {
     "name": "stdout",
     "output_type": "stream",
     "text": [
      "50\n",
      "27\n",
      "161\n"
     ]
    }
   ],
   "source": [
    "# 3. Object-Oriented Programming (OOP)\n",
    "\n",
    "class calculator:  # make a class\n",
    "    def add(self,a,b):\n",
    "        print(a + b)\n",
    "\n",
    "    def sub(self,a,b):\n",
    "        print(a - b)\n",
    "\n",
    "    def mult(self,a,b):\n",
    "        print(a * b)\n",
    "\n",
    "cal = calculator() # define object for class\n",
    "cal.add(40,10)\n",
    "cal.sub(50,23)\n",
    "cal.mult(23,7)"
   ]
  },
  {
   "cell_type": "markdown",
   "id": "464ca180-a4f6-4341-a44c-27e95cb2cc84",
   "metadata": {
    "jp-MarkdownHeadingCollapsed": true
   },
   "source": [
    "# Class and Object in OOPS"
   ]
  },
  {
   "cell_type": "code",
   "execution_count": null,
   "id": "1ac82d78-8061-4abe-b5ca-83e305a71dcb",
   "metadata": {},
   "outputs": [],
   "source": [
    "In Python, classes and objects are fundamental concepts of object-oriented programming (OOP). Here's a breakdown of their meanings:\n",
    "\n",
    "Class:- A class is a blueprint or template for creating objects.\n",
    "        It defines the structure (attributes/data) and behavior (methods/functions) that objects of that class will have.\n",
    "        It acts as a user-defined data type.\n",
    "        Its a logical grouping of data and functions that work on that data.\n",
    "        Classes are defined using the class keyword.\n",
    "\n",
    "Object:- An object is an instance of a class.\n",
    "         Its a concrete entity created based on the blueprint defined by the class.\n",
    "         Each object has its own unique set of attribute values.\n",
    "         Objects encapsulate data (attributes) and functionality (methods).\n",
    "         Objects are created by calling the class name like a function.\n",
    "\n",
    "\n",
    "Example:\n",
    "Think of a \"car\" as a class. It defines the common characteristics of all cars, such as having wheels, \n",
    "an engine, and a steering wheel. An actual car you see on the road, like a \"red sedan,\" is an object of the \"car\" class. \n",
    "It has specific values for its attributes (color, model, etc.) but follows the general structure defined by the \"car\" class."
   ]
  },
  {
   "cell_type": "code",
   "execution_count": null,
   "id": "32da5313-ec08-4e21-9332-578b7919ea48",
   "metadata": {},
   "outputs": [],
   "source": [
    "Key Concepts:\n",
    "1) Attributes: Variables that store data within an object.\n",
    "2) Methods: Functions that define the behavior of an object.\n",
    "3) __init__ method: A special method (constructor) that is automatically called when an object is created. \n",
    "                    It is used to initialize the object's attributes.\n",
    "4) self parameter: Refers to the object instance within a class method."
   ]
  },
  {
   "cell_type": "code",
   "execution_count": null,
   "id": "72a0152e-291c-4e8a-bb18-d2dedbb86636",
   "metadata": {},
   "outputs": [],
   "source": [
    "__INIT__ FUNCTION :- In Python, a constructor is a special method within a class that is automatically called when a new object (instance)\n",
    "                     of that class is created. Its primary purpose is to initialize the attributes (data members) of the object and \n",
    "                     perform any necessary setup for the object to be ready for use.\n",
    "                     Unlike some other object-oriented languages where constructors share the same name as the class, Python uses a \n",
    "                     specific method name for its constructor: __init__.\n",
    "\n",
    "\n",
    "Key characteristics of a Python constructor (__init__):\n",
    "1) Automatic Call (Invocation):- It is automatically invoked when you create an object of the class. You do not explicitly call __init__.\n",
    "2) Initialization:- Its main role is to set the initial state of the object by assigning values to its instance variables.\n",
    "3) self Parameter:- The first parameter of the __init__ method (by convention, named self) refers to the instance of the class being created.\n",
    "                    It allows you to access and modify the instance's attributes.\n",
    "4)Parameters: It can accept additional parameters to receive initial values for the object's attributes, allowing for flexible object creation."
   ]
  },
  {
   "cell_type": "code",
   "execution_count": null,
   "id": "bd82068f-64a1-4b54-8543-f8419fbd4f51",
   "metadata": {},
   "outputs": [],
   "source": [
    "__STR__ Method :- __str__ method in Python allows us to define a custom string representation of an object. \n",
    "                  By default, when we print an object or convert it to a string using str(), \n",
    "                  Python uses the default implementation, which returns a string like <__main__.ClassName object at 0x00000123>."
   ]
  },
  {
   "cell_type": "code",
   "execution_count": 59,
   "id": "88b392c7-564b-4dbe-bb30-1eaaf80d0dcb",
   "metadata": {},
   "outputs": [
    {
     "name": "stdout",
     "output_type": "stream",
     "text": [
      "The Red Toyota car is starting.\n",
      "The Blue Honda car is starting.\n"
     ]
    }
   ],
   "source": [
    "class car:\n",
    "    def start(self):\n",
    "        print(f\"The {self.color} {self.model} car is starting.\")\n",
    "\n",
    "# Object creation our attributes set karna\n",
    "car1 = car()\n",
    "car1.model = \"Toyota\"\n",
    "car1.color = \"Red\"\n",
    "\n",
    "car2 = car()\n",
    "car2.model = \"Honda\"\n",
    "car2.color = \"Blue\"\n",
    "\n",
    "# Method call karna\n",
    "car1.start()\n",
    "car2.start()"
   ]
  },
  {
   "cell_type": "code",
   "execution_count": 3,
   "id": "ad3de8ce-25d8-4b6e-9abc-6fce4f70a3c3",
   "metadata": {},
   "outputs": [
    {
     "name": "stdout",
     "output_type": "stream",
     "text": [
      "The Black Toyota car is starting.\n"
     ]
    }
   ],
   "source": [
    "# init function\n",
    "\n",
    "class Car:\n",
    "    def __init__(self,model,color):\n",
    "        self.model = model\n",
    "        self.color = color\n",
    "\n",
    "    def start(self):\n",
    "        print(f\"The {self.color} {self.model} car is starting.\")\n",
    "\n",
    "car1 = Car(\"Toyota\",\"Black\")\n",
    "car1.start()"
   ]
  },
  {
   "cell_type": "code",
   "execution_count": 5,
   "id": "dfae04e5-cb49-4828-adcd-865563c51055",
   "metadata": {},
   "outputs": [
    {
     "name": "stdout",
     "output_type": "stream",
     "text": [
      "Buddy\n",
      "Canine\n"
     ]
    }
   ],
   "source": [
    "class Dog:\n",
    "    species = \"Canine\"  # Class attribute\n",
    "\n",
    "    def __init__(self, name, age):\n",
    "        self.name = name  # Instance attribute\n",
    "        self.age = age  # Instance attribute\n",
    "\n",
    "# Creating an object of the Dog class\n",
    "dog1 = Dog(\"Buddy\", 3)\n",
    "\n",
    "print(dog1.name)  \n",
    "print(dog1.species)  "
   ]
  },
  {
   "cell_type": "code",
   "execution_count": 7,
   "id": "f3d33341-7d06-4209-a4ca-a21a67f674cf",
   "metadata": {},
   "outputs": [
    {
     "name": "stdout",
     "output_type": "stream",
     "text": [
      "Buddy is 3 years old.\n",
      "Charlie is 5 years old.\n"
     ]
    }
   ],
   "source": [
    "class Dog:\n",
    "    def __init__(self, name, age):\n",
    "        self.name = name\n",
    "        self.age = age\n",
    "\n",
    "    def __str__(self):\n",
    "        return f\"{self.name} is {self.age} years old.\"  # Correct: Returning a string\n",
    "      \n",
    "dog1 = Dog(\"Buddy\", 3)\n",
    "dog2 = Dog(\"Charlie\", 5)\n",
    "\n",
    "print(dog1)  \n",
    "print(dog2)"
   ]
  },
  {
   "cell_type": "code",
   "execution_count": 9,
   "id": "7cff2bc7-e475-447c-8603-a0e0850aacfa",
   "metadata": {},
   "outputs": [
    {
     "name": "stdout",
     "output_type": "stream",
     "text": [
      "Canine\n",
      "Buddy\n",
      "Charlie\n",
      "Max\n",
      "Feline\n",
      "Feline\n"
     ]
    }
   ],
   "source": [
    "class Dog:\n",
    "    # Class variable\n",
    "    species = \"Canine\"\n",
    "\n",
    "    def __init__(self, name, age):\n",
    "        # Instance variables\n",
    "        self.name = name\n",
    "        self.age = age\n",
    "\n",
    "# Create objects\n",
    "dog1 = Dog(\"Buddy\", 3)\n",
    "dog2 = Dog(\"Charlie\", 5)\n",
    "\n",
    "# Access class and instance variables\n",
    "print(dog1.species)  # (Class variable)\n",
    "print(dog1.name)     # (Instance variable)\n",
    "print(dog2.name)     # (Instance variable)\n",
    "\n",
    "# Modify instance variables\n",
    "dog1.name = \"Max\"\n",
    "print(dog1.name)     # (Updated instance variable)\n",
    "\n",
    "# Modify class variable\n",
    "Dog.species = \"Feline\"\n",
    "print(dog1.species)  # (Updated class variable)\n",
    "print(dog2.species)"
   ]
  },
  {
   "cell_type": "markdown",
   "id": "6ed45f50-1a5b-44e7-a0a7-d1c595606a91",
   "metadata": {
    "jp-MarkdownHeadingCollapsed": true
   },
   "source": [
    "# Polymorphism in OOPS"
   ]
  },
  {
   "cell_type": "code",
   "execution_count": null,
   "id": "24bf1abc-f8b0-425b-a482-c9ae808e71c1",
   "metadata": {},
   "outputs": [],
   "source": [
    "Polymorphism in Python, derived from Greek words \"poly\" (many) and \"morphism\" (forms), is a core concept\n",
    "in object-oriented programming (OOP) that allows objects of different classes to be treated as objects of a common type. \n",
    "This enables a single interface or function to work with various data types or classes, leading to more flexible and reusable code. \n",
    "\n",
    "Key aspects of polymorphism in Python:\n",
    "1) Method Overriding: A subclass provides a specific implementation for a method that is already defined in its superclass.\n",
    "                   When the method is called on an object of the subclass, the overridden version is executed. \n",
    "2) Duck Typing: Pythons dynamic typing allows objects to be used interchangeably if they have the same methods, \n",
    "                regardless of their actual class or inheritance hierarchy. If an object\n",
    "                \"walks like a duck and quacks like a duck\", it can be treated as a duck.\n",
    "3) Operator Overloading: Built-in operators (like +, -, *) can be given different meanings depending on the data types of the operands. \n",
    "                         This is achieved by defining special methods (e.g., __add__, __sub__) within a class."
   ]
  },
  {
   "cell_type": "code",
   "execution_count": null,
   "id": "1e21d516-50d9-42ff-9b96-ddd5263dccac",
   "metadata": {},
   "outputs": [],
   "source": [
    "Types of Polymorphism\n",
    "1) Compile-time Polymorphism :- Found in statically typed languages like Java or C++, where the behavior of a function or operator is \n",
    "                                resolved during the program's compilation phase.\n",
    "                                Examples include method overloading and operator overloading, where multiple functions or operators can \n",
    "                                share the same name but perform different tasks based on the context.\n",
    "                                In Python, which is dynamically typed, compile-time polymorphism is not natively supported. Instead, Python \n",
    "                                uses techniques like dynamic typing and duck typing to achieve similar flexibility.\n",
    "\n",
    "2) Runtime Polymorphism :-  Occurs when the behavior of a method is determined at runtime based on the type of the object.\n",
    "                            In Python, this is achieved through method overriding: a child class can redefine a method from its parent \n",
    "                            class to provide its own specific implementation.\n",
    "                            Python dynamic nature allows it to excel at runtime polymorphism, enabling flexible and adaptable code."
   ]
  },
  {
   "cell_type": "code",
   "execution_count": null,
   "id": "e7ed619c-ef93-4e0d-aa02-edaefc04693d",
   "metadata": {},
   "outputs": [],
   "source": [
    "Method Overriding (RUN TIME POLYMORPHISM) :- Method overriding is an ability of any object-oriented programming language that allows a \n",
    "                                             subclass or child class to provide a specific implementation of a method that is already provided \n",
    "                                             by one of its super-classes or parent classes. When a method in a subclass has the same name, \n",
    "                                             the same parameters or signature, and same return type(or sub-type) as a method in its super-class, \n",
    "                                             then the method in the subclass is said to override the method in the super-class.\n",
    "\n",
    "                                             Method overriding in Python is a special feature that allows programmers to implement their own methods \n",
    "                                             on existing objects. They can override certain methods and existing modules without creating a new one.\n",
    "                                             This is a useful feature when you want to customize the functionality of an existing class.\n",
    "\n",
    "Method overriding tab hota hai jab child class apne parent class ke method ko redefine karti hai.\n",
    "Yeh ensure karta hai ki child class ka method call ho jab object child class ka ho"
   ]
  },
  {
   "cell_type": "code",
   "execution_count": null,
   "id": "764cd5e5-8173-4444-87cf-6ef06ce80b05",
   "metadata": {},
   "outputs": [],
   "source": [
    "Method Overloading ( Compile-time Polymorphism) :- In many programming languages like C++ or Java, you can define multiple methods with the\n",
    "                                                   same name but different parameter lists. This concept is called method overloading.\n",
    "                                                   Python does not support method overloading by default. If you define multiple methods with \n",
    "                                                   the same name, only the latest definition will be used.\n",
    "\n",
    "1. Using Variable Arguments (*args):- In this approach, we use variable-length arguments to accept any number of arguments and handle them\n",
    "                                      inside the function.\n",
    "2. Using Default Arguments (None as default value)\n",
    "3. Using Multiple Dispatch:- Python multipledispatch library allows true method overloading by dispatching functions based on\n",
    "                             parameter types and counts."
   ]
  },
  {
   "cell_type": "code",
   "execution_count": null,
   "id": "9547ceee-2173-48f7-9356-539273044ae6",
   "metadata": {},
   "outputs": [],
   "source": [
    "Operator Overloading :- Operator Overloading means giving extended meaning beyond their predefined operational meaning. \n",
    "                        For example operator + is used to add two integers as well as join two strings and merge two lists. \n",
    "                        It is achievable because '+' operator is overloaded by int class and str class. \n",
    "                        You might have noticed that the same built-in operator or function shows different behavior for objects\n",
    "                        of different classes, this is called Operator Overloading. \n",
    "\n",
    "Advantages:\n",
    "Overloading boolean operators in a custom class can provide several advantages, including:\n",
    "\n",
    "1. Improved readability: By overloading boolean operators, you can provide a more natural syntax and semantics for your class\n",
    "                         that makes it easier to read and understand.\n",
    "2. Consistency with built-in types: Overloading boolean operators can make your class behave more like built-in types in Python,\n",
    "                                    which can make it easier to use and integrate with other code.\n",
    "3. Operator overloading: Overloading boolean operators is an example of operator overloading in Python, which can make your code \n",
    "                         more concise and expressive by allowing you to use familiar operators to perform custom operations on your objects.\n",
    "4. Custom behavior: Overloading boolean operators can allow you to define custom behavior for your class that is not available in \n",
    "                    built-in types or other classes.\n",
    "5. Enhanced functionality: By overloading boolean operators, you can add new functionality to your class that was not available before,\n",
    "                           such as the ability to perform logical and or or operations on instances of your class."
   ]
  },
  {
   "cell_type": "code",
   "execution_count": 14,
   "id": "88a388ed-2975-4500-8e40-2e43d6fa7900",
   "metadata": {},
   "outputs": [
    {
     "name": "stdout",
     "output_type": "stream",
     "text": [
      "Area: 6\n",
      "Area: 78.5\n"
     ]
    }
   ],
   "source": [
    "class Shape:\n",
    "    def area(self):\n",
    "        return \"Undefined\"\n",
    "\n",
    "class Rectangle(Shape):\n",
    "    def __init__(self, length, width):\n",
    "        self.length = length\n",
    "        self.width = width\n",
    "\n",
    "    def area(self):\n",
    "        return self.length * self.width\n",
    "\n",
    "class Circle(Shape):\n",
    "    def __init__(self, radius):\n",
    "        self.radius = radius\n",
    "\n",
    "    def area(self):\n",
    "        return 3.14 * self.radius ** 2\n",
    "\n",
    "shapes = [Rectangle(2, 3), Circle(5)]\n",
    "for shape in shapes:\n",
    "    print(f\"Area: {shape.area()}\")"
   ]
  },
  {
   "cell_type": "code",
   "execution_count": 16,
   "id": "f08cf9a6-b6b3-497e-a067-6fc6adba6339",
   "metadata": {},
   "outputs": [
    {
     "name": "stdout",
     "output_type": "stream",
     "text": [
      "Bark\n",
      "Meow\n",
      "Some generic sound\n"
     ]
    }
   ],
   "source": [
    "class Animal:\n",
    "    def sound(self):\n",
    "        return \"Some generic sound\"\n",
    "\n",
    "class Dog(Animal):\n",
    "    def sound(self):\n",
    "        return \"Bark\"\n",
    "\n",
    "class Cat(Animal):\n",
    "    def sound(self):\n",
    "        return \"Meow\"\n",
    "\n",
    "# Polymorphic behavior\n",
    "animals = [Dog(), Cat(), Animal()]\n",
    "for animal in animals:\n",
    "    print(animal.sound())  # Calls the overridden method based on the object type"
   ]
  },
  {
   "cell_type": "code",
   "execution_count": 12,
   "id": "fe7e36c3-8250-4b52-86d2-1b6a3d95a5e4",
   "metadata": {},
   "outputs": [
    {
     "name": "stdout",
     "output_type": "stream",
     "text": [
      "Bird is flying.\n",
      "Airplane is flying.\n"
     ]
    }
   ],
   "source": [
    "# POLYMORPHISM WITH FUNCTION\n",
    "\n",
    "class Bird:\n",
    "    def fly(self):\n",
    "        print(\"Bird is flying.\")\n",
    "\n",
    "class Airplane:\n",
    "    def fly(self):\n",
    "        print(\"Airplane is flying.\")\n",
    "\n",
    "bird = Bird()\n",
    "airplane = Airplane()\n",
    "\n",
    "bird.fly()\n",
    "airplane.fly()"
   ]
  },
  {
   "cell_type": "code",
   "execution_count": 18,
   "id": "de8da4d0-f970-4983-8333-6a19b1519b64",
   "metadata": {},
   "outputs": [
    {
     "name": "stdout",
     "output_type": "stream",
     "text": [
      "animal makes a sound\n",
      "Dog barks\n",
      "Cat meows\n"
     ]
    }
   ],
   "source": [
    "# RUN TIME POLYMORPHISM (METHOD OVER RIDING)\n",
    "\n",
    "# parent class\n",
    "class Animal:\n",
    "    def make_sound(self):\n",
    "        print(\"animal makes a sound\")\n",
    "\n",
    "# child class\n",
    "class Dog(Animal):\n",
    "    def make_sound(self):\n",
    "        print(\"Dog barks\")\n",
    "\n",
    "class Cat(Animal):\n",
    "    def make_sound(self):\n",
    "        print(\"Cat meows\")\n",
    "\n",
    "# object creation\n",
    "animal = Animal()\n",
    "dog = Dog()\n",
    "cat = Cat()\n",
    "\n",
    "# method calling by object\n",
    "animal.make_sound()  \n",
    "dog.make_sound()     \n",
    "cat.make_sound()"
   ]
  },
  {
   "cell_type": "code",
   "execution_count": 20,
   "id": "cd6b4245-269e-4ab6-87ec-9d1f3bf46544",
   "metadata": {},
   "outputs": [
    {
     "name": "stdout",
     "output_type": "stream",
     "text": [
      "Vehicle starting...\n",
      "Car engine ignited.\n"
     ]
    }
   ],
   "source": [
    "class Vehicle:\n",
    "    def start(self):\n",
    "        print(\"Vehicle starting...\")\n",
    "\n",
    "class Car(Vehicle):\n",
    "    def start(self):\n",
    "        super().start()  \n",
    "        print(\"Car engine ignited.\")\n",
    "\n",
    "my_car = Car()\n",
    "my_car.start()"
   ]
  },
  {
   "cell_type": "code",
   "execution_count": 26,
   "id": "49b36c49-3bc2-4125-ba8a-a500bf787095",
   "metadata": {},
   "outputs": [
    {
     "name": "stdout",
     "output_type": "stream",
     "text": [
      "Inside Parent\n",
      "Inside Child\n"
     ]
    }
   ],
   "source": [
    "# Python program to demonstrate \n",
    "# Defining parent class \n",
    "class Parent(): \n",
    "\t\n",
    "\t# Constructor \n",
    "\tdef __init__(self): \n",
    "\t\tself.value = \"Inside Parent\"\n",
    "\t\t\n",
    "\t# Parent's show method \n",
    "\tdef show(self): \n",
    "\t\tprint(self.value) \n",
    "\t\t\n",
    "# Defining child class \n",
    "class Child(Parent): \n",
    "\t\n",
    "\t# Constructor \n",
    "\tdef __init__(self): \n",
    "\t\tsuper().__init__()  # Call parent constructor\n",
    "\t\tself.value = \"Inside Child\"\n",
    "\t\t\n",
    "\t# Child's show method \n",
    "\tdef show(self): \n",
    "\t\tprint(self.value) \n",
    "\t\t\n",
    "# Driver's code \n",
    "obj1 = Parent() \n",
    "obj2 = Child() \n",
    "\n",
    "obj1.show()  # Should print \"Inside Parent\"\n",
    "obj2.show()  # Should print \"Inside Child\""
   ]
  },
  {
   "cell_type": "code",
   "execution_count": 30,
   "id": "242bfadc-08ef-4c9f-87cc-69e297e872ba",
   "metadata": {},
   "outputs": [
    {
     "name": "stdout",
     "output_type": "stream",
     "text": [
      "Inside Child\n",
      "Inside Parent2\n"
     ]
    }
   ],
   "source": [
    "# Python program to demonstrate \n",
    "# Defining parent class 1 \n",
    "# overriding in multiple inheritance \n",
    "class Parent1(): \n",
    "\t\t\n",
    "\t# Parent's show method \n",
    "\tdef show(self): \n",
    "\t\tprint(\"Inside Parent1\") \n",
    "\t\t\n",
    "# Defining Parent class 2 \n",
    "class Parent2(): \n",
    "\t\t\n",
    "\t# Parent's show method \n",
    "\tdef display(self): \n",
    "\t\tprint(\"Inside Parent2\") \n",
    "\t\t\n",
    "\t\t\n",
    "# Defining child class \n",
    "class Child(Parent1, Parent2): \n",
    "\t\t\n",
    "\t# Child's show method \n",
    "\tdef show(self): \n",
    "\t\tprint(\"Inside Child\") \n",
    "\t\n",
    "\t\t\n",
    "# Driver's code \n",
    "obj = Child() \n",
    "\n",
    "obj.show() \n",
    "obj.display()"
   ]
  },
  {
   "cell_type": "code",
   "execution_count": 28,
   "id": "a17c897d-3fc4-4f91-b94d-e31b1d35c8d7",
   "metadata": {},
   "outputs": [
    {
     "name": "stdout",
     "output_type": "stream",
     "text": [
      "Inside GrandChild\n",
      "Inside Parent\n"
     ]
    }
   ],
   "source": [
    "# Python program to demonstrate \n",
    "# Python program to demonstrate \n",
    "# overriding in multilevel inheritance \n",
    "\n",
    "class Parent(): \n",
    "\t\t\n",
    "\t# Parent's show method \n",
    "\tdef display(self): \n",
    "\t\tprint(\"Inside Parent\") \n",
    "\t\n",
    "\t\n",
    "# Inherited or Sub class (Note Parent in bracket) \n",
    "class Child(Parent): \n",
    "\t\t\n",
    "\t# Child's show method \n",
    "\tdef show(self): \n",
    "\t\tprint(\"Inside Child\") \n",
    "\t\n",
    "# Inherited or Sub class (Note Child in bracket) \n",
    "class GrandChild(Child): \n",
    "\t\t\n",
    "\t# Child's show method \n",
    "\tdef show(self): \n",
    "\t\tprint(\"Inside GrandChild\")\t\t \n",
    "\t\n",
    "# Driver code \n",
    "g = GrandChild() \n",
    "g.show() \n",
    "g.display()"
   ]
  },
  {
   "cell_type": "code",
   "execution_count": 24,
   "id": "e383f85d-99d2-412b-b034-bd0ed6600237",
   "metadata": {},
   "outputs": [
    {
     "name": "stdout",
     "output_type": "stream",
     "text": [
      "11\n",
      "18\n"
     ]
    }
   ],
   "source": [
    "# COMPILE TIME POLYMORPHISM (METHOD OVERLOADING)\n",
    "\n",
    "class Calculator:\n",
    "    def add(self,a,b,c=0):\n",
    "        print(a + b + c)\n",
    "\n",
    "calc = Calculator()\n",
    "calc.add(5,6)\n",
    "calc.add(5,6,7)"
   ]
  },
  {
   "cell_type": "code",
   "execution_count": 34,
   "id": "1ee6f0d5-0df9-4f36-a341-0d60c28cba2e",
   "metadata": {},
   "outputs": [
    {
     "name": "stdout",
     "output_type": "stream",
     "text": [
      "Playing media.\n",
      "Playing audio file.\n",
      "Playing video file.\n"
     ]
    }
   ],
   "source": [
    "class Media_Player:\n",
    "    def play(self):\n",
    "        print(\"Playing media.\")\n",
    "\n",
    "class Audio_Player(Media_Player):\n",
    "    def play(self):\n",
    "        print(\"Playing audio file.\")\n",
    "\n",
    "class Video_Player(Media_Player):\n",
    "    def play(self):\n",
    "        print(\"Playing video file.\")\n",
    "\n",
    "media = Media_Player()\n",
    "audio = Audio_Player()\n",
    "video = Video_Player()\n",
    "\n",
    "media.play()\n",
    "audio.play()\n",
    "video.play()"
   ]
  },
  {
   "cell_type": "code",
   "execution_count": 36,
   "id": "592fcec7-7eb2-4685-8dc3-c3791cc3187a",
   "metadata": {},
   "outputs": [
    {
     "name": "stdout",
     "output_type": "stream",
     "text": [
      "3\n",
      "GeeksFor\n",
      "3\n",
      "GeeksFor\n",
      "3\n",
      "GeeksFor\n"
     ]
    }
   ],
   "source": [
    "# OPERATOR OVERLOADING\n",
    "\n",
    "# Python Program illustrate how \n",
    "# to overload an binary + operator\n",
    "# And how it actually works\n",
    "\n",
    "class A:\n",
    "    def __init__(self, a):\n",
    "        self.a = a\n",
    "\n",
    "    # adding two objects \n",
    "    def __add__(self, o):\n",
    "        return self.a + o.a \n",
    "ob1 = A(1)\n",
    "ob2 = A(2)\n",
    "ob3 = A(\"Geeks\")\n",
    "ob4 = A(\"For\")\n",
    "\n",
    "print(ob1 + ob2)\n",
    "print(ob3 + ob4)\n",
    "# Actual working when Binary Operator is used.\n",
    "print(A.__add__(ob1 , ob2)) \n",
    "print(A.__add__(ob3,ob4)) \n",
    "#And can also be Understand as :\n",
    "print(ob1.__add__(ob2))\n",
    "print(ob3.__add__(ob4))"
   ]
  },
  {
   "cell_type": "code",
   "execution_count": 38,
   "id": "3e17d05c-8c21-4a98-88c9-f7afd3253520",
   "metadata": {},
   "outputs": [
    {
     "name": "stdout",
     "output_type": "stream",
     "text": [
      "(3, 5)\n"
     ]
    }
   ],
   "source": [
    "# Python Program to perform addition \n",
    "# of two complex numbers using binary \n",
    "# + operator overloading.\n",
    "\n",
    "class complex:\n",
    "    def __init__(self, a, b):\n",
    "        self.a = a\n",
    "        self.b = b\n",
    "\n",
    "     # adding two objects \n",
    "    def __add__(self, other):\n",
    "        return self.a + other.a, self.b + other.b\n",
    "\n",
    "Ob1 = complex(1, 2)\n",
    "Ob2 = complex(2, 3)\n",
    "Ob3 = Ob1 + Ob2\n",
    "print(Ob3)"
   ]
  },
  {
   "cell_type": "code",
   "execution_count": 40,
   "id": "421e3918-5b3c-4fdd-8539-2bd80c14885c",
   "metadata": {},
   "outputs": [
    {
     "name": "stdout",
     "output_type": "stream",
     "text": [
      "ob2 is greater than ob1\n"
     ]
    }
   ],
   "source": [
    "# Python program to overload\n",
    "# a comparison operators \n",
    "\n",
    "class A:\n",
    "    def __init__(self, a):\n",
    "        self.a = a\n",
    "    def __gt__(self, other):\n",
    "        if(self.a>other.a):\n",
    "            return True\n",
    "        else:\n",
    "            return False\n",
    "ob1 = A(2)\n",
    "ob2 = A(3)\n",
    "if(ob1>ob2):\n",
    "    print(\"ob1 is greater than ob2\")\n",
    "else:\n",
    "    print(\"ob2 is greater than ob1\")"
   ]
  },
  {
   "cell_type": "code",
   "execution_count": 42,
   "id": "3332cc9c-7018-4569-90ea-463f6cd79537",
   "metadata": {},
   "outputs": [
    {
     "name": "stdout",
     "output_type": "stream",
     "text": [
      "ob1 is lessthan ob2\n",
      "Not equal\n"
     ]
    }
   ],
   "source": [
    "# Python program to overload equality\n",
    "# and less than operators\n",
    "\n",
    "class A:\n",
    "    def __init__(self, a):\n",
    "        self.a = a\n",
    "    def __lt__(self, other):\n",
    "        if(self.a<other.a):\n",
    "            return \"ob1 is lessthan ob2\"\n",
    "        else:\n",
    "            return \"ob2 is less than ob1\"\n",
    "    def __eq__(self, other):\n",
    "        if(self.a == other.a):\n",
    "            return \"Both are equal\"\n",
    "        else:\n",
    "            return \"Not equal\"\n",
    "                \n",
    "ob1 = A(2)\n",
    "ob2 = A(3)\n",
    "print(ob1 < ob2)\n",
    "\n",
    "ob3 = A(4)\n",
    "ob4 = A(4)\n",
    "print(ob1 == ob2)"
   ]
  },
  {
   "cell_type": "markdown",
   "id": "8f875785-b6b9-490f-ac63-f35ed59305bf",
   "metadata": {
    "jp-MarkdownHeadingCollapsed": true
   },
   "source": [
    "# Inheritance in OOPs"
   ]
  },
  {
   "cell_type": "code",
   "execution_count": null,
   "id": "0f13a195-eeb1-4722-b4e2-87a2c0e2482e",
   "metadata": {},
   "outputs": [],
   "source": [
    "Inheritance in Python is a fundamental concept in object-oriented programming (OOP) that allows a new class to inherit attributes\n",
    "and methods from an existing class. This promotes code reuse, reduces redundancy, and facilitates a hierarchical organization of classes. \n",
    "\n",
    "Key Concepts:\n",
    "1. Parent Class (Base Class / Superclass): The existing class from which attributes and methods are inherited.\n",
    "2. Child Class (Derived Class / Subclass): The new class that inherits from the parent class."
   ]
  },
  {
   "cell_type": "code",
   "execution_count": null,
   "id": "0e7fac46-e9f4-43d8-9bfa-77887fad2588",
   "metadata": {},
   "outputs": [],
   "source": [
    "Types of Inheritance in Python:\n",
    "\n",
    "1. Single Inheritance: A child class inherits from a single parent class.\n",
    "2. Multiple Inheritance: A child class inherits from more than one parent class. \n",
    "3. Multilevel Inheritance: A child class inherits from a parent class, which itself inherits from another parent class (creating a chain). \n",
    "4. Hierarchical Inheritance: Multiple child classes inherit from the same parent class.\n",
    "5. Hybrid Inheritance: A combination of two or more types of inheritance."
   ]
  },
  {
   "cell_type": "code",
   "execution_count": null,
   "id": "334b9e42-8c26-4a8a-84a6-28d13a0bb6c5",
   "metadata": {},
   "outputs": [],
   "source": [
    "Benefits of Inheritance:\n",
    "\n",
    "1. Code Reusability: Avoids rewriting common code by defining it once in the parent class and reusing it in child classes.\n",
    "2. Extensibility: Allows for easy extension and modification of existing class functionalities without altering the original code.\n",
    "3. Polymorphism: Enables objects of different classes to be treated as objects of a common type, allowing for flexible and generic code.\n",
    "4. Logical Organization: Creates a clear hierarchical structure for related classes, improving code readability and maintainability."
   ]
  },
  {
   "cell_type": "code",
   "execution_count": 49,
   "id": "294c7939-0e7c-4e0e-90fb-1dc3b0c26882",
   "metadata": {},
   "outputs": [
    {
     "name": "stdout",
     "output_type": "stream",
     "text": [
      "This is parent class.\n",
      "This is child class\n"
     ]
    }
   ],
   "source": [
    "# SINGLE INHERITANCE\n",
    "\n",
    "class Parent:\n",
    "    def show(self):\n",
    "        print(\"This is parent class.\")\n",
    "\n",
    "class Child(Parent):\n",
    "    def display(self):\n",
    "        print(\"This is child class\")\n",
    "\n",
    "child = Child()\n",
    "\n",
    "child.show()\n",
    "child.display()"
   ]
  },
  {
   "cell_type": "code",
   "execution_count": 51,
   "id": "0cdf0e73-f23b-4ff9-81be-d14ad7f5e0c9",
   "metadata": {},
   "outputs": [
    {
     "name": "stdout",
     "output_type": "stream",
     "text": [
      "This is mother class.\n",
      "This is father class.\n",
      "This is child class.\n"
     ]
    }
   ],
   "source": [
    "# MULTIPLE INHERITANCE\n",
    "\n",
    "class Mother:\n",
    "    def show_mother(self):\n",
    "        print(\"This is mother class.\")\n",
    "\n",
    "class Father:\n",
    "    def show_father(self):\n",
    "        print(\"This is father class.\")\n",
    "\n",
    "class Child(Mother,Father):\n",
    "    def show_child(self):\n",
    "        print(\"This is child class.\")\n",
    "\n",
    "child = Child()\n",
    "child.show_mother()\n",
    "child.show_father()\n",
    "child.show_child()"
   ]
  },
  {
   "cell_type": "code",
   "execution_count": 3,
   "id": "ffb9df1f-f26a-49b9-b0c1-988fedc805f4",
   "metadata": {},
   "outputs": [
    {
     "name": "stdout",
     "output_type": "stream",
     "text": [
      "GrandParents\n",
      "Parents\n",
      "Child\n",
      "GrandParents\n",
      "Parents\n"
     ]
    }
   ],
   "source": [
    "# MULTI LEVEL INHERITANCE\n",
    "\n",
    "class Grandparent:\n",
    "    def show_grandparent(self):\n",
    "        print(\"GrandParents\")\n",
    "\n",
    "class Parents(Grandparent):\n",
    "    def show_parent(self):\n",
    "        print(\"Parents\")\n",
    "\n",
    "class Child(Parents):\n",
    "    def show_child(self):\n",
    "        print(\"Child\")\n",
    "\n",
    "child = Child()\n",
    "child.show_grandparent()\n",
    "child.show_parent()\n",
    "child.show_child()\n",
    "\n",
    "parents = Parents()\n",
    "parents.show_grandparent()\n",
    "parents.show_parent()"
   ]
  },
  {
   "cell_type": "code",
   "execution_count": 7,
   "id": "1d9e9389-f716-473c-8d17-ca135aeb9c57",
   "metadata": {},
   "outputs": [
    {
     "name": "stdout",
     "output_type": "stream",
     "text": [
      "Parent class\n",
      "Boys parents\n",
      "Parent class\n",
      "Girls parents\n"
     ]
    }
   ],
   "source": [
    "# HIERARICHAL INHERITANCE\n",
    "\n",
    "class Parents:\n",
    "    def show_parent(self):\n",
    "        print(\"Parent class\")\n",
    "\n",
    "class Boys(Parents):\n",
    "    def display1(self):\n",
    "        print(\"Boys parents\")\n",
    "\n",
    "class Girl(Parents):\n",
    "    def display2(self):\n",
    "        print(\"Girls parents\")\n",
    "\n",
    "boy = Boys()\n",
    "girl = Girl()\n",
    "\n",
    "boy.show_parent()\n",
    "boy.display1()\n",
    "\n",
    "girl.show_parent()\n",
    "girl.display2()"
   ]
  },
  {
   "cell_type": "code",
   "execution_count": 9,
   "id": "1e0f129e-a758-4678-970d-af30458d82d5",
   "metadata": {},
   "outputs": [
    {
     "name": "stdout",
     "output_type": "stream",
     "text": [
      "John 40000\n",
      "Alice 50000\n",
      "Bob 60000 HR\n",
      "Charlie 45000 10\n",
      "David 70000 Finance 20\n"
     ]
    }
   ],
   "source": [
    "# 1. Single Inheritance\n",
    "class Person:\n",
    "    def __init__(self, name):\n",
    "        self.name = name\n",
    "\n",
    "class Employee(Person):  # Employee inherits from Person\n",
    "    def __init__(self, name, salary):\n",
    "        super().__init__(name)\n",
    "        self.salary = salary\n",
    "\n",
    "# 2. Multiple Inheritance\n",
    "class Job:\n",
    "    def __init__(self, salary):\n",
    "        self.salary = salary\n",
    "\n",
    "class EmployeePersonJob(Employee, Job):  # Inherits from both Employee and Job\n",
    "    def __init__(self, name, salary):\n",
    "        Employee.__init__(self, name, salary)  # Initialize Employee\n",
    "        Job.__init__(self, salary)            # Initialize Job\n",
    "\n",
    "# 3. Multilevel Inheritance\n",
    "class Manager(EmployeePersonJob):  # Inherits from EmployeePersonJob\n",
    "    def __init__(self, name, salary, department):\n",
    "        EmployeePersonJob.__init__(self, name, salary)  # Explicitly initialize EmployeePersonJob\n",
    "        self.department = department\n",
    "\n",
    "# 4. Hierarchical Inheritance\n",
    "class AssistantManager(EmployeePersonJob):  # Inherits from EmployeePersonJob\n",
    "    def __init__(self, name, salary, team_size):\n",
    "        EmployeePersonJob.__init__(self, name, salary)  # Explicitly initialize EmployeePersonJob\n",
    "        self.team_size = team_size\n",
    "\n",
    "# 5. Hybrid Inheritance (Multiple + Multilevel)\n",
    "class SeniorManager(Manager, AssistantManager):  # Inherits from both Manager and AssistantManager\n",
    "    def __init__(self, name, salary, department, team_size):\n",
    "        Manager.__init__(self, name, salary, department)        # Initialize Manager\n",
    "        AssistantManager.__init__(self, name, salary, team_size)  # Initialize AssistantManager\n",
    "\n",
    "# Creating objects to show inheritance\n",
    "\n",
    "# Single Inheritance\n",
    "emp = Employee(\"John\", 40000)\n",
    "print(emp.name, emp.salary)\n",
    "\n",
    "# Multiple Inheritance\n",
    "emp2 = EmployeePersonJob(\"Alice\", 50000)\n",
    "print(emp2.name, emp2.salary)\n",
    "\n",
    "# Multilevel Inheritance\n",
    "mgr = Manager(\"Bob\", 60000, \"HR\")\n",
    "print(mgr.name, mgr.salary, mgr.department)\n",
    "\n",
    "# Hierarchical Inheritance\n",
    "asst_mgr = AssistantManager(\"Charlie\", 45000, 10)\n",
    "print(asst_mgr.name, asst_mgr.salary, asst_mgr.team_size)\n",
    "\n",
    "# Hybrid Inheritance\n",
    "sen_mgr = SeniorManager(\"David\", 70000, \"Finance\", 20)\n",
    "print(sen_mgr.name, sen_mgr.salary, sen_mgr.department, sen_mgr.team_size)"
   ]
  },
  {
   "cell_type": "markdown",
   "id": "759af28b-ce1d-4293-850d-e23661c1e94d",
   "metadata": {
    "jp-MarkdownHeadingCollapsed": true
   },
   "source": [
    "# Encapsulation in OOPS"
   ]
  },
  {
   "cell_type": "code",
   "execution_count": null,
   "id": "4879352f-a482-4004-972d-0ce3f6947b51",
   "metadata": {},
   "outputs": [],
   "source": [
    "Encapsulation is the bundling of data (attributes) and methods (functions) within a class, restricting access to some components\n",
    "to control interactions.\n",
    "A class is an example of encapsulation as it encapsulates all the data that is member functions, variables, etc.\n",
    "In Python, encapsulation refers to the bundling of data (attributes) and methods (functions) that operate on the data into a single unit,\n",
    "typically a class. It also restricts direct access to some components, which helps protect the integrity of the data and ensures proper usage.\n",
    "\n",
    "Python achieves encapsulation through public, protected and private attributes.\n",
    "\n",
    "How Encapsulation Works :\n",
    "1. Data Hiding: The variables (attributes) are kept private or protected, meaning they are not accessible directly from outside the class.\n",
    "                Instead, they can only be accessed or modified through the methods.\n",
    "2. Access through Methods: Methods act as the interface through which external code interacts with the data stored in the variables. \n",
    "                           For instance, getters and setters are common methods used to retrieve and update the value of a private variable.\n",
    "3. Control and Security: By encapsulating the variables and only allowing their manipulation via methods, the class can enforce rules on \n",
    "                         how the variables are accessed or modified, thus maintaining control and security over the data."
   ]
  },
  {
   "cell_type": "code",
   "execution_count": null,
   "id": "12ee623c-6eb0-4508-9e0e-e472908a5086",
   "metadata": {},
   "outputs": [],
   "source": [
    "Data Hiding (through convention): Unlike some other languages with explicit access modifiers (like private or protected), \n",
    "                                  Python achieves data hiding through naming conventions.\n",
    "1. Public: Attributes and methods without a leading underscore are considered public and can be accessed directly from outside the class.\n",
    "2. Protected: Attributes and methods prefixed with a single underscore (e.g., _attribute_name) are conventionally understood to be\n",
    "              \"protected\" and should not be accessed directly from outside the class, though Python does not strictly enforce this.\n",
    "3. Private: Attributes and methods prefixed with a double underscore (e.g., __attribute_name) undergo name mangling, making them harder \n",
    "            to access directly from outside the class, providing a stronger form of \"privacy\" compared to single underscore.\n",
    "\n",
    "Controlled Access:\n",
    "Encapsulation encourages using public methods (getters and setters) to interact with and modify the internal state of an object. \n",
    "This allows for validation, logging, or other logic to be applied before data is accessed or changed, preventing unintended modifications\n",
    "and maintaining data consistency.\n",
    "\n",
    "\n",
    "\n",
    "Benefits of Encapsulation:\n",
    "1) Data Integrity: Prevents direct, uncontrolled modification of an object's internal state.\n",
    "2) Modularity: Classes become self-contained units, making code easier to understand, maintain, and reuse.\n",
    "3) Flexibility: Allows for internal implementation changes without affecting external code that interacts with the class's public interface.\n",
    "4) Security: Reduces the risk of accidental or malicious data corruption."
   ]
  },
  {
   "cell_type": "code",
   "execution_count": 12,
   "id": "8497c9d1-1543-4fa1-9c58-b10be56a9513",
   "metadata": {},
   "outputs": [
    {
     "name": "stdout",
     "output_type": "stream",
     "text": [
      "John\n",
      "John\n"
     ]
    }
   ],
   "source": [
    "# PUBLIC MEMBERS\n",
    "\n",
    "class Public:\n",
    "    def __init__(self):\n",
    "        self.name = \"John\"  # Public attribute\n",
    "\n",
    "    def display_name(self):\n",
    "        print(self.name)  # Public method\n",
    "\n",
    "obj = Public()\n",
    "obj.display_name()  # Accessible\n",
    "print(obj.name)  # Accessible"
   ]
  },
  {
   "cell_type": "code",
   "execution_count": 22,
   "id": "8f65fca1-7b4b-441b-abcd-383edb39cbb6",
   "metadata": {},
   "outputs": [
    {
     "name": "stdout",
     "output_type": "stream",
     "text": [
      "10\n",
      "10\n"
     ]
    }
   ],
   "source": [
    "class MyClass:\n",
    "    def __init__(self, value):\n",
    "        self.value = value  # Public attribute\n",
    "    def show_value(self):  # Public method\n",
    "        print(self.value)\n",
    "# Usage\n",
    "obj = MyClass(10)\n",
    "obj.show_value()  # Accessing public method\n",
    "print(obj.value)  # Accessing public attribute"
   ]
  },
  {
   "cell_type": "code",
   "execution_count": 14,
   "id": "e1f36771-1b87-43c2-98e5-d0a9f4ea6d57",
   "metadata": {},
   "outputs": [
    {
     "name": "stdout",
     "output_type": "stream",
     "text": [
      "30\n"
     ]
    }
   ],
   "source": [
    "# PROTECTED MEMBERS\n",
    "\n",
    "class Protected:\n",
    "    def __init__(self):\n",
    "        self._age = 30  # Protected attribute\n",
    "\n",
    "class Subclass(Protected):\n",
    "    def display_age(self):\n",
    "        print(self._age)  # Accessible in subclass\n",
    "\n",
    "obj = Subclass()\n",
    "obj.display_age()"
   ]
  },
  {
   "cell_type": "code",
   "execution_count": 18,
   "id": "7917b4d8-8b27-4256-b9d3-7dc69bfae0ac",
   "metadata": {},
   "outputs": [
    {
     "name": "stdout",
     "output_type": "stream",
     "text": [
      "10\n",
      "10\n"
     ]
    }
   ],
   "source": [
    "class BaseClass:\n",
    "    def __init__(self, value):\n",
    "        self._value = value  # Protected attribute\n",
    "    def _show_value(self):  # Protected method\n",
    "        print(self._value)\n",
    "\n",
    "class SubClass(BaseClass):\n",
    "    def display(self):\n",
    "        self._show_value()  # Accessing protected method from the subclass\n",
    "\n",
    "# Usage\n",
    "obj = SubClass(10)\n",
    "obj.display()  # Accessing protected method via public method in subclass\n",
    "print(obj._value)  # Accessing protected attribute directly (not recommended)"
   ]
  },
  {
   "cell_type": "code",
   "execution_count": 16,
   "id": "d854d41b-404f-425d-870e-98b12ba3dc6c",
   "metadata": {},
   "outputs": [
    {
     "name": "stdout",
     "output_type": "stream",
     "text": [
      "50000\n"
     ]
    }
   ],
   "source": [
    "# PRIVATE MEMBERS\n",
    "\n",
    "class Private:\n",
    "    def __init__(self):\n",
    "        self.__salary = 50000  # Private attribute\n",
    "\n",
    "    def salary(self):\n",
    "        return self.__salary  # Access through public method\n",
    "\n",
    "obj = Private()\n",
    "print(obj.salary())  # Works\n",
    "#print(obj.__salary)  # Raises AttributeError"
   ]
  },
  {
   "cell_type": "code",
   "execution_count": 20,
   "id": "b4e9b6f1-629f-455e-90f6-ccd327cc0cdf",
   "metadata": {},
   "outputs": [
    {
     "name": "stdout",
     "output_type": "stream",
     "text": [
      "10\n"
     ]
    }
   ],
   "source": [
    "class MyClass:\n",
    "    def __init__(self, value):\n",
    "        self.__value = value  # Private attribute\n",
    "    def __show_value(self):  # Private method\n",
    "        print(self.__value)\n",
    "    def public_method(self):  # Public method\n",
    "        self.__show_value()  # Accessing private method within the class\n",
    "\n",
    "# Usage\n",
    "obj = MyClass(10)\n",
    "# obj.__show_value()  # This would raise an AttributeError\n",
    "# print(obj.__value)  # This would raise an AttributeError\n",
    "obj.public_method()  # Accesses private method through a public method"
   ]
  },
  {
   "cell_type": "code",
   "execution_count": 24,
   "id": "4b1f80d8-06ef-4c5c-8a4d-e8adda788448",
   "metadata": {},
   "outputs": [
    {
     "name": "stdout",
     "output_type": "stream",
     "text": [
      "Name: Rajaram marks: 50\n",
      "Name: Bharat marks: 25\n"
     ]
    },
    {
     "ename": "AttributeError",
     "evalue": "'Student' object has no attribute '__name'",
     "output_type": "error",
     "traceback": [
      "\u001b[1;31m---------------------------------------------------------------------------\u001b[0m",
      "\u001b[1;31mAttributeError\u001b[0m                            Traceback (most recent call last)",
      "Cell \u001b[1;32mIn[24], line 14\u001b[0m\n\u001b[0;32m     12\u001b[0m s1\u001b[38;5;241m.\u001b[39mstudentdata()\n\u001b[0;32m     13\u001b[0m s2\u001b[38;5;241m.\u001b[39mstudentdata()\n\u001b[1;32m---> 14\u001b[0m \u001b[38;5;28mprint\u001b[39m (\u001b[38;5;124m\"\u001b[39m\u001b[38;5;124mName: \u001b[39m\u001b[38;5;132;01m{}\u001b[39;00m\u001b[38;5;124m marks: \u001b[39m\u001b[38;5;132;01m{}\u001b[39;00m\u001b[38;5;124m\"\u001b[39m\u001b[38;5;241m.\u001b[39mformat(s1\u001b[38;5;241m.\u001b[39m__name, s2\u001b[38;5;241m.\u001b[39m__marks))\n\u001b[0;32m     15\u001b[0m \u001b[38;5;28mprint\u001b[39m (\u001b[38;5;124m\"\u001b[39m\u001b[38;5;124mName: \u001b[39m\u001b[38;5;132;01m{}\u001b[39;00m\u001b[38;5;124m marks: \u001b[39m\u001b[38;5;132;01m{}\u001b[39;00m\u001b[38;5;124m\"\u001b[39m\u001b[38;5;241m.\u001b[39mformat(s2\u001b[38;5;241m.\u001b[39m__name, __s2\u001b[38;5;241m.\u001b[39mmarks))\n",
      "\u001b[1;31mAttributeError\u001b[0m: 'Student' object has no attribute '__name'"
     ]
    }
   ],
   "source": [
    "class Student:\n",
    "\n",
    "   def __init__(self, name=\"Rajaram\", marks=50):\n",
    "      self.__name = name\n",
    "      self.__marks = marks\n",
    "   def studentdata(self):\n",
    "      print (\"Name: {} marks: {}\".format(self.__name, self.__marks))\n",
    "      \n",
    "s1 = Student()\n",
    "s2 = Student(\"Bharat\", 25)\n",
    "\n",
    "s1.studentdata()\n",
    "s2.studentdata()\n",
    "print (\"Name: {} marks: {}\".format(s1.__name, s2.__marks))\n",
    "print (\"Name: {} marks: {}\".format(s2.__name, __s2.marks))"
   ]
  },
  {
   "cell_type": "markdown",
   "id": "e706cdf7-69d9-41f4-85f1-0bcc2d547f6b",
   "metadata": {
    "jp-MarkdownHeadingCollapsed": true
   },
   "source": [
    "#  Abstraction in OOPS"
   ]
  },
  {
   "cell_type": "code",
   "execution_count": null,
   "id": "d3c1d1ed-7932-4eb3-8b25-db8160d09396",
   "metadata": {},
   "outputs": [],
   "source": [
    "Abstraction in Python, a core principle of Object-Oriented Programming (OOP), involves simplifying complex systems \n",
    "by focusing on essential characteristics and hiding unnecessary implementation details. It allows developers to create\n",
    "a high-level view of a system, making it easier to understand and manage. \n",
    "\n",
    "Key Aspects of Abstraction in Python:\n",
    "1. Hiding Complexity: Abstraction conceals the intricate inner workings of a class or method, exposing only the relevant\n",
    "                      functionalities to the user. This reduces cognitive load and allows users to interact with the system\n",
    "                      at a higher level of understanding.\n",
    "2. Defining a Blueprint: Abstraction is often achieved through abstract classes and abstract methods. An abstract class serves\n",
    "                         as a blueprint that defines common features and methods that its subclasses must implement. \n",
    "                         Abstract methods are declared in the abstract class but have no implementation; they are meant to be \n",
    "                         overridden by concrete subclasses. \n",
    "3. Enforcing Contracts: Abstract methods enforce a contract, ensuring that any concrete subclass inheriting from an abstract class \n",
    "                        provides its own implementation for these methods. This promotes consistency and ensures that all objects \n",
    "                        of a certain type adhere to a defined interface.\n",
    "4. Achieving Abstraction with abc module: In Python, the abc (Abstract Base Classes) module is used to create abstract classes and methods. \n",
    "                                          The ABCMeta metaclass and the @abstractmethod decorator from this module are instrumental in \n",
    "                                          defining abstract components."
   ]
  },
  {
   "cell_type": "code",
   "execution_count": 27,
   "id": "bc0fabdd-bdb6-47e0-879a-8206737973cc",
   "metadata": {},
   "outputs": [
    {
     "name": "stdout",
     "output_type": "stream",
     "text": [
      "Car engine started.\n",
      "Motorcycle engine stopped.\n"
     ]
    }
   ],
   "source": [
    "from abc import ABC, abstractmethod\n",
    "\n",
    "class Vehicle(ABC):  # Abstract Base Class\n",
    "    @abstractmethod\n",
    "    def start_engine(self):\n",
    "        pass\n",
    "\n",
    "    @abstractmethod\n",
    "    def stop_engine(self):\n",
    "        pass\n",
    "\n",
    "class Car(Vehicle):\n",
    "    def start_engine(self):\n",
    "        print(\"Car engine started.\")\n",
    "\n",
    "    def stop_engine(self):\n",
    "        print(\"Car engine stopped.\")\n",
    "\n",
    "class Motorcycle(Vehicle):\n",
    "    def start_engine(self):\n",
    "        print(\"Motorcycle engine started.\")\n",
    "\n",
    "    def stop_engine(self):\n",
    "        print(\"Motorcycle engine stopped.\")\n",
    "\n",
    "# You cannot instantiate an abstract class directly\n",
    "# vehicle = Vehicle() # This would raise a TypeError\n",
    "\n",
    "car = Car()\n",
    "car.start_engine()\n",
    "motorcycle = Motorcycle()\n",
    "motorcycle.stop_engine()"
   ]
  },
  {
   "cell_type": "code",
   "execution_count": 29,
   "id": "22031879-52e6-434a-965b-32e94cf9fc35",
   "metadata": {},
   "outputs": [
    {
     "name": "stdout",
     "output_type": "stream",
     "text": [
      "abstract method\n",
      "concrete method\n"
     ]
    }
   ],
   "source": [
    "from abc import ABC, abstractmethod\n",
    "class democlass(ABC):\n",
    "   @abstractmethod\n",
    "   def method1(self):\n",
    "      print (\"abstract method\")\n",
    "      return\n",
    "   def method2(self):\n",
    "      print (\"concrete method\")\n",
    "\n",
    "class concreteclass(democlass):\n",
    "   def method1(self):\n",
    "      super().method1()\n",
    "      return\n",
    "      \n",
    "obj = concreteclass()\n",
    "obj.method1()\n",
    "obj.method2()"
   ]
  },
  {
   "cell_type": "markdown",
   "id": "9dfb224b-972e-4f3e-8d01-95c3d78ecf40",
   "metadata": {
    "jp-MarkdownHeadingCollapsed": true
   },
   "source": [
    "# Recursion in Python"
   ]
  },
  {
   "cell_type": "code",
   "execution_count": null,
   "id": "fd119d41-1e85-449f-bab5-c2cee3745fa6",
   "metadata": {},
   "outputs": [],
   "source": [
    "Recursion involves a function calling itself directly or indirectly to solve a problem by breaking it down into simpler \n",
    "and more manageable parts. In Python, recursion is widely used for tasks that can be divided into identical subtasks.\n",
    "\n",
    "In Python, a recursive function is defined like any other function, but it includes a call to itself. The syntax and \n",
    "structure of a recursive function follow the typical function definition in Python, with the addition of one or more \n",
    "conditions that lead to the function calling itself."
   ]
  },
  {
   "cell_type": "code",
   "execution_count": null,
   "id": "dd00e5db-c93e-4e9f-8f06-6da5b2942ac4",
   "metadata": {},
   "outputs": [],
   "source": [
    "Basic Structure of Recursive Function\n",
    "\n",
    "\n",
    "        def recursive_function(parameters):\n",
    "        \n",
    "            if base_case_condition:\n",
    "        \n",
    "                return base_result\n",
    "        \n",
    "            else:\n",
    "        \n",
    "                return recursive_function(modified_parameters)"
   ]
  },
  {
   "cell_type": "code",
   "execution_count": null,
   "id": "919c6b62-4f91-41e7-851e-32b2fe2d0051",
   "metadata": {},
   "outputs": [],
   "source": [
    "Base Case and Recursive Case\n",
    "\n",
    "1. Base Case: This is the condition under which the recursion stops. It is crucial to prevent infinite loops and to \n",
    "              ensure that each recursive call reduces the problem in some manner. In the factorial example, the base case is n == 1.\n",
    "2. Recursive Case: This is the part of the function that includes the call to itself. It must eventually lead to the base case. \n",
    "                   In the factorial example, the recursive case is return n * factorial(n-1).\n",
    "\n",
    "\n",
    "Types of Recursion in Python\n",
    "Recursion can be broadly classified into two types: tail recursion and non-tail recursion. The main difference between them is \n",
    "related to what happens after the recursive call.\n",
    "1. Tail Recursion: This occurs when the recursive call is the last operation executed in the function, with no additional work \n",
    "                   or calculation following the recursive call. In many programming languages, tail recursion can be optimized \n",
    "                   by the compiler into iterative loops to improve performance and prevent stack overflow.\n",
    "2. Non-Tail Recursion: This occurs when there are operations or calculations that follow the recursive call. This type prevents \n",
    "                       the compiler or interpreter from optimizing the recursion into an iteration."
   ]
  },
  {
   "cell_type": "code",
   "execution_count": null,
   "id": "c9723d92-ad8a-4e07-b49f-2ee935eb0fb8",
   "metadata": {},
   "outputs": [],
   "source": [
    "Advantages of Recursion\n",
    "1) Recursive functions make the code look clean and elegant.\n",
    "2) A complex task can be broken down into simpler sub-problems using recursion.\n",
    "3) Sequence generation is easier with recursion than using some nested iteration.\n",
    "\n",
    "    \n",
    "Disadvantages of Recursion\n",
    "1) Sometimes the logic behind recursion is hard to follow through.\n",
    "2) Recursive calls are expensive (inefficient) as they take up a lot of memory and time.\n",
    "3) Recursive functions are hard to debug."
   ]
  },
  {
   "cell_type": "code",
   "execution_count": 32,
   "id": "8c564b43-01c3-4226-894b-cc2bc93a1133",
   "metadata": {},
   "outputs": [
    {
     "name": "stdout",
     "output_type": "stream",
     "text": [
      "120\n"
     ]
    }
   ],
   "source": [
    "def factorial(n):\n",
    "    if n == 0:\n",
    "        return 1\n",
    "    else:\n",
    "        return n * factorial(n-1)\n",
    "\n",
    "print(factorial(5))"
   ]
  },
  {
   "cell_type": "code",
   "execution_count": 34,
   "id": "2968320a-4d59-4101-83ef-4444d9ca02c6",
   "metadata": {},
   "outputs": [
    {
     "name": "stdout",
     "output_type": "stream",
     "text": [
      "55\n"
     ]
    }
   ],
   "source": [
    "def fibonacci(n):\n",
    "    if n == 0:\n",
    "        return 0\n",
    "    elif n == 1:\n",
    "        return 1\n",
    "    else:\n",
    "        return fibonacci(n-1) + fibonacci(n-2)\n",
    "\n",
    "print(fibonacci(10))"
   ]
  },
  {
   "cell_type": "code",
   "execution_count": 36,
   "id": "793713ec-f2c9-453e-b200-17804c80ef88",
   "metadata": {},
   "outputs": [
    {
     "name": "stdout",
     "output_type": "stream",
     "text": [
      "120\n",
      "120\n"
     ]
    }
   ],
   "source": [
    "def tail_fact(n, acc=1):\n",
    "    # Base case\n",
    "    if n == 0:\n",
    "        return acc\n",
    "    # Tail recursive call with an accumulator\n",
    "    else:\n",
    "        return tail_fact(n-1, acc * n)\n",
    "\n",
    "def nontail_fact(n):\n",
    "    # Base case\n",
    "    if n == 1:\n",
    "        return 1\n",
    "    # Non-tail recursive call because the multiplication happens after the call\n",
    "    else:\n",
    "        return n * nontail_fact(n-1)\n",
    "\n",
    "# Example usage\n",
    "print(tail_fact(5))  \n",
    "print(nontail_fact(5))"
   ]
  },
  {
   "cell_type": "code",
   "execution_count": 38,
   "id": "d463e05c-4f5a-4183-b5c0-78f63bba8f4b",
   "metadata": {},
   "outputs": [
    {
     "name": "stdout",
     "output_type": "stream",
     "text": [
      "\n",
      "\n",
      "Recursion Example Results\n",
      "1\n",
      "3\n",
      "6\n",
      "10\n",
      "15\n",
      "21\n"
     ]
    },
    {
     "data": {
      "text/plain": [
       "21"
      ]
     },
     "execution_count": 38,
     "metadata": {},
     "output_type": "execute_result"
    }
   ],
   "source": [
    "def tri_recursion(k):\n",
    "  if(k>0):\n",
    "    result = k+tri_recursion(k-1)\n",
    "    print(result)\n",
    "  else:\n",
    "    result = 0\n",
    "  return result\n",
    "\n",
    "print(\"\\n\\nRecursion Example Results\")\n",
    "tri_recursion(6)\n"
   ]
  },
  {
   "cell_type": "markdown",
   "id": "d858f607-06e8-4a46-85fe-e88ee8a49126",
   "metadata": {
    "jp-MarkdownHeadingCollapsed": true
   },
   "source": [
    "# Python Exception Handling"
   ]
  },
  {
   "cell_type": "code",
   "execution_count": null,
   "id": "9c12c712-3533-46d2-b45a-9f8fb4c8d9b0",
   "metadata": {},
   "outputs": [],
   "source": [
    "Python Exception Handling handles errors that occur during the execution of a program. Exception handling allows to respond to the error, \n",
    "instead of crashing the running program. It enables you to catch and manage errors, making your code more robust and user-friendly.\n",
    "\n",
    "Explanation: In this example, dividing number by 0 raises a ZeroDivisionError. The try block contains the code that might cause an exception \n",
    "and the except block handles the exception, printing an error message instead of stopping the program.\n",
    "\n",
    "Difference Between Exception and Error\n",
    "1. Error: Errors are serious issues that a program should not try to handle. They are usually problems in the code's logic or configuration \n",
    "          and need to be fixed by the programmer. Examples include syntax errors and memory errors.\n",
    "2. Exception: Exceptions are less severe than errors and can be handled by the program. They occur due to situations like invalid input, \n",
    "              missing files or network issues."
   ]
  },
  {
   "cell_type": "code",
   "execution_count": null,
   "id": "0cd2a246-291a-4d9c-bcf2-7031c93022a8",
   "metadata": {},
   "outputs": [],
   "source": [
    "Syntax and Usage\n",
    "Exception handling in Python is done using the try, except, else and finally blocks.\n",
    "\n",
    "            try:\n",
    "                  # Code that might raise an exception\n",
    "            except SomeException:\n",
    "                  # Code to handle the exception\n",
    "            else:\n",
    "                 # Code to run if no exception occurs\n",
    "            finally:\n",
    "                # Code to run regardless of whether an exception occurs"
   ]
  },
  {
   "cell_type": "code",
   "execution_count": null,
   "id": "8c7bce19-2897-4fd7-afde-b926cb683027",
   "metadata": {},
   "outputs": [],
   "source": [
    "try, except, else and finally Blocks\n",
    "1. try Block: try block lets us test a block of code for errors. Python will \"try\" to execute the code in this block. If an exception occurs,\n",
    "              execution will immediately jump to the except block.\n",
    "2. except Block: except block enables us to handle the error or exception. If the code inside the try block throws an error, Python jumps to \n",
    "                 the except block and executes it. We can handle specific exceptions or use a general except to catch all exceptions.\n",
    "3. else Block: else block is optional and if included, must follow all except blocks. The else block runs only if no exceptions are raised in\n",
    "               the try block. This is useful for code that should execute if the try block succeeds.\n",
    "4. finally Block: finally block always runs, regardless of whether an exception occurred or not. It is typically used for cleanup operations \n",
    "                  (closing files, releasing resources)."
   ]
  },
  {
   "cell_type": "code",
   "execution_count": null,
   "id": "d6d5bc52-765b-4330-87c4-a9a3f3e4a990",
   "metadata": {},
   "outputs": [],
   "source": [
    "Common Exceptions in Python\n",
    "Python has many built-in exceptions, each representing a specific error condition. Some common ones include:\n",
    "\n",
    "Exception Name\t                     Description\n",
    "\n",
    "1.BaseException\t                    The base class for all built-in exceptions.\n",
    "2.Exception\t                        The base class for all non-exit exceptions.\n",
    "3.ArithmeticError\t                    The Base class for all errors related to arithmetic operations.\n",
    "4.ZeroDivisionError\t                Raised when a division or modulo operation is performed with zero as the divisor.\n",
    "5.OverflowError\t                    Raised when a numerical operation exceeds the maximum limit of a data type.\n",
    "6.FloatingPointError\t                Raised when a floating-point operation fails.\n",
    "7.AssertionError\t                    Raised when an assert statement fails.\n",
    "8.AttributeError\t                    Raised when an attribute reference or assignment fails.\n",
    "9.IndexError\t                        Raised when a sequence subscript is out of range.\n",
    "10.KeyError\t                        Raised when a dictionary key is not found.\n",
    "11.MemoryError\t                        Raised when an operation runs out of memory.\n",
    "12.NameError\t                        Raised when a local or global name is not found.\n",
    "13.OSError\t                            Raised when a system-related operation (like file I/O) fails.\n",
    "14.TypeError\t                        Raised when an operation or function is applied to an object of inappropriate type.\n",
    "15.ValueError\t                        Raised when a function receives an argument of the right type but inappropriate value.\n",
    "16.ImportError\t                        Raised when an import statement has issues.\n",
    "17.ModuleNotFoundError\t                Raised when a module cannot be found."
   ]
  },
  {
   "cell_type": "code",
   "execution_count": null,
   "id": "ae24b47c-af4a-4687-8c8e-9ad9c61ff262",
   "metadata": {},
   "outputs": [],
   "source": [
    "Advantages of Exception Handling:\n",
    "1) Improved program reliability: By handling exceptions properly, you can prevent your program from crashing or producing incorrect \n",
    "                                 results due to unexpected errors or input.\n",
    "2) Simplified error handling: Exception handling allows you to separate error handling code from the main program logic, making it \n",
    "                              easier to read and maintain your code.\n",
    "3) Cleaner code: With exception handling, you can avoid using complex conditional statements to check for errors, leading to cleaner\n",
    "                 and more readable code.\n",
    "4) Easier debugging: When an exception is raised, the Python interpreter prints a traceback that shows the exact location where the \n",
    "                     exception occurred, making it easier to debug your code.\n",
    "\n",
    "                                                                                                     \n",
    "Disadvantages of Exception Handling:\n",
    "1) Performance overhead: Exception handling can be slower than using conditional statements to check for errors, as the interpreter has \n",
    "                         to perform additional work to catch and handle the exception.\n",
    "2) Increased code complexity: Exception handling can make your code more complex, especially if you have to handle multiple types of \n",
    "                              exceptions or implement complex error handling logic.\n",
    "3) Possible security risks: Improperly handled exceptions can potentially reveal sensitive information or create security vulnerabilities in \n",
    "                            your code, so its important to handle exceptions carefully and avoid exposing too much information about your program."
   ]
  },
  {
   "cell_type": "code",
   "execution_count": 41,
   "id": "d66a7cb3-840b-44e4-af12-ed73e21254ec",
   "metadata": {},
   "outputs": [
    {
     "name": "stdout",
     "output_type": "stream",
     "text": [
      "Can't be divided by zero!\n"
     ]
    }
   ],
   "source": [
    "# Simple Exception Handling Example\n",
    "n = 10\n",
    "try:\n",
    "    res = n / 0  # This will raise a ZeroDivisionError\n",
    "    \n",
    "except ZeroDivisionError:\n",
    "    print(\"Can't be divided by zero!\")"
   ]
  },
  {
   "cell_type": "code",
   "execution_count": 48,
   "id": "a48a939a-0de6-45b4-bf9e-ef5679e6067f",
   "metadata": {},
   "outputs": [
    {
     "name": "stdout",
     "output_type": "stream",
     "text": [
      "Hello world\n"
     ]
    },
    {
     "ename": "ZeroDivisionError",
     "evalue": "division by zero",
     "output_type": "error",
     "traceback": [
      "\u001b[1;31m---------------------------------------------------------------------------\u001b[0m",
      "\u001b[1;31mZeroDivisionError\u001b[0m                         Traceback (most recent call last)",
      "Cell \u001b[1;32mIn[48], line 6\u001b[0m\n\u001b[0;32m      4\u001b[0m \u001b[38;5;66;03m# ZeroDivisionError (Exception)\u001b[39;00m\n\u001b[0;32m      5\u001b[0m n \u001b[38;5;241m=\u001b[39m \u001b[38;5;241m10\u001b[39m\n\u001b[1;32m----> 6\u001b[0m res \u001b[38;5;241m=\u001b[39m n \u001b[38;5;241m/\u001b[39m \u001b[38;5;241m0\u001b[39m\n",
      "\u001b[1;31mZeroDivisionError\u001b[0m: division by zero"
     ]
    }
   ],
   "source": [
    "# Syntax Error (Error)\n",
    "print(\"Hello world\") # Missing closing parenthesis\n",
    "\n",
    "# ZeroDivisionError (Exception)\n",
    "n = 10\n",
    "res = n / 0"
   ]
  },
  {
   "cell_type": "code",
   "execution_count": 50,
   "id": "e085dd2f-dc30-4362-b658-49ffda086fc0",
   "metadata": {},
   "outputs": [
    {
     "name": "stdout",
     "output_type": "stream",
     "text": [
      "You can't divide by zero!\n",
      "Execution complete.\n"
     ]
    }
   ],
   "source": [
    "try:\n",
    "    n = 0\n",
    "    res = 100 / n\n",
    "    \n",
    "except ZeroDivisionError:\n",
    "    print(\"You can't divide by zero!\")\n",
    "    \n",
    "except ValueError:\n",
    "    print(\"Enter a valid number!\")\n",
    "    \n",
    "else:\n",
    "    print(\"Result is\", res)\n",
    "    \n",
    "finally:\n",
    "    print(\"Execution complete.\")"
   ]
  },
  {
   "cell_type": "code",
   "execution_count": 54,
   "id": "2269dfd4-3cea-4aae-93b9-4a51bfb82f43",
   "metadata": {},
   "outputs": [
    {
     "name": "stdout",
     "output_type": "stream",
     "text": [
      "Not Valid!\n"
     ]
    }
   ],
   "source": [
    "#Catching Specific Exceptions\n",
    "\n",
    "try:\n",
    "    x = int(\"str\")  # This will cause ValueError\n",
    "    \n",
    "    #inverse\n",
    "    inv = 1 / x\n",
    "    \n",
    "except ValueError:\n",
    "    print(\"Not Valid!\")\n",
    "    \n",
    "except ZeroDivisionError:\n",
    "    print(\"Zero has no inverse!\")"
   ]
  },
  {
   "cell_type": "code",
   "execution_count": 56,
   "id": "91c1cc8e-a1de-4ff0-a659-5e63aa4397a2",
   "metadata": {},
   "outputs": [
    {
     "name": "stdout",
     "output_type": "stream",
     "text": [
      "Error invalid literal for int() with base 10: 'twenty'\n"
     ]
    }
   ],
   "source": [
    "a = [\"10\", \"twenty\", 30]  # Mixed list of integers and strings\n",
    "try:\n",
    "    total = int(a[0]) + int(a[1])  # 'twenty' cannot be converted to int\n",
    "    \n",
    "except (ValueError, TypeError) as e:\n",
    "    print(\"Error\", e)\n",
    "    \n",
    "except IndexError:\n",
    "    print(\"Index out of range.\")"
   ]
  },
  {
   "cell_type": "code",
   "execution_count": 58,
   "id": "b3d1dc3d-29bd-4aa0-9353-c703ab57116b",
   "metadata": {},
   "outputs": [
    {
     "name": "stdout",
     "output_type": "stream",
     "text": [
      "Something went wrong!\n"
     ]
    }
   ],
   "source": [
    "try:\n",
    "    # Simulate risky calculation: incorrect type operation\n",
    "    res = \"100\" / 20\n",
    "    \n",
    "except ArithmeticError:\n",
    "    print(\"Arithmetic problem.\")\n",
    "    \n",
    "except:\n",
    "    print(\"Something went wrong!\")"
   ]
  },
  {
   "cell_type": "code",
   "execution_count": 60,
   "id": "1fdb7ee9-9f74-4e0c-9f8f-4592bcda2098",
   "metadata": {},
   "outputs": [
    {
     "name": "stdout",
     "output_type": "stream",
     "text": [
      "Age cannot be negative.\n"
     ]
    }
   ],
   "source": [
    "def set(age):\n",
    "    if age < 0:\n",
    "        raise ValueError(\"Age cannot be negative.\")\n",
    "    print(f\"Age set to {age}\")\n",
    "\n",
    "try:\n",
    "    set(-5)\n",
    "except ValueError as e:\n",
    "    print(e)"
   ]
  },
  {
   "cell_type": "markdown",
   "id": "ef17117a-efbb-4006-815f-eb36e300c0aa",
   "metadata": {
    "jp-MarkdownHeadingCollapsed": true
   },
   "source": [
    "# File Handling in Python"
   ]
  },
  {
   "cell_type": "code",
   "execution_count": null,
   "id": "4096ba08-b70e-4b2a-9612-65594145298f",
   "metadata": {},
   "outputs": [],
   "source": [
    "File handling refers to the process of performing operations on a file such as creating, opening, reading, writing and closing it,\n",
    "through a programming interface. It involves managing the data flow between the program and the file system on the storage device, \n",
    "ensuring that data is handled safely and efficiently."
   ]
  },
  {
   "cell_type": "code",
   "execution_count": null,
   "id": "0f6feeca-7b1e-4ce1-b3e6-13f6add6ac10",
   "metadata": {},
   "outputs": [],
   "source": [
    "File Modes in Python\n",
    "When opening a file, we must specify the mode we want to which specifies what we want to do with the file. Here’s a table of the different modes available: Please refer File Mode in Python for examples of different modes.\n",
    "\n",
    "Mode\t           Description\t                                 Behavior\n",
    "\n",
    "1.r\t             Read-only mode.\t                            Opens the file for reading. File must exist; otherwise, it raises an error.\n",
    "2.rb\t             Read-only in binary mode.\t                Opens the file for reading binary data. File must exist; otherwise, it raises an error.\n",
    "3.r+\t             Read and write mode.\t                    Opens the file for both reading and writing. File must exist; otherwise, it raises an\n",
    "                                                                error.\n",
    "4.rb+\t             Read and write in binary mode.\t            Opens the file for both reading and writing binary data. File must exist; otherwise, \n",
    "                                                                it raises an error.\n",
    "5.w\t             Write mode.\t                                Opens the file for writing. Creates a new file or truncates the existing file.\n",
    "6.wb         \t     Write in binary mode.\t                    Opens the file for writing binary data. Creates a new file or truncates the existing \n",
    "                                                                file.\n",
    "7.w+\t             Write and read mode.\t                    Opens the file for both writing and reading. Creates a new file or truncates the\n",
    "                                                                existing file.\n",
    "8.wb+          \t Write and read in binary mode. \t            Opens the file for both writing and reading binary data. Creates a new file or\n",
    "                                                                truncates the existing file.\n",
    "9.a\t             Append mode.\t                                Opens the file for appending data. Creates a new file if it doesn't exist.\n",
    "10.ab\t             Append in binary mode.\t                    Opens the file for appending binary data. Creates a new file if it doesn't exist.\n",
    "11.a+\t             Append and read mode.\t                    Opens the file for appending and reading. Creates a new file if it doesn't exist.\n",
    "12.ab+\t             Append and read in binary mode.\t        Opens the file for appending and reading binary data. Creates a new file if it \n",
    "                                                                doesn't exist.\n",
    "13.x\t             Exclusive creation mode.\t                Creates a new file. Raises an error if the file already exists.\n",
    "14.xb\t             Exclusive creation in binary mode.\t        Creates a new binary file. Raises an error if the file already exists.\n",
    "15.x+\t   Exclusive creation with read and write mode.\t        Creates a new file for reading and writing. Raises an error if the file exists.\n",
    "16.xb+\tExclusive creation with read and write in binary mode.\tCreates a new binary file for reading and writing. Raises an error if the file exists."
   ]
  },
  {
   "cell_type": "code",
   "execution_count": null,
   "id": "463300e4-20f4-44cd-ac23-2d83ce0f372d",
   "metadata": {},
   "outputs": [],
   "source": [
    "Reading a File\n",
    "\n",
    "    Reading a file can be achieved by file.read() which reads the entire content of the file. After reading the file we can \n",
    "    close the file using file.close() which closes the file after reading it, which is necessary to free up system resources.\n",
    "\n",
    "Writing to a File\n",
    "    \n",
    "    Writing to a file is done using file.write() which writes the specified string to the file. If the file exists, its \n",
    "    content is erased. If it does not exist, a new file is created.\n",
    "    It is done using file.write() which adds the specified string to the end of the file without erasing its existing content.\n",
    "\n",
    "Closing a File\n",
    "\n",
    "    Closing a file is essential to ensure that all resources used by the file are properly released. file.close() method \n",
    "    closes the file and ensures that any changes made to the file are saved.\n",
    "    with statement is used for resource management. It ensures that file is properly closed after its suite finishes, even \n",
    "    if an exception is raised. with open() as method automatically handles closing the file once the block of code is exited, \n",
    "    even if an error occurs. This reduces the risk of file corruption and resource leakage."
   ]
  },
  {
   "cell_type": "code",
   "execution_count": null,
   "id": "a3cfc3d9-5da1-4b3b-9d1d-855581c122e2",
   "metadata": {},
   "outputs": [],
   "source": [
    "Advantages of File Handling in Python\n",
    "1. Versatility : File handling in Python allows us to perform a wide range of operations, such as creating, reading, writing,\n",
    "                 appending, renaming and deleting files.\n",
    "2. Flexibility : File handling in Python is highly flexible, as it allows us to work with different file types (e.g. text files,\n",
    "                 binary files, CSV files , etc.) and to perform different operations on files (e.g. read, write, append, etc.).\n",
    "3. User - friendly : Python provides a user-friendly interface for file handling, making it easy to create, read and manipulate files.\n",
    "4. Cross-platform : Python file-handling functions work across different platforms (e.g. Windows, Mac, Linux), allowing for seamless \n",
    "                    integration and compatibility.\n",
    "\n",
    "Disadvantages of File Handling in Python\n",
    "1. Error-prone: File handling operations in Python can be prone to errors, especially if the code is not carefully written or if there\n",
    "                are issues with the file system (e.g. file permissions, file locks, etc.).\n",
    "2. Security risks : File handling in Python can also pose security risks, especially if the program accepts user input that can be used \n",
    "                    to access or modify sensitive files on the system.\n",
    "3. Complexity : File handling in Python can be complex, especially when working with more advanced file formats or operations. Careful \n",
    "                attention must be paid to the code to ensure that files are handled properly and securely.\n",
    "4. Performance : File handling operations in Python can be slower than other programming languages, especially when dealing with large \n",
    "                 files or performing complex operations."
   ]
  },
  {
   "cell_type": "code",
   "execution_count": null,
   "id": "198b0390-e032-4f58-af09-78482fe3367c",
   "metadata": {},
   "outputs": [],
   "source": [
    "#Reading file\n",
    "\n",
    "file = open(\"geeks.txt\", \"r\")\n",
    "content = file.read()\n",
    "print(content)\n",
    "file.close()"
   ]
  },
  {
   "cell_type": "code",
   "execution_count": null,
   "id": "1dc961d6-b180-4794-b4ce-e7f1ade45193",
   "metadata": {},
   "outputs": [],
   "source": [
    "file = open(\"geeks.txt\", \"rb\")\n",
    "content = file.read()\n",
    "print(content)\n",
    "file.close()"
   ]
  },
  {
   "cell_type": "code",
   "execution_count": null,
   "id": "deb8b658-9857-4c10-8689-387208f76038",
   "metadata": {},
   "outputs": [],
   "source": [
    "#Writing to a file\n",
    "\n",
    "file = open(\"geeks.txt\", \"w\")\n",
    "file.write(\"Hello, World!\")\n",
    "file.close()"
   ]
  },
  {
   "cell_type": "code",
   "execution_count": null,
   "id": "4efa2de1-5530-4b12-bd67-ae475f90d3ed",
   "metadata": {},
   "outputs": [],
   "source": [
    "# Python code to illustrate append() mode\n",
    "file = open('geek.txt', 'a')\n",
    "file.write(\"This will add this line\")\n",
    "file.close()"
   ]
  },
  {
   "cell_type": "code",
   "execution_count": null,
   "id": "0180482f-5b2e-47a0-ac0b-ada259b8cf2d",
   "metadata": {},
   "outputs": [],
   "source": [
    "#Closing a file\n",
    "\n",
    "file = open(\"geeks.txt\", \"r\")\n",
    "# Perform file operations\n",
    "file.close()"
   ]
  },
  {
   "cell_type": "code",
   "execution_count": null,
   "id": "9b4336af-90c8-42df-b35c-c1e7a8f04465",
   "metadata": {},
   "outputs": [],
   "source": [
    "with open(\"geeks.txt\", \"r\") as file:\n",
    "    content = file.read()\n",
    "    print(content)"
   ]
  },
  {
   "cell_type": "code",
   "execution_count": null,
   "id": "635f1778-dc74-4f32-b7a3-76baf1bccfab",
   "metadata": {},
   "outputs": [],
   "source": [
    "try:\n",
    "    file = open(\"geeks.txt\", \"r\")\n",
    "    content = file.read()\n",
    "    print(content)\n",
    "finally:\n",
    "    file.close()"
   ]
  }
 ],
 "metadata": {
  "kernelspec": {
   "display_name": "Python [conda env:base] *",
   "language": "python",
   "name": "conda-base-py"
  },
  "language_info": {
   "codemirror_mode": {
    "name": "ipython",
    "version": 3
   },
   "file_extension": ".py",
   "mimetype": "text/x-python",
   "name": "python",
   "nbconvert_exporter": "python",
   "pygments_lexer": "ipython3",
   "version": "3.12.7"
  }
 },
 "nbformat": 4,
 "nbformat_minor": 5
}
